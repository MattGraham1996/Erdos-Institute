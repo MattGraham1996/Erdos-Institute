{
 "cells": [
  {
   "cell_type": "markdown",
   "metadata": {},
   "source": [
    "# Reading and Writing to a File\n",
    "\n",
    "Sometimes you may want to read and write data from and to a file, for example like a .csv or .txt file.\n",
    "\n",
    "While, we'll learn some fancier ways to do this later on, it can also be useful to know how to do it using base python (i.e. not having to install/import fancy packages).\n",
    "\n",
    "In this short notebook we'll introduce `file` objects in python, if you're interested, here's a link to the python documentation on `file` objects, <a href=\"https://docs.python.org/3/tutorial/inputoutput.html#reading-and-writing-files\">https://docs.python.org/3/tutorial/inputoutput.html#reading-and-writing-files</a>.\n",
    "\n",
    "\n",
    "#### A Note\n",
    "\n",
    "Before moving forward I want to remind you to be mindful of the order you run your code chunks in inside of `jupyter notebooks`. As we'll see in the rest of the notebook, some code needs to be run before/after other code to work properly."
   ]
  },
  {
   "cell_type": "markdown",
   "metadata": {},
   "source": [
    "## `file` Objects\n",
    "\n",
    "A `file` object in python is a way for you to read and write a file on your computer. You can either read a file, or write a file all from the comfort of your `jupyter notebook`!\n",
    "\n",
    "### Writing a `file` Object\n",
    "\n",
    "We'll start by seeing how to write to a file object."
   ]
  },
  {
   "cell_type": "code",
   "execution_count": 1,
   "metadata": {},
   "outputs": [],
   "source": [
    "## we'll store the object in the variable file\n",
    "## we open a file by calling open(file_name, open_method)\n",
    "## for example here we call open(\"new_file.txt\", \"w+\")\n",
    "file = open(\"new_file.txt\", \"w+\")"
   ]
  },
  {
   "cell_type": "markdown",
   "metadata": {},
   "source": [
    "Go to your repository. After running that code you should see the file, `new_file.txt`, show up. Why? When we call `open(\"new_file.txt, \"w+\")` it tells our computer to open the file, `new_file.txt`, and the `w+` tells python that we want to write on it. Specifically the `+` tells python that if this file doesn't exist we want to create it. \n",
    "\n",
    "If we left off the `+` we would have received a file not found error, but now that we've created the file we can open it whenever we want. Let's try below."
   ]
  },
  {
   "cell_type": "code",
   "execution_count": 2,
   "metadata": {},
   "outputs": [],
   "source": [
    "## first we must CLOSE the file\n",
    "## this is an important step anytime\n",
    "## you're done with a file, if you neglect\n",
    "## to close the file your compute will just keep \n",
    "## all of the files open until you close the \n",
    "## jupyter notebook\n",
    "file.close()"
   ]
  },
  {
   "cell_type": "code",
   "execution_count": 3,
   "metadata": {},
   "outputs": [],
   "source": [
    "## now we'll reopen the file, but without the \"+\"\n",
    "file = open(\"new_file.txt\", \"w\")"
   ]
  },
  {
   "cell_type": "code",
   "execution_count": 4,
   "metadata": {},
   "outputs": [],
   "source": [
    "## once a file is open in \"w\"rite mode\n",
    "## we can write to it with file.write(string)\n",
    "file.write(\"Now my file has a line in it.\\n\")\n",
    "\n",
    "## the \\n at the end of that line tells python to\n",
    "## make a \"newline\" in the file\n",
    "## let's write a second line\n",
    "file.write(\"This is the second line in the file.\\n\")\n",
    "\n",
    "## I'm done with the file for now, \n",
    "## let's close it.\n",
    "file.close()"
   ]
  },
  {
   "cell_type": "markdown",
   "metadata": {},
   "source": [
    "Before moving on to the next code chunk open up the file and check to see if it wrote what we told it to."
   ]
  },
  {
   "cell_type": "code",
   "execution_count": 5,
   "metadata": {},
   "outputs": [],
   "source": [
    "## You code\n",
    "## open the file in write mode\n",
    "## write the line \"A third line, might be fine\"\n",
    "## close the file when you're done\n",
    "\n",
    "\n",
    "\n"
   ]
  },
  {
   "cell_type": "markdown",
   "metadata": {},
   "source": [
    "Now open your file again. What happened?\n",
    "\n",
    "The `w` command tells your computer to overwrite any existing data that was there.\n",
    "\n",
    "If we want to append to our file after it has been created we must open with `a`, which stands for \"a\"ppend."
   ]
  },
  {
   "cell_type": "code",
   "execution_count": 6,
   "metadata": {},
   "outputs": [],
   "source": [
    "## opening the file with \"a\" instead of \"w\"\n",
    "## tells python we want to append lines to the\n",
    "## file instead of overwrite the existing content\n",
    "file = open(\"new_file.txt\", \"a\")\n",
    "\n",
    "file.write(\"A new line, we won't overwrite the old lines this time!\")\n",
    "\n",
    "file.close()"
   ]
  },
  {
   "cell_type": "markdown",
   "metadata": {},
   "source": [
    "Check it one more time! Did I lie to you?"
   ]
  },
  {
   "cell_type": "code",
   "execution_count": 7,
   "metadata": {},
   "outputs": [],
   "source": [
    "## You code\n",
    "## Create a .csv file called \"my_first_data.csv\"\n",
    "## write a line of column names\n",
    "## \"x\",\"y\",\"z\"\n",
    "## don't close the file yet\n",
    "## Hint: don't forget the \\n!\n",
    "\n",
    "\n"
   ]
  },
  {
   "cell_type": "code",
   "execution_count": 8,
   "metadata": {},
   "outputs": [],
   "source": [
    "## You code\n",
    "## use a loop to write the following corresponding data\n",
    "## in the correct order,\n",
    "## you can close it when you're done\n",
    "## also separate the x, y and z values with commas\n",
    "x = [1,2,3,4]\n",
    "y = [2,4,6,8]\n",
    "z = [1,8,27,64]\n",
    "\n",
    "## code here\n",
    "## hint you'll have to cast the contents of x, y and z\n",
    "## as strs before writing them to file\n",
    "## don't forget the \\n!\n",
    "\n",
    "\n"
   ]
  },
  {
   "cell_type": "markdown",
   "metadata": {},
   "source": [
    "Open your file and compare it with `check_data_file.csv` to make sure it matches."
   ]
  },
  {
   "cell_type": "markdown",
   "metadata": {},
   "source": [
    "### Reading a `file` Object\n",
    "\n",
    "Now let's suppose that we have a file that contains data you would like to read in. Instead of `open(file_name,\"w\")` or `open(file_name,\"a\")`, you write `open(file_name,\"r\")`. You can then read the content with `.read()`. Let's see."
   ]
  },
  {
   "cell_type": "code",
   "execution_count": 9,
   "metadata": {},
   "outputs": [],
   "source": [
    "## open the file to read it with \"r\"\n",
    "file = open(\"new_file.txt\", \"r\")\n",
    "\n",
    "print(file.read())"
   ]
  },
  {
   "cell_type": "code",
   "execution_count": 10,
   "metadata": {},
   "outputs": [],
   "source": [
    "## You code\n",
    "## try to reread the file's contents using .read()\n",
    "\n",
    "\n"
   ]
  },
  {
   "cell_type": "markdown",
   "metadata": {},
   "source": [
    "What happened?\n",
    "\n",
    "When we called `read()` on our file object the cursor of the object went through all the text and returned it to us, but this process left the cursor at the end of the file's text. Here we can think of the cursor as our own eyeballs. Once you've read through all of the text on a page, your eyes will be looking at the end of the page.\n",
    "\n",
    "In order to call `read()` again and return all the text we'll need to return our cursor back to the begining of the document (i.e. point our eyes back at the top of the page). This is done with a `seek()` call."
   ]
  },
  {
   "cell_type": "code",
   "execution_count": 11,
   "metadata": {},
   "outputs": [
    {
     "data": {
      "text/plain": [
       "0"
      ]
     },
     "execution_count": 11,
     "metadata": {},
     "output_type": "execute_result"
    }
   ],
   "source": [
    "## Go back to the 0th item in the string\n",
    "## aka the beginning of the file's contents\n",
    "file.seek(0)"
   ]
  },
  {
   "cell_type": "code",
   "execution_count": 12,
   "metadata": {},
   "outputs": [],
   "source": [
    "## You code\n",
    "## let's try this again store the output of file.read()\n",
    "## in a variable called file_text\n",
    "\n",
    "\n"
   ]
  },
  {
   "cell_type": "code",
   "execution_count": 13,
   "metadata": {},
   "outputs": [],
   "source": [
    "## You code\n",
    "## print file_text with a print statement to check it worked\n",
    "\n",
    "\n",
    "\n"
   ]
  },
  {
   "cell_type": "code",
   "execution_count": 14,
   "metadata": {},
   "outputs": [],
   "source": [
    "## close the file\n",
    "file.close()"
   ]
  },
  {
   "cell_type": "code",
   "execution_count": 15,
   "metadata": {},
   "outputs": [],
   "source": [
    "## You code\n",
    "## open your file \"my_first_data.csv\" in \"r\"ead mode\n"
   ]
  },
  {
   "cell_type": "code",
   "execution_count": 16,
   "metadata": {},
   "outputs": [],
   "source": [
    "## You code\n",
    "## see what the readlines() command does\n",
    "\n"
   ]
  },
  {
   "cell_type": "code",
   "execution_count": 17,
   "metadata": {},
   "outputs": [],
   "source": [
    "## close the file\n"
   ]
  },
  {
   "cell_type": "markdown",
   "metadata": {},
   "source": [
    "That's all we'll need to know about reading and writing files using base python for the boot camp, I hope you enjoyed it!"
   ]
  },
  {
   "cell_type": "markdown",
   "metadata": {},
   "source": [
    "This notebook was written for the Erd&#337;s Institute C&#337;de Data Science Boot Camp by Matthew Osborne, Ph. D., 2021.\n",
    "\n",
    "Redistribution of the material contained in this repository is conditional on acknowledgement of Matthew Tyler Osborne, Ph.D.'s original authorship and sponsorship of the Erdős Institute as subject to the license (see License.md)"
   ]
  },
  {
   "cell_type": "code",
   "execution_count": null,
   "metadata": {},
   "outputs": [],
   "source": []
  }
 ],
 "metadata": {
  "kernelspec": {
   "display_name": "Python 3",
   "language": "python",
   "name": "python3"
  },
  "language_info": {
   "codemirror_mode": {
    "name": "ipython",
    "version": 3
   },
   "file_extension": ".py",
   "mimetype": "text/x-python",
   "name": "python",
   "nbconvert_exporter": "python",
   "pygments_lexer": "ipython3",
   "version": "3.7.4"
  }
 },
 "nbformat": 4,
 "nbformat_minor": 2
}
