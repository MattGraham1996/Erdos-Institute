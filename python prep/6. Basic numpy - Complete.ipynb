{
 "cells": [
  {
   "cell_type": "markdown",
   "metadata": {},
   "source": [
    "# Basic `numpy`\n",
    "\n",
    "`numpy` is a python package that is a real workhorse of machine learning and data science.\n",
    "\n",
    "If you're new to python, this will be the first true package you'll import. That being said we should check that you have the package installed, try to run the following code chunk. (Note if you installed the Anaconda platform, <a href=\"https://www.anaconda.com/\">https://www.anaconda.com/</a>, `numpy` should be installed already)."
   ]
  },
  {
   "cell_type": "code",
   "execution_count": 1,
   "metadata": {},
   "outputs": [],
   "source": [
    "## it is standard to import numpy as np\n",
    "import numpy as np"
   ]
  },
  {
   "cell_type": "code",
   "execution_count": 2,
   "metadata": {},
   "outputs": [
    {
     "name": "stdout",
     "output_type": "stream",
     "text": [
      "1.20.1\n"
     ]
    }
   ],
   "source": [
    "## let's check what version of numpy you have\n",
    "## when I wrote this I had version 1.20.1\n",
    "## yours may be different\n",
    "print(np.__version__)"
   ]
  },
  {
   "cell_type": "markdown",
   "metadata": {},
   "source": [
    "If you had a version of `numpy` installed, both of those code chunks should have run fine for you. If not, you will need to install it onto your machine because we will be using it heavily in the boot camp. For installation instructions check out the `numpy` documentation here, <a href=\"https://numpy.org/install/\">https://numpy.org/install/</a>. \n",
    "\n",
    "##### Be sure you can run both of the above code chunks before continuing with this notebook, again it should be fine if your package version is slightly different than mine."
   ]
  },
  {
   "cell_type": "markdown",
   "metadata": {},
   "source": [
    "## `numpy`'s ndarray\n",
    "\n",
    "While base python likes to store data in objects like `list`s and `tuple`s, in `numpy` data is stored in an `ndarray` it is similar to a list, but has a number of features that make it more useful for numeric data manipulation in a number of data science applications."
   ]
  },
  {
   "cell_type": "code",
   "execution_count": 3,
   "metadata": {},
   "outputs": [
    {
     "name": "stdout",
     "output_type": "stream",
     "text": [
      "[1 2 3 4]\n",
      "\n",
      "<class 'numpy.ndarray'>\n"
     ]
    }
   ],
   "source": [
    "## You can make an array with np.array\n",
    "## You just put np.array() around a python list or tuple\n",
    "array1 = np.array([1,2,3,4])\n",
    "print(array1)\n",
    "print()\n",
    "print(type(array1))"
   ]
  },
  {
   "cell_type": "markdown",
   "metadata": {},
   "source": [
    "`numpy` `ndarray`s can have any finite number of dimensions. This can be constructed by wrapping `np.array` around a `list` of `list`s."
   ]
  },
  {
   "cell_type": "code",
   "execution_count": 4,
   "metadata": {},
   "outputs": [
    {
     "name": "stdout",
     "output_type": "stream",
     "text": [
      "[[1 2]\n",
      " [2 1]]\n",
      "\n",
      "array2 is a (2, 2) ndarray\n"
     ]
    }
   ],
   "source": [
    "## this produces a 2-dimensional array\n",
    "## it is a 2x2 array\n",
    "array2 = np.array([[1,2],[2,1]])\n",
    "print(array2)\n",
    "print()\n",
    "\n",
    "## we can check the array's dimensions with np.shape()\n",
    "## np.shape() returns a tuple with the size of each dimension\n",
    "## array2 should be a 2 by 2 array\n",
    "print(\"array2 is a\",np.shape(array2),\"ndarray\")"
   ]
  },
  {
   "cell_type": "code",
   "execution_count": 6,
   "metadata": {},
   "outputs": [
    {
     "data": {
      "text/plain": [
       "(2, 2)"
      ]
     },
     "execution_count": 6,
     "metadata": {},
     "output_type": "execute_result"
    }
   ],
   "source": [
    "array2.shape"
   ]
  },
  {
   "cell_type": "code",
   "execution_count": 8,
   "metadata": {},
   "outputs": [
    {
     "data": {
      "text/plain": [
       "(2, 2, 2)"
      ]
     },
     "execution_count": 8,
     "metadata": {},
     "output_type": "execute_result"
    }
   ],
   "source": [
    "## You code\n",
    "## Try making a 2x2x2 array\n",
    "np.array([[[2,2],[2,2]],[[1,1],[1,1]]]).shape\n"
   ]
  },
  {
   "cell_type": "code",
   "execution_count": 10,
   "metadata": {},
   "outputs": [
    {
     "data": {
      "text/plain": [
       "(2, 2, 2, 2)"
      ]
     },
     "execution_count": 10,
     "metadata": {},
     "output_type": "execute_result"
    }
   ],
   "source": [
    "## You code \n",
    "## Try making a 2x2x2x2 array\n",
    "np.array([[[[2,2], [2,2]], [[3,3], [3,3]]], [[[4,4],[4,4]] , [[5,5], [5,5]]]]).shape\n"
   ]
  },
  {
   "cell_type": "markdown",
   "metadata": {},
   "source": [
    "### `ndarray` Functions\n",
    "\n",
    "#### Vectorized Operations\n",
    "\n",
    "`ndarray`s are nice because, for the most part, they work the way you'd expect a vector or matrix to work. Let's compare and contrast with python's `list`s."
   ]
  },
  {
   "cell_type": "code",
   "execution_count": 11,
   "metadata": {},
   "outputs": [
    {
     "data": {
      "text/plain": [
       "[1, 2, 3, 4, 1, 2, 3, 4]"
      ]
     },
     "execution_count": 11,
     "metadata": {},
     "output_type": "execute_result"
    }
   ],
   "source": [
    "## You code\n",
    "## see what happens when you code up 2*list1\n",
    "list1 = [1,2,3,4]\n",
    "\n",
    "2*list1"
   ]
  },
  {
   "cell_type": "code",
   "execution_count": 12,
   "metadata": {},
   "outputs": [
    {
     "data": {
      "text/plain": [
       "array([2, 4, 6, 8])"
      ]
     },
     "execution_count": 12,
     "metadata": {},
     "output_type": "execute_result"
    }
   ],
   "source": [
    "## You code\n",
    "## Now compare it to 2*array1\n",
    "2*array1"
   ]
  },
  {
   "cell_type": "code",
   "execution_count": 13,
   "metadata": {},
   "outputs": [
    {
     "data": {
      "text/plain": [
       "[1, 2, 3, 4]"
      ]
     },
     "execution_count": 13,
     "metadata": {},
     "output_type": "execute_result"
    }
   ],
   "source": [
    "## You code\n",
    "## what happens here\n",
    "[1,2] + [3,4]"
   ]
  },
  {
   "cell_type": "code",
   "execution_count": 14,
   "metadata": {},
   "outputs": [
    {
     "data": {
      "text/plain": [
       "array([4, 6])"
      ]
     },
     "execution_count": 14,
     "metadata": {},
     "output_type": "execute_result"
    }
   ],
   "source": [
    "## You code\n",
    "## code up the comparable ndarray expression\n",
    "## and see what happens\n",
    "np.array([1,2]) + np.array([3,4])"
   ]
  },
  {
   "cell_type": "code",
   "execution_count": 15,
   "metadata": {},
   "outputs": [
    {
     "ename": "TypeError",
     "evalue": "can only concatenate list (not \"int\") to list",
     "output_type": "error",
     "traceback": [
      "\u001b[0;31m---------------------------------------------------------------------------\u001b[0m",
      "\u001b[0;31mTypeError\u001b[0m                                 Traceback (most recent call last)",
      "\u001b[0;32m<ipython-input-15-d0800b2dc131>\u001b[0m in \u001b[0;36m<module>\u001b[0;34m\u001b[0m\n\u001b[1;32m      1\u001b[0m \u001b[0;31m## You code\u001b[0m\u001b[0;34m\u001b[0m\u001b[0;34m\u001b[0m\u001b[0;34m\u001b[0m\u001b[0m\n\u001b[1;32m      2\u001b[0m \u001b[0;31m## Finally what happens here?\u001b[0m\u001b[0;34m\u001b[0m\u001b[0;34m\u001b[0m\u001b[0;34m\u001b[0m\u001b[0m\n\u001b[0;32m----> 3\u001b[0;31m \u001b[0my\u001b[0m \u001b[0;34m=\u001b[0m \u001b[0;36m3\u001b[0m\u001b[0;34m*\u001b[0m\u001b[0;34m[\u001b[0m\u001b[0;36m1\u001b[0m\u001b[0;34m,\u001b[0m\u001b[0;36m2\u001b[0m\u001b[0;34m,\u001b[0m\u001b[0;36m3\u001b[0m\u001b[0;34m]\u001b[0m \u001b[0;34m+\u001b[0m \u001b[0;36m2\u001b[0m\u001b[0;34m\u001b[0m\u001b[0;34m\u001b[0m\u001b[0m\n\u001b[0m",
      "\u001b[0;31mTypeError\u001b[0m: can only concatenate list (not \"int\") to list"
     ]
    }
   ],
   "source": [
    "## You code\n",
    "## Finally what happens here?\n",
    "y = 3*[1,2,3] + 2"
   ]
  },
  {
   "cell_type": "code",
   "execution_count": 16,
   "metadata": {},
   "outputs": [],
   "source": [
    "## You code\n",
    "## try the comparable ndarray expression\n",
    "y = 3*np.array([1,2,3]) + 2"
   ]
  },
  {
   "cell_type": "code",
   "execution_count": 17,
   "metadata": {},
   "outputs": [
    {
     "data": {
      "text/plain": [
       "array([ 5,  8, 11])"
      ]
     },
     "execution_count": 17,
     "metadata": {},
     "output_type": "execute_result"
    }
   ],
   "source": [
    "y"
   ]
  },
  {
   "cell_type": "markdown",
   "metadata": {},
   "source": [
    "### Built-In `numpy` Functions\n",
    "\n",
    "`numpy` also has a number of built-in functions that provide useful mathematical operations on arrays. Let's look at some examples."
   ]
  },
  {
   "cell_type": "code",
   "execution_count": 18,
   "metadata": {},
   "outputs": [
    {
     "name": "stdout",
     "output_type": "stream",
     "text": [
      "[-2  0  2]\n"
     ]
    }
   ],
   "source": [
    "y = 2*np.array([1,2,3]) - 4\n",
    "print(y)"
   ]
  },
  {
   "cell_type": "code",
   "execution_count": 19,
   "metadata": {},
   "outputs": [
    {
     "data": {
      "text/plain": [
       "array([2, 0, 2])"
      ]
     },
     "execution_count": 19,
     "metadata": {},
     "output_type": "execute_result"
    }
   ],
   "source": [
    "## absolute value\n",
    "np.abs(y)"
   ]
  },
  {
   "cell_type": "code",
   "execution_count": 20,
   "metadata": {},
   "outputs": [
    {
     "data": {
      "text/plain": [
       "array([-8,  0,  8])"
      ]
     },
     "execution_count": 20,
     "metadata": {},
     "output_type": "execute_result"
    }
   ],
   "source": [
    "## raising each entry to a power\n",
    "np.power(y,3)"
   ]
  },
  {
   "cell_type": "code",
   "execution_count": 21,
   "metadata": {},
   "outputs": [
    {
     "data": {
      "text/plain": [
       "array([1.41421356, 0.        , 1.41421356])"
      ]
     },
     "execution_count": 21,
     "metadata": {},
     "output_type": "execute_result"
    }
   ],
   "source": [
    "## the square root\n",
    "np.sqrt(np.abs(y))"
   ]
  },
  {
   "cell_type": "code",
   "execution_count": 23,
   "metadata": {},
   "outputs": [
    {
     "data": {
      "text/plain": [
       "array([  20.08553692,   55.29129721,  149.51177139,  404.81508785,\n",
       "       1098.24259634])"
      ]
     },
     "execution_count": 23,
     "metadata": {},
     "output_type": "execute_result"
    }
   ],
   "source": [
    "## You code\n",
    "## using np.exp define y to be \n",
    "## e^(x+3) + log(|x|+1)\n",
    "## https://numpy.org/doc/stable/reference/generated/numpy.exp.html\n",
    "## https://numpy.org/doc/stable/reference/generated/numpy.log.html\n",
    "x = np.array([0,1,2,3,4])\n",
    "\n",
    "y = np.exp(x+3) + np.log(np.abs(x) + 1)\n",
    "\n",
    "y"
   ]
  },
  {
   "cell_type": "code",
   "execution_count": 24,
   "metadata": {},
   "outputs": [
    {
     "data": {
      "text/plain": [
       "1727.946289722884"
      ]
     },
     "execution_count": 24,
     "metadata": {},
     "output_type": "execute_result"
    }
   ],
   "source": [
    "## You can sum all of the entries of an array with\n",
    "## np.sum\n",
    "np.sum(y)"
   ]
  },
  {
   "cell_type": "markdown",
   "metadata": {},
   "source": [
    "### Preset `numpy` Arrays\n",
    "\n",
    "There are a number of standard array types that you'll want to use, that can be quickly generated."
   ]
  },
  {
   "cell_type": "code",
   "execution_count": 25,
   "metadata": {},
   "outputs": [
    {
     "name": "stdout",
     "output_type": "stream",
     "text": [
      "[1.]\n",
      "\n",
      "[[1. 1. 1. 1. 1. 1. 1. 1. 1. 1.]\n",
      " [1. 1. 1. 1. 1. 1. 1. 1. 1. 1.]\n",
      " [1. 1. 1. 1. 1. 1. 1. 1. 1. 1.]\n",
      " [1. 1. 1. 1. 1. 1. 1. 1. 1. 1.]]\n",
      "\n",
      "[[[1. 1.]\n",
      "  [1. 1.]]\n",
      "\n",
      " [[1. 1.]\n",
      "  [1. 1.]]]\n"
     ]
    }
   ],
   "source": [
    "## np.ones(shape) makes an array of all ones of the desired shape\n",
    "print(np.ones(1))\n",
    "\n",
    "print()\n",
    "\n",
    "print(np.ones((4,10)))\n",
    "\n",
    "print()\n",
    "\n",
    "print(np.ones((2,2,2)))"
   ]
  },
  {
   "cell_type": "code",
   "execution_count": 26,
   "metadata": {},
   "outputs": [
    {
     "name": "stdout",
     "output_type": "stream",
     "text": [
      "[0. 0. 0. 0.]\n",
      "\n",
      "[[0. 0. 0. 0. 0. 0. 0. 0. 0. 0. 0. 0. 0. 0. 0. 0. 0.]\n",
      " [0. 0. 0. 0. 0. 0. 0. 0. 0. 0. 0. 0. 0. 0. 0. 0. 0.]]\n",
      "\n",
      "[[[[0. 0.]\n",
      "   [0. 0.]]\n",
      "\n",
      "  [[0. 0.]\n",
      "   [0. 0.]]\n",
      "\n",
      "  [[0. 0.]\n",
      "   [0. 0.]]]\n",
      "\n",
      "\n",
      " [[[0. 0.]\n",
      "   [0. 0.]]\n",
      "\n",
      "  [[0. 0.]\n",
      "   [0. 0.]]\n",
      "\n",
      "  [[0. 0.]\n",
      "   [0. 0.]]]\n",
      "\n",
      "\n",
      " [[[0. 0.]\n",
      "   [0. 0.]]\n",
      "\n",
      "  [[0. 0.]\n",
      "   [0. 0.]]\n",
      "\n",
      "  [[0. 0.]\n",
      "   [0. 0.]]]]\n"
     ]
    }
   ],
   "source": [
    "## You code\n",
    "## np.zeros(shape) is similar to np.ones, but instead of 1s\n",
    "## it makes an array of 0s\n",
    "## print 3 arrays of zeros, \n",
    "## one that is a single dimension of size 4\n",
    "print(np.zeros(4))\n",
    "print()\n",
    "\n",
    "\n",
    "## one that is 2x17\n",
    "print(np.zeros((2,17)))\n",
    "print()\n",
    "\n",
    "## one that is 3x3x2x2\n",
    "print(np.zeros((3,3,2,2)))"
   ]
  },
  {
   "cell_type": "markdown",
   "metadata": {},
   "source": [
    "## `numpy` for Pseudorandomness\n",
    "\n",
    "`numpy` is useful for generating pseudorandom numbers as well. We can look at common statistics of arrays too.\n",
    "\n",
    "The pseudorandom functionality is stored in the `random` subpackage of `numpy`."
   ]
  },
  {
   "cell_type": "code",
   "execution_count": 28,
   "metadata": {},
   "outputs": [
    {
     "name": "stdout",
     "output_type": "stream",
     "text": [
      "0.5499297506671484\n",
      "\n",
      "A (10,2) uniform random array:\n",
      " [[0.01067491 0.53354777]\n",
      " [0.90252621 0.40273817]\n",
      " [0.84062912 0.17308125]\n",
      " [0.1314052  0.3236986 ]\n",
      " [0.48533815 0.22934813]\n",
      " [0.33913055 0.28131486]\n",
      " [0.02762517 0.86202552]\n",
      " [0.42172206 0.02414466]\n",
      " [0.31588949 0.92778467]\n",
      " [0.93770192 0.87570943]]\n"
     ]
    }
   ],
   "source": [
    "## random generators are stored in np.random\n",
    "## a np.random.random() gives a number selected uniformly\n",
    "## at random from [0,1]\n",
    "print(np.random.random())\n",
    "\n",
    "\n",
    "print()\n",
    "\n",
    "## You can get a random array of any shape as well\n",
    "print(\"A (10,2) uniform random array:\\n\", np.random.random((10,2)))"
   ]
  },
  {
   "cell_type": "code",
   "execution_count": 34,
   "metadata": {},
   "outputs": [
    {
     "name": "stdout",
     "output_type": "stream",
     "text": [
      "1.453250436464136\n",
      "\n"
     ]
    },
    {
     "data": {
      "text/plain": [
       "array([[ 1.63456346,  1.09572331],\n",
       "       [-0.9457799 ,  0.65247736],\n",
       "       [ 1.66958501, -1.05074294],\n",
       "       [ 0.79432778, -0.86461686],\n",
       "       [-0.85120551,  0.03929545],\n",
       "       [ 0.44185012, -0.59176059],\n",
       "       [ 0.93422495, -1.77544061],\n",
       "       [ 0.95318173, -0.55321241],\n",
       "       [-0.24695777, -0.16656458],\n",
       "       [-0.24696306, -2.21431291]])"
      ]
     },
     "execution_count": 34,
     "metadata": {},
     "output_type": "execute_result"
    }
   ],
   "source": [
    "## Another Example\n",
    "## np.random.randn() is a normal(0,1) number\n",
    "## a single draw\n",
    "print(np.random.randn())\n",
    "print()\n",
    "\n",
    "## an array of draws\n",
    "## note the slight difference here, we don't have to put\n",
    "## the 10 and 2 in a tuple to get a 10 by 2 array\n",
    "## numpy is slightly inconsistent in this area so always\n",
    "## check the docs to get it right\n",
    "np.random.randn(10,2)"
   ]
  },
  {
   "cell_type": "code",
   "execution_count": 35,
   "metadata": {},
   "outputs": [
    {
     "data": {
      "text/plain": [
       "array([[1, 2, 0, 0, 1, 2, 2, 1, 1, 1],\n",
       "       [0, 2, 3, 1, 2, 0, 2, 2, 1, 0],\n",
       "       [1, 2, 1, 0, 2, 0, 2, 0, 2, 1],\n",
       "       [1, 1, 2, 1, 0, 1, 1, 2, 0, 1],\n",
       "       [0, 2, 2, 1, 3, 1, 0, 2, 1, 1],\n",
       "       [1, 0, 3, 1, 1, 2, 3, 2, 2, 1],\n",
       "       [0, 1, 1, 2, 2, 1, 0, 0, 1, 0],\n",
       "       [1, 0, 2, 0, 1, 3, 0, 0, 0, 2],\n",
       "       [0, 2, 1, 2, 0, 3, 0, 1, 0, 1],\n",
       "       [2, 1, 1, 1, 2, 1, 1, 1, 0, 1]])"
      ]
     },
     "execution_count": 35,
     "metadata": {},
     "output_type": "execute_result"
    }
   ],
   "source": [
    "## A third example\n",
    "## np.random.binomial()\n",
    "## an array of binomial(n,p) outcomes\n",
    "np.random.binomial(n=4, p=.3, size=(10,10))"
   ]
  },
  {
   "cell_type": "code",
   "execution_count": 36,
   "metadata": {},
   "outputs": [],
   "source": [
    "## You code\n",
    "## make a 20 by 3 array of random normal draws\n",
    "## call it X\n",
    "X = np.random.randn(20, 3)"
   ]
  },
  {
   "cell_type": "code",
   "execution_count": 37,
   "metadata": {},
   "outputs": [
    {
     "data": {
      "text/plain": [
       "array([[ 1.91689484, -1.39115083, -0.72579715],\n",
       "       [ 1.08306514, -1.13944013, -0.13582487],\n",
       "       [ 2.15741529,  0.02944624, -0.05572511],\n",
       "       [-1.09636646,  0.84559134, -1.27105425],\n",
       "       [ 0.30588328, -0.04391596,  0.62040803],\n",
       "       [ 0.93042885,  0.4307268 ,  0.57669937],\n",
       "       [-0.04064477,  0.89346606,  0.01282924],\n",
       "       [-1.11980401,  0.94205175,  0.13892395],\n",
       "       [-0.16325147, -0.68745897,  0.30545711],\n",
       "       [-1.70344919,  1.75193739, -0.2871085 ],\n",
       "       [-0.41905155,  0.01349732,  0.89064638],\n",
       "       [-1.26419918,  0.27804207, -0.95909097],\n",
       "       [ 0.86593183, -0.57811223, -0.88223366],\n",
       "       [ 0.45018136, -0.07566053, -1.17863914],\n",
       "       [-0.36492433,  1.13261636,  1.68142154],\n",
       "       [ 1.05602769,  1.19335561, -0.60624916],\n",
       "       [-1.47731755,  0.55081521,  0.01462613],\n",
       "       [-0.49250544, -1.44140709,  1.10599684],\n",
       "       [ 0.13218436,  0.75654061,  0.78062486],\n",
       "       [ 0.27389533, -0.95449702, -0.60303777]])"
      ]
     },
     "execution_count": 37,
     "metadata": {},
     "output_type": "execute_result"
    }
   ],
   "source": [
    "X"
   ]
  },
  {
   "cell_type": "markdown",
   "metadata": {},
   "source": [
    "Now that you have a data matrix, `X`. Let's compute some summary statistics about `X`."
   ]
  },
  {
   "cell_type": "code",
   "execution_count": 40,
   "metadata": {},
   "outputs": [
    {
     "name": "stdout",
     "output_type": "stream",
     "text": [
      "The overall mean of X is 0.04932851453942241\n",
      "\n",
      "The column means of X are [ 0.0515197   0.1253222  -0.02885636]\n",
      "\n",
      "The row means of X are [-0.06668438 -0.06406662  0.7103788  -0.50727646  0.29412511  0.64595167\n",
      "  0.28855018 -0.01294277 -0.18175111 -0.0795401   0.16169738 -0.64841603\n",
      " -0.19813802 -0.26803944  0.81637119  0.54771138 -0.30395874 -0.27597189\n",
      "  0.55644994 -0.42787982]\n",
      "\n"
     ]
    }
   ],
   "source": [
    "## You can get the mean of all the entries of X with np.mean\n",
    "print(\"The overall mean of X is\", np.mean(X))\n",
    "print()\n",
    "\n",
    "## Adding in the argument \"axis = \" allows you to get\n",
    "## the mean of each column\n",
    "print(\"The column means of X are\", np.mean(X, axis=0))\n",
    "print()\n",
    "\n",
    "## and the mean of each row\n",
    "print(\"The row means of X are\", np.mean(X, axis=1))\n",
    "print()\n",
    "\n",
    "## the axis argument tells numpy the axis or axes along \n",
    "## which the means are computed.\n",
    "## so axis = 0 adds up the values in each row position\n",
    "## and divides by the number of rows\n",
    "\n",
    "## If you find this confusing, don't worry, I do too"
   ]
  },
  {
   "cell_type": "code",
   "execution_count": 41,
   "metadata": {},
   "outputs": [
    {
     "name": "stdout",
     "output_type": "stream",
     "text": [
      "The row sums of X are [-0.20005314 -0.19219986  2.13113641 -1.52182937  0.88237534  1.93785502\n",
      "  0.86565054 -0.03882831 -0.54525333 -0.2386203   0.48509215 -1.94524808\n",
      " -0.59441407 -0.80411831  2.44911357  1.64313414 -0.91187621 -0.82791568\n",
      "  1.66934982 -1.28363946]\n",
      "\n",
      "The column sums of X are [ 1.03039402  2.506444   -0.57712715]\n"
     ]
    }
   ],
   "source": [
    "## You code\n",
    "## np.sum also has an axis argument\n",
    "## calculate the row sums and column sums of X\n",
    "print(\"The row sums of X are\", np.sum(X, axis=1))\n",
    "print()\n",
    "\n",
    "print(\"The column sums of X are\", np.sum(X, axis=0))\n",
    "\n",
    "\n"
   ]
  },
  {
   "cell_type": "markdown",
   "metadata": {},
   "source": [
    "Other common functions are `np.std()` for standard deviation, `np.var()` for variance, `np.min()` for min, `np.max()` for max, `np.argmin()` for where the min occurs, `np.argmax()` for where the max occurs."
   ]
  },
  {
   "cell_type": "code",
   "execution_count": 43,
   "metadata": {},
   "outputs": [
    {
     "name": "stdout",
     "output_type": "stream",
     "text": [
      "The location of the max in each column of X is [ 2  9 14]\n",
      "The max in each column of X is [2.15741529 1.75193739 1.68142154]\n"
     ]
    }
   ],
   "source": [
    "## You code\n",
    "## where does the max value occur in each column of X?\n",
    "print(\"The location of the max in each column of X is\",np.argmax(X, axis=0))\n",
    "\n",
    "\n",
    "## what is the max value in each column of X?\n",
    "print(\"The max in each column of X is\", np.max(X, axis=0))"
   ]
  },
  {
   "cell_type": "code",
   "execution_count": 44,
   "metadata": {},
   "outputs": [
    {
     "name": "stdout",
     "output_type": "stream",
     "text": [
      "[8 5 8 9 1 1 1 8 9 2]\n"
     ]
    },
    {
     "data": {
      "text/plain": [
       "array([ 8, 13, 21, 30, 31, 32, 33, 41, 50, 52])"
      ]
     },
     "execution_count": 44,
     "metadata": {},
     "output_type": "execute_result"
    }
   ],
   "source": [
    "## Another useful function is np.cumsum()\n",
    "\n",
    "## randint generates a random integer between the\n",
    "## first two arguments, the third argument tells numpy\n",
    "## how many random draws to perform\n",
    "x = np.random.randint(1,10,10)\n",
    "\n",
    "print(x)\n",
    "\n",
    "np.cumsum(x)\n",
    "\n",
    "## What do you think it does?"
   ]
  },
  {
   "cell_type": "markdown",
   "metadata": {},
   "source": [
    "## Linear Algebra with `numpy`\n",
    "\n",
    "A final important use for us is `numpy` as a way to perform linear algebra calculations.\n",
    "\n",
    "A bulk of data science algorithms use linear algebra, since we'll dive into the math behind the scenes of these algorithms we'll use `numpy`'s linear algebra capabilities.\n",
    "\n",
    "##### Note: If you're not a math heavy person, that's okay! I have written the boot camp's notebooks so that you don't need to understand the math to learn how to perform the algorithms we cover. I just like to cover the mathematical aspects of these data science algorithms to explain what is going on to those boot campers (like myself) that are interested in the mathematical/statistical underpinnings of the algorithms."
   ]
  },
  {
   "cell_type": "code",
   "execution_count": 45,
   "metadata": {},
   "outputs": [
    {
     "data": {
      "text/plain": [
       "array([[1, 4],\n",
       "       [4, 1]])"
      ]
     },
     "execution_count": 45,
     "metadata": {},
     "output_type": "execute_result"
    }
   ],
   "source": [
    "## We can think of a 2D array as a matrix\n",
    "A = np.random.binomial(n=10,p=.4,size=(2,2))\n",
    "\n",
    "A"
   ]
  },
  {
   "cell_type": "code",
   "execution_count": 46,
   "metadata": {},
   "outputs": [
    {
     "data": {
      "text/plain": [
       "array([1, 2])"
      ]
     },
     "execution_count": 46,
     "metadata": {},
     "output_type": "execute_result"
    }
   ],
   "source": [
    "## A 1d array can be a row vector\n",
    "x = np.array([1,2])\n",
    "x"
   ]
  },
  {
   "cell_type": "code",
   "execution_count": 49,
   "metadata": {},
   "outputs": [
    {
     "data": {
      "text/plain": [
       "array([[1],\n",
       "       [2]])"
      ]
     },
     "execution_count": 49,
     "metadata": {},
     "output_type": "execute_result"
    }
   ],
   "source": [
    "## or a column vector\n",
    "## reshape() will attempt to reshape your array into the given\n",
    "## shape\n",
    "\n",
    "## When one of the shape dimensions is -1, the value is inferred from \n",
    "## the length of the array and remaining dimensions.\n",
    "## so -1,1 tells numpy that you want a 2-D array with 1 column\n",
    "## and it should infer the number of rows from the original shape\n",
    "## of the array\n",
    "## Here this reshapes x as a 2x1 column vector\n",
    "x.reshape(-1,1)"
   ]
  },
  {
   "cell_type": "code",
   "execution_count": 50,
   "metadata": {},
   "outputs": [
    {
     "data": {
      "text/plain": [
       "array([[9],\n",
       "       [6]])"
      ]
     },
     "execution_count": 50,
     "metadata": {},
     "output_type": "execute_result"
    }
   ],
   "source": [
    "## We can now calculate A*x\n",
    "## matrix.dot() is used for matrix mult\n",
    "A.dot(x.reshape(-1,1))"
   ]
  },
  {
   "cell_type": "code",
   "execution_count": 51,
   "metadata": {},
   "outputs": [
    {
     "data": {
      "text/plain": [
       "array([[9.],\n",
       "       [8.],\n",
       "       [8.]])"
      ]
     },
     "execution_count": 51,
     "metadata": {},
     "output_type": "execute_result"
    }
   ],
   "source": [
    "## You code\n",
    "## make a 3-D column vector of ones, call it x\n",
    "x = np.ones((3,1))\n",
    "\n",
    "\n",
    "## Take that vector and find B*x\n",
    "B = np.random.binomial(n=5, p=.6, size=(3,3))\n",
    "\n",
    "\n",
    "B.dot(x)"
   ]
  },
  {
   "cell_type": "code",
   "execution_count": 52,
   "metadata": {},
   "outputs": [
    {
     "name": "stdout",
     "output_type": "stream",
     "text": [
      "[[4 3 2]\n",
      " [3 3 2]\n",
      " [3 3 2]]\n",
      "\n",
      "[[1.]\n",
      " [1.]\n",
      " [1.]]\n"
     ]
    }
   ],
   "source": [
    "print(B)\n",
    "\n",
    "print()\n",
    "\n",
    "print(x)"
   ]
  },
  {
   "cell_type": "code",
   "execution_count": 53,
   "metadata": {},
   "outputs": [],
   "source": [
    "## numpy.linalg contains a number of useful\n",
    "## matrix operations, let's import a few\n",
    "from numpy.linalg import inv, eig, det"
   ]
  },
  {
   "cell_type": "code",
   "execution_count": 54,
   "metadata": {},
   "outputs": [
    {
     "data": {
      "text/plain": [
       "array([[-0.06666667,  0.26666667],\n",
       "       [ 0.26666667, -0.06666667]])"
      ]
     },
     "execution_count": 54,
     "metadata": {},
     "output_type": "execute_result"
    }
   ],
   "source": [
    "## the inverse of A\n",
    "## Note you may get an error here if A is not\n",
    "## invertible\n",
    "inv(A)"
   ]
  },
  {
   "cell_type": "code",
   "execution_count": 55,
   "metadata": {},
   "outputs": [
    {
     "data": {
      "text/plain": [
       "-15.0"
      ]
     },
     "execution_count": 55,
     "metadata": {},
     "output_type": "execute_result"
    }
   ],
   "source": [
    "## the determinant of A\n",
    "det(A)"
   ]
  },
  {
   "cell_type": "code",
   "execution_count": 56,
   "metadata": {},
   "outputs": [
    {
     "data": {
      "text/plain": [
       "(array([ 5., -3.]), array([[ 0.70710678, -0.70710678],\n",
       "        [ 0.70710678,  0.70710678]]))"
      ]
     },
     "execution_count": 56,
     "metadata": {},
     "output_type": "execute_result"
    }
   ],
   "source": [
    "## the eigenvalues and eigenvectors of A\n",
    "eig(A)\n",
    "\n",
    "## this returns a tuple of arrays\n",
    "## the first entry are the eigenvalues\n",
    "## the second entry are the corresponding eigenvectors"
   ]
  },
  {
   "cell_type": "code",
   "execution_count": 57,
   "metadata": {},
   "outputs": [
    {
     "data": {
      "text/plain": [
       "array([[1, 4],\n",
       "       [4, 1]])"
      ]
     },
     "execution_count": 57,
     "metadata": {},
     "output_type": "execute_result"
    }
   ],
   "source": [
    "## matrix.transpose() computes the transpose of the matrix\n",
    "A.transpose()"
   ]
  },
  {
   "cell_type": "code",
   "execution_count": 58,
   "metadata": {},
   "outputs": [],
   "source": [
    "## You code\n",
    "b = np.array([2,5]).reshape(-1,1)\n",
    "\n",
    "## Attempt to solve Ax = b for x\n",
    "## Hint remember that if A is invertible, \n",
    "## x = A^{-1} b, where A^{-1} is the inverse of A\n",
    "x = inv(A).dot(b)\n",
    "\n"
   ]
  },
  {
   "cell_type": "code",
   "execution_count": 59,
   "metadata": {},
   "outputs": [
    {
     "data": {
      "text/plain": [
       "array([[1.2],\n",
       "       [0.2]])"
      ]
     },
     "execution_count": 59,
     "metadata": {},
     "output_type": "execute_result"
    }
   ],
   "source": [
    "x"
   ]
  },
  {
   "cell_type": "markdown",
   "metadata": {},
   "source": [
    "## That's it!\n",
    "\n",
    "That's it for this notebook. You have now been introduced to `numpy` and our ready to take on the practice problems. Be sure to get a fair level of comfort with `numpy`'s functionality because we'll be using it a lot."
   ]
  },
  {
   "cell_type": "markdown",
   "metadata": {},
   "source": [
    "This notebook was written for the Erd&#337;s Institute C&#337;de Data Science Boot Camp by Matthew Osborne, Ph. D., 2021.\n",
    "\n",
    "Redistribution of the material contained in this repository is conditional on acknowledgement of Matthew Tyler Osborne, Ph.D.'s original authorship and sponsorship of the Erdős Institute as subject to the license (see License.md)"
   ]
  },
  {
   "cell_type": "code",
   "execution_count": null,
   "metadata": {},
   "outputs": [],
   "source": []
  }
 ],
 "metadata": {
  "kernelspec": {
   "display_name": "Python 3",
   "language": "python",
   "name": "python3"
  },
  "language_info": {
   "codemirror_mode": {
    "name": "ipython",
    "version": 3
   },
   "file_extension": ".py",
   "mimetype": "text/x-python",
   "name": "python",
   "nbconvert_exporter": "python",
   "pygments_lexer": "ipython3",
   "version": "3.7.4"
  }
 },
 "nbformat": 4,
 "nbformat_minor": 2
}
