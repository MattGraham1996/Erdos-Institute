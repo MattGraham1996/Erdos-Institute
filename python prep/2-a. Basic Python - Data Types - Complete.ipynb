{
 "cells": [
  {
   "cell_type": "markdown",
   "metadata": {},
   "source": [
    "# Basic Python (And Coding) - Data Types\n",
    "\n",
    "Let's start in ernest now.\n",
    "\n",
    "We're assuming that you're completely unfamiliar with python/coding so we'll start at the most basic levels and build from there.\n",
    "\n",
    "Up first are data types, a key for data science!"
   ]
  },
  {
   "cell_type": "markdown",
   "metadata": {},
   "source": [
    "## Comments vs Code\n",
    "\n",
    "Like most coding languages, python allows you to write comments in order to help explain code. Comments are such that when you execute the code, they are ignored and have no impact on what the computer is told to do. In python comments are denoted with a `#` symbol. "
   ]
  },
  {
   "cell_type": "code",
   "execution_count": 1,
   "metadata": {},
   "outputs": [],
   "source": [
    "## This is a comment!"
   ]
  },
  {
   "cell_type": "markdown",
   "metadata": {},
   "source": [
    "## Numeric Data Types\n",
    "\n",
    "Numeric data types are exactly how they sound, they are number data.\n",
    "\n",
    "### `int`\n",
    "\n",
    "An `int` is how python represents an integer (like $1$, $2$, $-71$, etc.). If you're familiar with other programming languages, you might be wondering if there are bounds on how large (or small) an integer you can have. In python 3 the only bound is on your computer's memory.\n",
    "\n",
    "Here is a link to the python 3 documentation on `int`s, <a href=\"https://docs.python.org/3/library/functions.html#int\">https://docs.python.org/3/library/functions.html#int</a>."
   ]
  },
  {
   "cell_type": "code",
   "execution_count": 2,
   "metadata": {},
   "outputs": [
    {
     "data": {
      "text/plain": [
       "4"
      ]
     },
     "execution_count": 2,
     "metadata": {},
     "output_type": "execute_result"
    }
   ],
   "source": [
    "## This is an int\n",
    "4"
   ]
  },
  {
   "cell_type": "code",
   "execution_count": 3,
   "metadata": {},
   "outputs": [
    {
     "data": {
      "text/plain": [
       "int"
      ]
     },
     "execution_count": 3,
     "metadata": {},
     "output_type": "execute_result"
    }
   ],
   "source": [
    "## We can check the type of an object in python\n",
    "## using type()\n",
    "type(4)"
   ]
  },
  {
   "cell_type": "code",
   "execution_count": 4,
   "metadata": {},
   "outputs": [
    {
     "data": {
      "text/plain": [
       "int"
      ]
     },
     "execution_count": 4,
     "metadata": {},
     "output_type": "execute_result"
    }
   ],
   "source": [
    "## You code\n",
    "## check the type of two ints added together\n",
    "type(7+1)\n"
   ]
  },
  {
   "cell_type": "code",
   "execution_count": 5,
   "metadata": {},
   "outputs": [
    {
     "data": {
      "text/plain": [
       "int"
      ]
     },
     "execution_count": 5,
     "metadata": {},
     "output_type": "execute_result"
    }
   ],
   "source": [
    "## You code \n",
    "## check the type of two ints multiplied\n",
    "\n",
    "type(8*9)\n"
   ]
  },
  {
   "cell_type": "code",
   "execution_count": 6,
   "metadata": {},
   "outputs": [
    {
     "data": {
      "text/plain": [
       "float"
      ]
     },
     "execution_count": 6,
     "metadata": {},
     "output_type": "execute_result"
    }
   ],
   "source": [
    "## You code\n",
    "## check the type of one int divided by another\n",
    "## Is it necessarily an int?\n",
    "type(9/5)\n"
   ]
  },
  {
   "cell_type": "markdown",
   "metadata": {},
   "source": [
    "### `float`\n",
    "\n",
    "A `float` is a floating point number, for non-computer people this just means any real number (within some precision determined by your computer's hardware). You may have encountered this in the previous code chunk if your numerator wasn't divisble by your denominator.\n",
    "\n",
    "Here is a link to the python documentation for `float`s, <a href=\"https://docs.python.org/3/library/functions.html#float\">https://docs.python.org/3/library/functions.html#float</a>."
   ]
  },
  {
   "cell_type": "code",
   "execution_count": 7,
   "metadata": {},
   "outputs": [
    {
     "data": {
      "text/plain": [
       "3.2"
      ]
     },
     "execution_count": 7,
     "metadata": {},
     "output_type": "execute_result"
    }
   ],
   "source": [
    "## This is a float\n",
    "3.2"
   ]
  },
  {
   "cell_type": "code",
   "execution_count": 8,
   "metadata": {},
   "outputs": [
    {
     "data": {
      "text/plain": [
       "float"
      ]
     },
     "execution_count": 8,
     "metadata": {},
     "output_type": "execute_result"
    }
   ],
   "source": [
    "## You code\n",
    "## Check the type of 4/3\n",
    "type(4/3)\n",
    "\n"
   ]
  },
  {
   "cell_type": "code",
   "execution_count": 10,
   "metadata": {},
   "outputs": [
    {
     "data": {
      "text/plain": [
       "int"
      ]
     },
     "execution_count": 10,
     "metadata": {},
     "output_type": "execute_result"
    }
   ],
   "source": [
    "## You code\n",
    "## what happens if you put 2.3\n",
    "## in int()?\n",
    "type(int(2.3))\n"
   ]
  },
  {
   "cell_type": "markdown",
   "metadata": {},
   "source": [
    "#### Variables\n",
    "\n",
    "Now maybe we don't always want to program numbers by hand or we want to store a value for reuse, in come variables."
   ]
  },
  {
   "cell_type": "code",
   "execution_count": 11,
   "metadata": {},
   "outputs": [],
   "source": [
    "## you store a value in a variable like so\n",
    "## here we've named the variable x\n",
    "x = 4.3"
   ]
  },
  {
   "cell_type": "code",
   "execution_count": 12,
   "metadata": {},
   "outputs": [
    {
     "data": {
      "text/plain": [
       "4.3"
      ]
     },
     "execution_count": 12,
     "metadata": {},
     "output_type": "execute_result"
    }
   ],
   "source": [
    "x"
   ]
  },
  {
   "cell_type": "markdown",
   "metadata": {},
   "source": [
    "### `bool`\n",
    "\n",
    "A `bool` is a boolean or logical object, meaning a `True` or a `False`. These are incredibly useful in programming as we'll see in the next notebook.\n",
    "\n",
    "Here's the python documentation on `bool` objects, <a href=\"https://docs.python.org/3/library/functions.html#bool\">https://docs.python.org/3/library/functions.html#bool</a>."
   ]
  },
  {
   "cell_type": "code",
   "execution_count": 13,
   "metadata": {},
   "outputs": [
    {
     "data": {
      "text/plain": [
       "True"
      ]
     },
     "execution_count": 13,
     "metadata": {},
     "output_type": "execute_result"
    }
   ],
   "source": [
    "## This is the boolean value for something that is True\n",
    "True"
   ]
  },
  {
   "cell_type": "code",
   "execution_count": 14,
   "metadata": {},
   "outputs": [
    {
     "data": {
      "text/plain": [
       "bool"
      ]
     },
     "execution_count": 14,
     "metadata": {},
     "output_type": "execute_result"
    }
   ],
   "source": [
    "type(False)"
   ]
  },
  {
   "cell_type": "code",
   "execution_count": 15,
   "metadata": {},
   "outputs": [
    {
     "data": {
      "text/plain": [
       "0"
      ]
     },
     "execution_count": 15,
     "metadata": {},
     "output_type": "execute_result"
    }
   ],
   "source": [
    "## You code\n",
    "## what happens when you put False inside of int()?\n",
    "\n",
    "int(False)\n"
   ]
  },
  {
   "cell_type": "code",
   "execution_count": 16,
   "metadata": {},
   "outputs": [
    {
     "data": {
      "text/plain": [
       "True"
      ]
     },
     "execution_count": 16,
     "metadata": {},
     "output_type": "execute_result"
    }
   ],
   "source": [
    "## You code\n",
    "## What happens when you put 1 inside of bool()?\n",
    "\n",
    "bool(1)\n",
    "\n"
   ]
  },
  {
   "cell_type": "code",
   "execution_count": 20,
   "metadata": {},
   "outputs": [
    {
     "data": {
      "text/plain": [
       "False"
      ]
     },
     "execution_count": 20,
     "metadata": {},
     "output_type": "execute_result"
    }
   ],
   "source": [
    "## You code\n",
    "## What happens when you put 0 inside of bool()?\n",
    "bool(0)\n",
    "\n",
    "\n"
   ]
  },
  {
   "cell_type": "code",
   "execution_count": 18,
   "metadata": {},
   "outputs": [
    {
     "data": {
      "text/plain": [
       "True"
      ]
     },
     "execution_count": 18,
     "metadata": {},
     "output_type": "execute_result"
    }
   ],
   "source": [
    "## You code\n",
    "## What about putting 3.14 inside of bool()?\n",
    "\n",
    "bool(3.14)\n",
    "\n",
    "\n"
   ]
  },
  {
   "cell_type": "markdown",
   "metadata": {},
   "source": [
    "Note that in python `bool()` of any non-zero `int` or `float` results in a `True`."
   ]
  },
  {
   "cell_type": "markdown",
   "metadata": {},
   "source": [
    "### `str`\n",
    "\n",
    "An `str` is a python string, aka a piece of text like a word, sentence, or paragraph.\n",
    "\n",
    "Here is the python documentation on `str`s, <a href=\"https://docs.python.org/3/library/stdtypes.html#textseq\">https://docs.python.org/3/library/stdtypes.html#textseq</a>."
   ]
  },
  {
   "cell_type": "code",
   "execution_count": 23,
   "metadata": {},
   "outputs": [
    {
     "data": {
      "text/plain": [
       "\"This is an 'str' object\""
      ]
     },
     "execution_count": 23,
     "metadata": {},
     "output_type": "execute_result"
    }
   ],
   "source": [
    "\"This is an 'str' object\""
   ]
  },
  {
   "cell_type": "code",
   "execution_count": 24,
   "metadata": {},
   "outputs": [
    {
     "data": {
      "text/plain": [
       "'Line 2'"
      ]
     },
     "execution_count": 24,
     "metadata": {},
     "output_type": "execute_result"
    }
   ],
   "source": [
    "## THINKING TIME\n",
    "## What do you think will happen when you run the following code\n",
    "\"Line 1\"\n",
    "\"Line 2\""
   ]
  },
  {
   "cell_type": "code",
   "execution_count": 25,
   "metadata": {},
   "outputs": [
    {
     "name": "stdout",
     "output_type": "stream",
     "text": [
      "Line 1\n",
      "Line 2\n"
     ]
    }
   ],
   "source": [
    "## You code\n",
    "## copy and paste the code chunk from above\n",
    "## now put \"Line 1\" and \"Line 2\" inside of print()\n",
    "## and rerun the code\n",
    "## What happens?\n",
    "print(\"Line 1\")\n",
    "print(\"Line 2\")\n",
    "\n"
   ]
  },
  {
   "cell_type": "markdown",
   "metadata": {},
   "source": [
    "`print()` takes in a series of python objects (separated by commas) and prints them out to your monitor. Note that in `jupyter notebook`s only the last line of executed code is displayed by default, so if you want something displayed in the middle of a code chunk, use a `print()`."
   ]
  },
  {
   "cell_type": "code",
   "execution_count": 26,
   "metadata": {},
   "outputs": [
    {
     "name": "stdout",
     "output_type": "stream",
     "text": [
      "This is an str too!\n"
     ]
    }
   ],
   "source": [
    "## Note strs can also be denoted with single-quotation marks\n",
    "print('This is an str too!')"
   ]
  },
  {
   "cell_type": "code",
   "execution_count": 27,
   "metadata": {},
   "outputs": [
    {
     "name": "stdout",
     "output_type": "stream",
     "text": [
      "thing 1 and thing 2\n"
     ]
    }
   ],
   "source": [
    "## You can \"concatenate\" multiple strs with a + symbol\n",
    "print(\"thing 1\" + \" and \" + \"thing 2\")"
   ]
  },
  {
   "cell_type": "markdown",
   "metadata": {},
   "source": [
    "#### Built-in `str` Functions\n",
    "\n",
    "Python `str`s have a number of useful built-in functions. Let's look at a couple of them here."
   ]
  },
  {
   "cell_type": "code",
   "execution_count": 28,
   "metadata": {},
   "outputs": [],
   "source": [
    "## Put your name in here\n",
    "name = \"Matt Osborne\""
   ]
  },
  {
   "cell_type": "code",
   "execution_count": 29,
   "metadata": {},
   "outputs": [
    {
     "name": "stdout",
     "output_type": "stream",
     "text": [
      "name is an <class 'str'>\n"
     ]
    }
   ],
   "source": [
    "print(\"name is an\", type(name))"
   ]
  },
  {
   "cell_type": "code",
   "execution_count": 30,
   "metadata": {},
   "outputs": [
    {
     "name": "stdout",
     "output_type": "stream",
     "text": [
      "matt osborne\n"
     ]
    }
   ],
   "source": [
    "## .lower() lowers all the characters in the string\n",
    "print(name.lower())"
   ]
  },
  {
   "cell_type": "code",
   "execution_count": 31,
   "metadata": {},
   "outputs": [
    {
     "name": "stdout",
     "output_type": "stream",
     "text": [
      "MATT OSBORNE\n"
     ]
    }
   ],
   "source": [
    "## .upper() capitalizes all the characters in the string\n",
    "print(name.upper())"
   ]
  },
  {
   "cell_type": "code",
   "execution_count": 32,
   "metadata": {},
   "outputs": [],
   "source": [
    "sentence = \"This, is, a, comma, heavy, sentence.\""
   ]
  },
  {
   "cell_type": "code",
   "execution_count": 33,
   "metadata": {},
   "outputs": [
    {
     "name": "stdout",
     "output_type": "stream",
     "text": [
      "This! is! a! comma! heavy! sentence.\n"
     ]
    }
   ],
   "source": [
    "## .replace() will replace substrings with other substrings\n",
    "print(sentence.replace(\",\",\"!\"))"
   ]
  },
  {
   "cell_type": "code",
   "execution_count": 36,
   "metadata": {},
   "outputs": [
    {
     "data": {
      "text/plain": [
       "2.5"
      ]
     },
     "execution_count": 36,
     "metadata": {},
     "output_type": "execute_result"
    }
   ],
   "source": [
    "## You code\n",
    "## put the string \"2.5\" in float()\n",
    "## What happens?\n",
    "float(\"2.5\")"
   ]
  },
  {
   "cell_type": "markdown",
   "metadata": {},
   "source": [
    "### `list`s\n",
    "\n",
    "A list is a collection of python objects (for example, `int`s, `float`s and `str`s).\n",
    "\n",
    "They are <i>mutable</i> meaning that you can change them once they are created. \n",
    "\n",
    "Here's a link to the python documentation on lists <a href=\"https://docs.python.org/3/c-api/list.html\">https://docs.python.org/3/c-api/list.html</a>."
   ]
  },
  {
   "cell_type": "code",
   "execution_count": 37,
   "metadata": {},
   "outputs": [
    {
     "data": {
      "text/plain": [
       "['This', 'is', 'a', 'list', 'of', 'strs']"
      ]
     },
     "execution_count": 37,
     "metadata": {},
     "output_type": "execute_result"
    }
   ],
   "source": [
    "## Lists are made by placing objects\n",
    "## within square brackets, separated by commas\n",
    "[\"This\", \"is\", \"a\", \"list\", \"of\", \"strs\"]"
   ]
  },
  {
   "cell_type": "code",
   "execution_count": 38,
   "metadata": {},
   "outputs": [
    {
     "data": {
      "text/plain": [
       "['This', 15, 'a', ['list'], True]"
      ]
     },
     "execution_count": 38,
     "metadata": {},
     "output_type": "execute_result"
    }
   ],
   "source": [
    "## Lists can consist of more than one kind of\n",
    "## python object, even other lists\n",
    "[\"This\",15,\"a\",[\"list\"],True]"
   ]
  },
  {
   "cell_type": "markdown",
   "metadata": {},
   "source": [
    "`list`s can be indexed, meaning you can access specific entries using numerical indices. In python a `list`'s index begins with `0`, so the first entry is the `0`th entry. You can also index in reverse using negative numbers, where the reverse goes from the right, beginning with `-1`."
   ]
  },
  {
   "cell_type": "code",
   "execution_count": 39,
   "metadata": {},
   "outputs": [],
   "source": [
    "## run this code\n",
    "##                0       1         2       3       4        5\n",
    "##                -6      -5        -4      -3      -2      -1\n",
    "fruit_basket = [\"apple\",\"banana\",\"grapes\",\"kiwi\",\"lemon\",\"grapefruit\"]"
   ]
  },
  {
   "cell_type": "code",
   "execution_count": 40,
   "metadata": {},
   "outputs": [
    {
     "data": {
      "text/plain": [
       "'apple'"
      ]
     },
     "execution_count": 40,
     "metadata": {},
     "output_type": "execute_result"
    }
   ],
   "source": [
    "## You can index a list like so\n",
    "fruit_basket[0]"
   ]
  },
  {
   "cell_type": "code",
   "execution_count": 41,
   "metadata": {},
   "outputs": [
    {
     "data": {
      "text/plain": [
       "'grapes'"
      ]
     },
     "execution_count": 41,
     "metadata": {},
     "output_type": "execute_result"
    }
   ],
   "source": [
    "## Here's an example with the reverse indexing\n",
    "fruit_basket[-4]"
   ]
  },
  {
   "cell_type": "code",
   "execution_count": 42,
   "metadata": {},
   "outputs": [
    {
     "name": "stdout",
     "output_type": "stream",
     "text": [
      "grapes\n",
      "lemon\n"
     ]
    }
   ],
   "source": [
    "## You code\n",
    "## What is the 3rd entry of the fruit_basket?\n",
    "## What about the 2nd entry from the right?\n",
    "\n",
    "print(fruit_basket[2])\n",
    "print(fruit_basket[-2])\n"
   ]
  },
  {
   "cell_type": "code",
   "execution_count": 44,
   "metadata": {},
   "outputs": [
    {
     "data": {
      "text/plain": [
       "['banana', 'grapes', 'kiwi']"
      ]
     },
     "execution_count": 44,
     "metadata": {},
     "output_type": "execute_result"
    }
   ],
   "source": [
    "## You code\n",
    "## Index the list with 1:4, what is returned?\n",
    "fruit_basket[1:4]\n",
    "\n"
   ]
  },
  {
   "cell_type": "markdown",
   "metadata": {},
   "source": [
    "##### `list`s are mutable\n",
    "\n",
    "Remember that I said `list`s are mutable, meaning you can change the entries at will."
   ]
  },
  {
   "cell_type": "code",
   "execution_count": 46,
   "metadata": {},
   "outputs": [
    {
     "data": {
      "text/plain": [
       "['apple', 'banana', 'grapes', 'kiwi', 'lime', 'grapefruit']"
      ]
     },
     "execution_count": 46,
     "metadata": {},
     "output_type": "execute_result"
    }
   ],
   "source": [
    "## You code\n",
    "## overwrite the \"lemon\" in the fruit_basket with a \"lime\"\n",
    "fruit_basket[-2] = \"lime\"\n",
    "\n",
    "fruit_basket"
   ]
  },
  {
   "cell_type": "markdown",
   "metadata": {},
   "source": [
    "#### Built-in `list` Methods\n",
    "\n",
    "Python also has a number of handy built-in `list` functions, let's look at a couple now."
   ]
  },
  {
   "cell_type": "code",
   "execution_count": 47,
   "metadata": {},
   "outputs": [],
   "source": [
    "## We can add an entry to the end of any list\n",
    "## with .append()\n",
    "fruit_basket.append(\"plum\")"
   ]
  },
  {
   "cell_type": "code",
   "execution_count": 48,
   "metadata": {},
   "outputs": [
    {
     "data": {
      "text/plain": [
       "['apple', 'banana', 'grapes', 'kiwi', 'lime', 'grapefruit', 'plum']"
      ]
     },
     "execution_count": 48,
     "metadata": {},
     "output_type": "execute_result"
    }
   ],
   "source": [
    "fruit_basket"
   ]
  },
  {
   "cell_type": "code",
   "execution_count": 49,
   "metadata": {},
   "outputs": [],
   "source": [
    "## You can add a bunch of entries all at once\n",
    "## using .extend(another_list)\n",
    "fruit_basket.extend([\"pineapple\",\"mango\",\"coconut\"])"
   ]
  },
  {
   "cell_type": "code",
   "execution_count": 50,
   "metadata": {},
   "outputs": [
    {
     "data": {
      "text/plain": [
       "['apple',\n",
       " 'banana',\n",
       " 'grapes',\n",
       " 'kiwi',\n",
       " 'lime',\n",
       " 'grapefruit',\n",
       " 'plum',\n",
       " 'pineapple',\n",
       " 'mango',\n",
       " 'coconut']"
      ]
     },
     "execution_count": 50,
     "metadata": {},
     "output_type": "execute_result"
    }
   ],
   "source": [
    "fruit_basket"
   ]
  },
  {
   "cell_type": "code",
   "execution_count": 51,
   "metadata": {},
   "outputs": [],
   "source": [
    "## You code\n",
    "## Run the following code and see what .sort() does\n",
    "fruit_basket.sort()"
   ]
  },
  {
   "cell_type": "code",
   "execution_count": 52,
   "metadata": {},
   "outputs": [
    {
     "data": {
      "text/plain": [
       "['apple',\n",
       " 'banana',\n",
       " 'coconut',\n",
       " 'grapefruit',\n",
       " 'grapes',\n",
       " 'kiwi',\n",
       " 'lime',\n",
       " 'mango',\n",
       " 'pineapple',\n",
       " 'plum']"
      ]
     },
     "execution_count": 52,
     "metadata": {},
     "output_type": "execute_result"
    }
   ],
   "source": [
    "fruit_basket"
   ]
  },
  {
   "cell_type": "markdown",
   "metadata": {},
   "source": [
    "##### Indexing `str`s\n",
    "\n",
    "Similar to `list`s, `str`s can also be indexed."
   ]
  },
  {
   "cell_type": "code",
   "execution_count": 54,
   "metadata": {},
   "outputs": [
    {
     "name": "stdout",
     "output_type": "stream",
     "text": [
      "4th letter of apple bottom jeans is l\n",
      "7th letter of apple bottom jeans is b\n"
     ]
    }
   ],
   "source": [
    "## You code\n",
    "## Find the 4th and 7th letter in this string\n",
    "test_string = \"apple bottom jeans\"\n",
    "\n",
    "print(\"4th letter of\", test_string, \"is\", test_string[3])\n",
    "print(\"7th letter of\", test_string, \"is\", test_string[6])\n",
    "\n"
   ]
  },
  {
   "cell_type": "markdown",
   "metadata": {},
   "source": [
    "### `tuple`s\n",
    "\n",
    "A tuple is also a collection of general python objects (like a `list`) that is not mutable (unlike a `list`). We won't spend as much time on these.\n",
    "\n",
    "Here's a link to the documentation on `tuple`s <a href=\"https://docs.python.org/3/tutorial/datastructures.html#tuples-and-sequences\">https://docs.python.org/3/tutorial/datastructures.html#tuples-and-sequences</a>."
   ]
  },
  {
   "cell_type": "code",
   "execution_count": 55,
   "metadata": {},
   "outputs": [],
   "source": [
    "## A tuple is made by placing distinct objects\n",
    "## between parantheses separated by commas\n",
    "veggie_tray = (\"carrots\", \"corn\", \"brussels sprout\", \"brocoli\")"
   ]
  },
  {
   "cell_type": "code",
   "execution_count": 58,
   "metadata": {},
   "outputs": [
    {
     "data": {
      "text/plain": [
       "'brocoli'"
      ]
     },
     "execution_count": 58,
     "metadata": {},
     "output_type": "execute_result"
    }
   ],
   "source": [
    "## You Code\n",
    "## What is the first entry in the veggie tray from the left or right?\n",
    "veggie_tray[0]\n",
    "veggie_tray[-1]\n",
    "\n"
   ]
  },
  {
   "cell_type": "markdown",
   "metadata": {},
   "source": [
    "##### `tuple`s are not mutable"
   ]
  },
  {
   "cell_type": "code",
   "execution_count": 59,
   "metadata": {},
   "outputs": [
    {
     "ename": "TypeError",
     "evalue": "'tuple' object does not support item assignment",
     "output_type": "error",
     "traceback": [
      "\u001b[0;31m---------------------------------------------------------------------------\u001b[0m",
      "\u001b[0;31mTypeError\u001b[0m                                 Traceback (most recent call last)",
      "\u001b[0;32m<ipython-input-59-b1e367135ee3>\u001b[0m in \u001b[0;36m<module>\u001b[0;34m\u001b[0m\n\u001b[1;32m      2\u001b[0m \u001b[0;31m## Try to overwrite the \"corn\" with \"peas\"\u001b[0m\u001b[0;34m\u001b[0m\u001b[0;34m\u001b[0m\u001b[0;34m\u001b[0m\u001b[0m\n\u001b[1;32m      3\u001b[0m \u001b[0;31m## What happens?\u001b[0m\u001b[0;34m\u001b[0m\u001b[0;34m\u001b[0m\u001b[0;34m\u001b[0m\u001b[0m\n\u001b[0;32m----> 4\u001b[0;31m \u001b[0mveggie_tray\u001b[0m\u001b[0;34m[\u001b[0m\u001b[0;36m1\u001b[0m\u001b[0;34m]\u001b[0m \u001b[0;34m=\u001b[0m \u001b[0;34m\"peas\"\u001b[0m\u001b[0;34m\u001b[0m\u001b[0;34m\u001b[0m\u001b[0m\n\u001b[0m\u001b[1;32m      5\u001b[0m \u001b[0;34m\u001b[0m\u001b[0m\n",
      "\u001b[0;31mTypeError\u001b[0m: 'tuple' object does not support item assignment"
     ]
    }
   ],
   "source": [
    "## You code\n",
    "## Try to overwrite the \"corn\" with \"peas\"\n",
    "## What happens?\n",
    "veggie_tray[1] = \"peas\"\n",
    "\n"
   ]
  },
  {
   "cell_type": "code",
   "execution_count": 61,
   "metadata": {},
   "outputs": [
    {
     "data": {
      "text/plain": [
       "['carrots', 'peas', 'brussels sprout', 'brocoli']"
      ]
     },
     "execution_count": 61,
     "metadata": {},
     "output_type": "execute_result"
    }
   ],
   "source": [
    "## You code\n",
    "## Put veggie_tray inside of list()\n",
    "## store it in veggie_tray_list\n",
    "## Can you overwirte \"corn\" now?\n",
    "veggie_tray_list = list(veggie_tray)\n",
    "\n",
    "veggie_tray_list[1] = \"peas\"\n",
    "\n",
    "veggie_tray_list"
   ]
  },
  {
   "cell_type": "markdown",
   "metadata": {},
   "source": [
    "### `set`s\n",
    "\n",
    "Python also has a `set` object that is very similar to the mathematical notion of a set.\n",
    "\n",
    "Here's a link to the python documentation on `set`s, <a href=\"https://docs.python.org/3/tutorial/datastructures.html#sets\">https://docs.python.org/3/tutorial/datastructures.html#sets</a>."
   ]
  },
  {
   "cell_type": "code",
   "execution_count": 62,
   "metadata": {},
   "outputs": [
    {
     "data": {
      "text/plain": [
       "{'a', 'is', 'set', 'this'}"
      ]
     },
     "execution_count": 62,
     "metadata": {},
     "output_type": "execute_result"
    }
   ],
   "source": [
    "## A set can be made by placing disinct\n",
    "## python objects between {}, separated by commas\n",
    "{\"this\",\"is\",\"a\",\"set\"}"
   ]
  },
  {
   "cell_type": "code",
   "execution_count": 63,
   "metadata": {},
   "outputs": [
    {
     "data": {
      "text/plain": [
       "set"
      ]
     },
     "execution_count": 63,
     "metadata": {},
     "output_type": "execute_result"
    }
   ],
   "source": [
    "type({\"this\",\"is\",\"a\",\"set\"})"
   ]
  },
  {
   "cell_type": "code",
   "execution_count": 64,
   "metadata": {},
   "outputs": [
    {
     "data": {
      "text/plain": [
       "{'almond milk',\n",
       " 'apples',\n",
       " 'bananas',\n",
       " 'beef',\n",
       " 'bread',\n",
       " 'chicken',\n",
       " 'milk',\n",
       " 'mushrooms',\n",
       " 'onion powder'}"
      ]
     },
     "execution_count": 64,
     "metadata": {},
     "output_type": "execute_result"
    }
   ],
   "source": [
    "## You can also use the command set()\n",
    "## This can be used to remove repeats from lists or tuples\n",
    "\n",
    "## you and your pal made a grocery list\n",
    "## but didn't check if the other person\n",
    "## already put an item on their list\n",
    "## use set() to make a more succinct grocery_list\n",
    "grocery_list = [\"apples\",\"bananas\",\"beef\",\"onion powder\",\n",
    "                   \"apples\",\"mushrooms\",\"milk\",\"almond milk\",\n",
    "                   \"bread\",\"beef\",\"chicken\"]\n",
    "\n",
    "## You code here\n",
    "set(grocery_list)\n",
    "\n"
   ]
  },
  {
   "cell_type": "markdown",
   "metadata": {},
   "source": [
    "#### `set` Functions\n",
    "\n",
    "`set`s also have a number of useful functions as well. Perhaps the most important are those that copy the operations for mathematical sets."
   ]
  },
  {
   "cell_type": "code",
   "execution_count": 65,
   "metadata": {},
   "outputs": [
    {
     "data": {
      "text/plain": [
       "{'apple'}"
      ]
     },
     "execution_count": 65,
     "metadata": {},
     "output_type": "execute_result"
    }
   ],
   "source": [
    "## Intersection\n",
    "set_1 = {'apple','bottom','jeans'}\n",
    "set_2 = {'as','american','apple','pie'}\n",
    "\n",
    "## You can see what elements are in both lists using .intersection()\n",
    "set_1.intersection(set_2)"
   ]
  },
  {
   "cell_type": "code",
   "execution_count": 66,
   "metadata": {},
   "outputs": [
    {
     "data": {
      "text/plain": [
       "{'american', 'apple', 'as', 'bottom', 'jeans', 'pie'}"
      ]
     },
     "execution_count": 66,
     "metadata": {},
     "output_type": "execute_result"
    }
   ],
   "source": [
    "## Union\n",
    "\n",
    "## You can see what elements are in either of your lists using .union()\n",
    "set_1.union(set_2)"
   ]
  },
  {
   "cell_type": "code",
   "execution_count": 67,
   "metadata": {},
   "outputs": [
    {
     "data": {
      "text/plain": [
       "{'bottom', 'jeans'}"
      ]
     },
     "execution_count": 67,
     "metadata": {},
     "output_type": "execute_result"
    }
   ],
   "source": [
    "## minus\n",
    "\n",
    "## You can find what is in one set, but not another set using minus\n",
    "set_1 - set_2"
   ]
  },
  {
   "cell_type": "code",
   "execution_count": 68,
   "metadata": {},
   "outputs": [
    {
     "data": {
      "text/plain": [
       "dict"
      ]
     },
     "execution_count": 68,
     "metadata": {},
     "output_type": "execute_result"
    }
   ],
   "source": [
    "## You code\n",
    "\n",
    "## The empty set?\n",
    "\n",
    "## find the type of {}\n",
    "## Is it what you think it would be?\n",
    "type({})\n"
   ]
  },
  {
   "cell_type": "markdown",
   "metadata": {},
   "source": [
    "### `dict`\n",
    "\n",
    "A python dictionary, or `dict`, is a way to store information in the form of keys and values. Each key is linked to a particular value that you can then index with the key, as opposed to integers. Each key is <i>unique</i>, meaning once you've used a key once, you can't use it again. This can be quite useful when you want to keep a tally of unique things in a list, for example, unique words in a sentence or book.\n",
    "\n",
    "Here is the python documentation on `dict`s <a href=\"https://docs.python.org/3/tutorial/datastructures.html#dictionaries\">https://docs.python.org/3/tutorial/datastructures.html#dictionaries</a>."
   ]
  },
  {
   "cell_type": "code",
   "execution_count": 69,
   "metadata": {},
   "outputs": [
    {
     "name": "stdout",
     "output_type": "stream",
     "text": [
      "{}\n",
      "<class 'dict'>\n"
     ]
    }
   ],
   "source": [
    "## Dictionaries\n",
    "\n",
    "## It is best to think of a dictionary as a set of key: value pairs, \n",
    "## with the requirement that the keys are unique (within one dictionary). \n",
    "## A pair of braces creates an empty dictionary: {}\n",
    "print({})\n",
    "print(type({}))"
   ]
  },
  {
   "cell_type": "code",
   "execution_count": 70,
   "metadata": {},
   "outputs": [
    {
     "name": "stdout",
     "output_type": "stream",
     "text": [
      "{'apple': 1, 'as': 2, 'american': 1, 'pie': 1}\n",
      "\n",
      "practice_dict.keys(): dict_keys(['apple', 'as', 'american', 'pie'])\n",
      "\n",
      "practice_dict.values(): dict_values([1, 2, 1, 1])\n",
      "\n"
     ]
    }
   ],
   "source": [
    "## To define a dictionary you do the following\n",
    "practice_dict = {'apple':1, 'as':2, 'american':1, 'pie':1}\n",
    "\n",
    "print(practice_dict)\n",
    "print()\n",
    "\n",
    "## these are the dictionary keys\n",
    "print(\"practice_dict.keys():\", practice_dict.keys())\n",
    "print()\n",
    "\n",
    "## these are the dictionary values\n",
    "print(\"practice_dict.values():\", practice_dict.values())\n",
    "print()"
   ]
  },
  {
   "cell_type": "code",
   "execution_count": 71,
   "metadata": {},
   "outputs": [
    {
     "data": {
      "text/plain": [
       "1"
      ]
     },
     "execution_count": 71,
     "metadata": {},
     "output_type": "execute_result"
    }
   ],
   "source": [
    "## You can access the values for particular keys with this syntax\n",
    "## dictionary[key]\n",
    "practice_dict['apple']"
   ]
  },
  {
   "cell_type": "code",
   "execution_count": 72,
   "metadata": {},
   "outputs": [
    {
     "data": {
      "text/plain": [
       "dict_items([('apple', 1), ('as', 2), ('american', 1), ('pie', 1)])"
      ]
     },
     "execution_count": 72,
     "metadata": {},
     "output_type": "execute_result"
    }
   ],
   "source": [
    "## You code\n",
    "## what is the output of practice_dict.items()?\n",
    "## what does .items() do in general?\n",
    "practice_dict.items()\n"
   ]
  },
  {
   "cell_type": "code",
   "execution_count": 73,
   "metadata": {},
   "outputs": [
    {
     "data": {
      "text/plain": [
       "{'milk (C)': 1,\n",
       " 'flour (C)': 3,\n",
       " 'baking soda (TB)': 2,\n",
       " 'salt (TB)': 1,\n",
       " 'eggs': 2}"
      ]
     },
     "execution_count": 73,
     "metadata": {},
     "output_type": "execute_result"
    }
   ],
   "source": [
    "## You code\n",
    "## Use a dictionary to store the ingredient amounts you \n",
    "## need for an imaginary recipe\n",
    "ingredients = {\"milk (C)\":1, \"flour (C)\":3, \"baking soda (TB)\":2, \n",
    "              \"salt (TB)\":1, \"eggs\":2}\n",
    "\n",
    "ingredients"
   ]
  },
  {
   "cell_type": "markdown",
   "metadata": {},
   "source": [
    "#### Hard Copy vs. Soft Copy\n",
    "\n",
    "Run the following code and see what happens."
   ]
  },
  {
   "cell_type": "code",
   "execution_count": 74,
   "metadata": {},
   "outputs": [],
   "source": [
    "test_list = [1,2,3,4]\n",
    "other_list = test_list"
   ]
  },
  {
   "cell_type": "code",
   "execution_count": 75,
   "metadata": {},
   "outputs": [
    {
     "name": "stdout",
     "output_type": "stream",
     "text": [
      "test_list = [1, 2, 3, 4]\n",
      "other_list = [1, 2, 3, 4]\n"
     ]
    }
   ],
   "source": [
    "print(\"test_list =\",test_list)\n",
    "print(\"other_list =\",other_list)"
   ]
  },
  {
   "cell_type": "code",
   "execution_count": 76,
   "metadata": {},
   "outputs": [],
   "source": [
    "## let's replace the 2 entry of test_list\n",
    "## with a 7\n",
    "test_list[2] = 7"
   ]
  },
  {
   "cell_type": "code",
   "execution_count": 77,
   "metadata": {},
   "outputs": [
    {
     "name": "stdout",
     "output_type": "stream",
     "text": [
      "test_list = [1, 2, 7, 4]\n",
      "other_list = [1, 2, 7, 4]\n"
     ]
    }
   ],
   "source": [
    "print(\"test_list =\",test_list)\n",
    "print(\"other_list =\",other_list)"
   ]
  },
  {
   "cell_type": "markdown",
   "metadata": {},
   "source": [
    "##### Say what!?!\n",
    "\n",
    "That's right, when we changed `test_list` `other_list` was also changed. This is because python had you computer create the `list` `[1,2,3,4]` in memory then had the `test_list` point to it, when we created `other_list` python just had the variable point to whatever `test_list` was pointed to, aka the `list` `[1,2,3,4]`. Because both variables are pointed to the same thing in your computer's memory, when I changed `test_list` I also changed `other_list`. This is because when you ran `other_list = test_list` you are performing what is known as a <i>soft copy</i> of `test_list`.\n",
    "\n",
    "Soft copies don't actually copy the python object in your computer's memory. If you want to do that you need to do a <i>hard copy</i>, for `list`s this is done with the command `list.copy()`. Let's see it in action."
   ]
  },
  {
   "cell_type": "code",
   "execution_count": 78,
   "metadata": {},
   "outputs": [],
   "source": [
    "test_list = [1,2,3,4]\n",
    "\n",
    "## Here is the hard copy\n",
    "other_list = test_list.copy()"
   ]
  },
  {
   "cell_type": "code",
   "execution_count": 79,
   "metadata": {},
   "outputs": [
    {
     "name": "stdout",
     "output_type": "stream",
     "text": [
      "test_list = [1, 2, 3, 4]\n",
      "other_list = [1, 2, 3, 4]\n"
     ]
    }
   ],
   "source": [
    "print(\"test_list =\",test_list)\n",
    "print(\"other_list =\",other_list)"
   ]
  },
  {
   "cell_type": "code",
   "execution_count": 80,
   "metadata": {},
   "outputs": [],
   "source": [
    "## let's replace the 2 entry of test_list\n",
    "## with a 7\n",
    "test_list[2] = 7"
   ]
  },
  {
   "cell_type": "code",
   "execution_count": 81,
   "metadata": {},
   "outputs": [
    {
     "name": "stdout",
     "output_type": "stream",
     "text": [
      "test_list = [1, 2, 7, 4]\n",
      "other_list = [1, 2, 3, 4]\n"
     ]
    }
   ],
   "source": [
    "print(\"test_list =\",test_list)\n",
    "print(\"other_list =\",other_list)"
   ]
  },
  {
   "cell_type": "markdown",
   "metadata": {},
   "source": [
    "Boom!\n",
    "\n",
    "Now this may not come up to much with these more basic data structures, but when we get into actual data science algorithms soft copies and hard copies can become an issue. That's why I wanted to introduce it now, to prime you for what's to come."
   ]
  },
  {
   "cell_type": "markdown",
   "metadata": {},
   "source": [
    "This notebook was written for the Erd&#337;s Institute C&#337;de Data Science Boot Camp by Matthew Osborne, Ph. D., 2021.\n",
    "\n",
    "Redistribution of the material contained in this repository is conditional on acknowledgement of Matthew Tyler Osborne, Ph.D.'s original authorship and sponsorship of the Erdős Institute as subject to the license (see License.md)"
   ]
  },
  {
   "cell_type": "code",
   "execution_count": null,
   "metadata": {},
   "outputs": [],
   "source": []
  }
 ],
 "metadata": {
  "kernelspec": {
   "display_name": "Python 3",
   "language": "python",
   "name": "python3"
  },
  "language_info": {
   "codemirror_mode": {
    "name": "ipython",
    "version": 3
   },
   "file_extension": ".py",
   "mimetype": "text/x-python",
   "name": "python",
   "nbconvert_exporter": "python",
   "pygments_lexer": "ipython3",
   "version": "3.7.4"
  }
 },
 "nbformat": 4,
 "nbformat_minor": 2
}
