{
 "cells": [
  {
   "cell_type": "markdown",
   "metadata": {},
   "source": [
    "# Importing a Package\n",
    "\n",
    "Sometimes we'll want to do something with python that isn't built into base python. Now we could code it up ourselves, but it is usually the case that there is a package you can import that does what you'd like to do.\n",
    "\n",
    "Python packages are collections of pre-written code that you can use.\n",
    "\n",
    "Let's see how we can use a package with the `math` package."
   ]
  },
  {
   "cell_type": "markdown",
   "metadata": {},
   "source": [
    "### `math` Package\n",
    "\n",
    "The `math` package contains all the mathematical functions and objects you may be interested in like $\\sin$, $\\cos$, $e$, $\\pi$ and $\\log$."
   ]
  },
  {
   "cell_type": "code",
   "execution_count": null,
   "metadata": {},
   "outputs": [],
   "source": [
    "## importing a package happens with import package_name\n",
    "import math\n",
    "\n",
    "## When this code is run, you will import the math package"
   ]
  },
  {
   "cell_type": "code",
   "execution_count": null,
   "metadata": {},
   "outputs": [],
   "source": [
    "## packages have a number of built-in objects, and methods we can use\n",
    "## let's start with pi\n",
    "## First write the package name then a period then the object/function you want\n",
    "## for example math.pi\n",
    "math.pi"
   ]
  },
  {
   "cell_type": "code",
   "execution_count": null,
   "metadata": {},
   "outputs": [],
   "source": [
    "## You code\n",
    "## Try finding the cosine of 3pi/4\n",
    "## cosine is stored in math.cos\n",
    "\n"
   ]
  },
  {
   "cell_type": "markdown",
   "metadata": {},
   "source": [
    "You can find more about a package at the package's documentation. When you're learning how a new package you've found works, going their is usually your first step.\n",
    "\n",
    "Here we can see the documentation for the `math` package, <a href=\"https://docs.python.org/3/library/math.html\">https://docs.python.org/3/library/math.html</a>.\n",
    "\n",
    "If you're new to python, reading documentation can seem difficult, that's normal! It can take a little bit to get comfortable reading documentation (often called the docs)."
   ]
  },
  {
   "cell_type": "code",
   "execution_count": null,
   "metadata": {},
   "outputs": [],
   "source": [
    "## Practice reading documentation and find out\n",
    "## how to compute the base 10 logarithm of a number using the\n",
    "## math package\n",
    "\n",
    "\n"
   ]
  },
  {
   "cell_type": "markdown",
   "metadata": {},
   "source": [
    "### Import a Package With a Shorter Name\n",
    "\n",
    "Sometimes a packages name can be cumbersome, we'll see an example of that soon, similar to a variable name we can import a package with a shorter name.\n",
    "\n",
    "Let's practice with the `random` package."
   ]
  },
  {
   "cell_type": "code",
   "execution_count": null,
   "metadata": {},
   "outputs": [],
   "source": [
    "## The syntax is import package_name as shortened_name\n",
    "import random as r"
   ]
  },
  {
   "cell_type": "code",
   "execution_count": null,
   "metadata": {},
   "outputs": [],
   "source": [
    "## Now we can get a (pseudo)random integer between 1 and 10\n",
    "## using randint\n",
    "r.randint(1,10)"
   ]
  },
  {
   "cell_type": "markdown",
   "metadata": {},
   "source": [
    "### Import a Specific Object or Function\n",
    "\n",
    "Sometimes, packages can be quite large but you only want a small part of the package (like a single function), and thus importing the entire package can waste your computer's memory.\n",
    "\n",
    "It is possible to import just a small part of the package as well!"
   ]
  },
  {
   "cell_type": "code",
   "execution_count": null,
   "metadata": {},
   "outputs": [],
   "source": [
    "## say from package_name import what you want\n",
    "from math import exp"
   ]
  },
  {
   "cell_type": "code",
   "execution_count": null,
   "metadata": {},
   "outputs": [],
   "source": [
    "## Now we can use euler's number without the entire math package\n",
    "e(1)"
   ]
  },
  {
   "cell_type": "markdown",
   "metadata": {},
   "source": [
    "## That's it!\n",
    "\n",
    "You've now got a good grasp on the basics of python packages. That's good because we'll be learning exclusively about different python packages from here on out."
   ]
  },
  {
   "cell_type": "markdown",
   "metadata": {},
   "source": [
    "This notebook was written for the Erd&#337;s Institute C&#337;de Data Science Boot Camp by Matthew Osborne, Ph. D., 2021.\n",
    "\n",
    "Redistribution of the material contained in this repository is conditional on acknowledgement of Matthew Tyler Osborne, Ph.D.'s original authorship and sponsorship of the Erdős Institute as subject to the license (see License.md)"
   ]
  },
  {
   "cell_type": "code",
   "execution_count": null,
   "metadata": {},
   "outputs": [],
   "source": []
  }
 ],
 "metadata": {
  "kernelspec": {
   "display_name": "Python 3",
   "language": "python",
   "name": "python3"
  },
  "language_info": {
   "codemirror_mode": {
    "name": "ipython",
    "version": 3
   },
   "file_extension": ".py",
   "mimetype": "text/x-python",
   "name": "python",
   "nbconvert_exporter": "python",
   "pygments_lexer": "ipython3",
   "version": "3.7.4"
  }
 },
 "nbformat": 4,
 "nbformat_minor": 2
}
