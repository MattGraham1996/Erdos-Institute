{
 "cells": [
  {
   "cell_type": "markdown",
   "metadata": {},
   "source": [
    "# `jupyter notebook`s\n",
    "\n",
    "We'll start off with a notebook to get you more familiar with `jupyter notebook`s that involves little to no python code at all.\n",
    "\n",
    "Since the lectures are exclusively in `jupyter notebook`s it is important that you get comfortable working in them."
   ]
  },
  {
   "cell_type": "markdown",
   "metadata": {},
   "source": [
    "## Basic Problems\n",
    "\n",
    "1. Create a code block below this markdown block and execute `2+2`."
   ]
  },
  {
   "cell_type": "code",
   "execution_count": 1,
   "metadata": {},
   "outputs": [
    {
     "data": {
      "text/plain": [
       "4"
      ]
     },
     "execution_count": 1,
     "metadata": {},
     "output_type": "execute_result"
    }
   ],
   "source": [
    "## To create a new code block click the + button in\n",
    "## the tool bar above\n",
    "2+2"
   ]
  },
  {
   "cell_type": "markdown",
   "metadata": {},
   "source": [
    "2. Create a markdown block below this markdown block and write a silly sentence."
   ]
  },
  {
   "cell_type": "markdown",
   "metadata": {},
   "source": [
    "#### To create a new markdown block again hit the + button, but this time change the type from `Code` to `Markdown`.\n",
    "\n",
    "This is a silly sentence Sally."
   ]
  },
  {
   "cell_type": "markdown",
   "metadata": {},
   "source": [
    "3. Copy and paste this markdown block immediately below using the icons in the tool bar above."
   ]
  },
  {
   "cell_type": "markdown",
   "metadata": {},
   "source": [
    "3. Copy and paste this markdown block immediately below using the icons in the tool bar above."
   ]
  },
  {
   "cell_type": "markdown",
   "metadata": {},
   "source": [
    "## More Advanced Problems\n",
    "\n",
    "1. Find out how to write mathematical statements in LaTeX within a markdown block. \n",
    "\n",
    "2. Investigate the differences between #, ##, ###, ####, and ##### (Hint: you'll need to put each on a new line)\n",
    "\n",
    "3. Find out how to highlight something as a piece of code within a markdown block.\n",
    "\n",
    "4. Find out how to insert an image into a markdown chunk. Practice with the file `cat_pic.JPG` in this folder."
   ]
  },
  {
   "cell_type": "markdown",
   "metadata": {},
   "source": [
    "##### 1.\n",
    "To write mathematical statements in a LaTeX chunk you use $\\$$ signs like this $\\$2\\$$"
   ]
  },
  {
   "cell_type": "markdown",
   "metadata": {},
   "source": [
    "##### 2. \n",
    "\n",
    "Each of the # symbols in markdown will create a header for your markdown block\n",
    "\n",
    "# Header 1\n",
    "\n",
    "## Header 2\n",
    "\n",
    "### Header 3\n",
    "\n",
    "#### Header 4\n",
    "\n",
    "##### Header 5"
   ]
  },
  {
   "cell_type": "markdown",
   "metadata": {},
   "source": [
    "##### 3.\n",
    "\n",
    "To highlight something as code you place it between accent marks \\` like so:\n",
    "\n",
    "\\`This will look like code\\`\n",
    "\n",
    "As code:\n",
    "`This will look like code`"
   ]
  },
  {
   "cell_type": "markdown",
   "metadata": {},
   "source": [
    "##### 4. \n",
    "\n",
    "One way you can insert an image is by using HTML code. Like so:\n",
    "\n",
    "`<img src=cat_pic.JPEG style=\"width:50%\"></img>`\n",
    "\n",
    "The argument `style=\"width:50%\"` tells jupyter to scale the photo to 50% of its original width.\n",
    "\n",
    "<img src=cat_pic.JPG style=\"width:50%\"></img>"
   ]
  },
  {
   "cell_type": "markdown",
   "metadata": {},
   "source": [
    "This notebook was written for the Erd&#337;s Institute C&#337;de Data Science Boot Camp by Matthew Osborne, Ph. D., 2021.\n",
    "\n",
    "Redistribution of the material contained in this repository is conditional on acknowledgement of Matthew Tyler Osborne, Ph.D.'s original authorship and sponsorship of the Erdős Institute as subject to the license (see License.md)"
   ]
  },
  {
   "cell_type": "code",
   "execution_count": null,
   "metadata": {},
   "outputs": [],
   "source": []
  }
 ],
 "metadata": {
  "kernelspec": {
   "display_name": "Python 3",
   "language": "python",
   "name": "python3"
  },
  "language_info": {
   "codemirror_mode": {
    "name": "ipython",
    "version": 3
   },
   "file_extension": ".py",
   "mimetype": "text/x-python",
   "name": "python",
   "nbconvert_exporter": "python",
   "pygments_lexer": "ipython3",
   "version": "3.7.4"
  }
 },
 "nbformat": 4,
 "nbformat_minor": 2
}
