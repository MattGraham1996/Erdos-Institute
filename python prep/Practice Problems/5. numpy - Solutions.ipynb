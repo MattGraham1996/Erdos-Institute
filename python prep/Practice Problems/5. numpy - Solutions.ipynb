{
 "cells": [
  {
   "cell_type": "markdown",
   "metadata": {},
   "source": [
    "# `numpy`\n",
    "\n",
    "These problems go along with the material presented in the `Basic Numpy` notebook in the python prep folder.\n",
    "\n",
    "## Basic Problems\n",
    "\n",
    "1. Import `numpy` and check your version.\n",
    "\n",
    "2. Create an array from $-10$ to $10$ with steps of $1$ using `np.arange`. Hint: If you don't know how `np.arange` works search for it on the web.\n",
    "\n",
    "3. Create an array from $-10$ to $10$ with $1000$ evenly spaced steps using `np.linspace`.\n",
    "\n",
    "4. Use `numpy`'s `random` subpackage (accessed using `np.random`) to generate a random draw from $[0,1]$.\n",
    "\n",
    "5. Use `numpy`'s `random` to make a random array of length 20 and store it in a variable called `x`.  Run `x > .2`, what comes out? Then try `x[x >.2]`, what happens?"
   ]
  },
  {
   "cell_type": "code",
   "execution_count": 1,
   "metadata": {},
   "outputs": [
    {
     "name": "stdout",
     "output_type": "stream",
     "text": [
      "1.20.1\n"
     ]
    }
   ],
   "source": [
    "## 1. ANSWER\n",
    "import numpy as np\n",
    "\n",
    "print(np.__version__)\n"
   ]
  },
  {
   "cell_type": "code",
   "execution_count": 2,
   "metadata": {},
   "outputs": [
    {
     "data": {
      "text/plain": [
       "array([-10,  -9,  -8,  -7,  -6,  -5,  -4,  -3,  -2,  -1,   0,   1,   2,\n",
       "         3,   4,   5,   6,   7,   8,   9,  10])"
      ]
     },
     "execution_count": 2,
     "metadata": {},
     "output_type": "execute_result"
    }
   ],
   "source": [
    "## 2. ANSWER\n",
    "\n",
    "## arange docs, https://numpy.org/doc/stable/reference/generated/numpy.arange.html\n",
    "np.arange(-10,11,1)\n",
    "\n",
    "\n"
   ]
  },
  {
   "cell_type": "code",
   "execution_count": 3,
   "metadata": {},
   "outputs": [
    {
     "data": {
      "text/plain": [
       "array([-10.        ,  -9.7979798 ,  -9.5959596 ,  -9.39393939,\n",
       "        -9.19191919,  -8.98989899,  -8.78787879,  -8.58585859,\n",
       "        -8.38383838,  -8.18181818,  -7.97979798,  -7.77777778,\n",
       "        -7.57575758,  -7.37373737,  -7.17171717,  -6.96969697,\n",
       "        -6.76767677,  -6.56565657,  -6.36363636,  -6.16161616,\n",
       "        -5.95959596,  -5.75757576,  -5.55555556,  -5.35353535,\n",
       "        -5.15151515,  -4.94949495,  -4.74747475,  -4.54545455,\n",
       "        -4.34343434,  -4.14141414,  -3.93939394,  -3.73737374,\n",
       "        -3.53535354,  -3.33333333,  -3.13131313,  -2.92929293,\n",
       "        -2.72727273,  -2.52525253,  -2.32323232,  -2.12121212,\n",
       "        -1.91919192,  -1.71717172,  -1.51515152,  -1.31313131,\n",
       "        -1.11111111,  -0.90909091,  -0.70707071,  -0.50505051,\n",
       "        -0.3030303 ,  -0.1010101 ,   0.1010101 ,   0.3030303 ,\n",
       "         0.50505051,   0.70707071,   0.90909091,   1.11111111,\n",
       "         1.31313131,   1.51515152,   1.71717172,   1.91919192,\n",
       "         2.12121212,   2.32323232,   2.52525253,   2.72727273,\n",
       "         2.92929293,   3.13131313,   3.33333333,   3.53535354,\n",
       "         3.73737374,   3.93939394,   4.14141414,   4.34343434,\n",
       "         4.54545455,   4.74747475,   4.94949495,   5.15151515,\n",
       "         5.35353535,   5.55555556,   5.75757576,   5.95959596,\n",
       "         6.16161616,   6.36363636,   6.56565657,   6.76767677,\n",
       "         6.96969697,   7.17171717,   7.37373737,   7.57575758,\n",
       "         7.77777778,   7.97979798,   8.18181818,   8.38383838,\n",
       "         8.58585859,   8.78787879,   8.98989899,   9.19191919,\n",
       "         9.39393939,   9.5959596 ,   9.7979798 ,  10.        ])"
      ]
     },
     "execution_count": 3,
     "metadata": {},
     "output_type": "execute_result"
    }
   ],
   "source": [
    "## 3. ANSWER\n",
    "\n",
    "## linspace docs, https://numpy.org/doc/stable/reference/generated/numpy.linspace.html\n",
    "\n",
    "np.linspace(-10,10,100)\n"
   ]
  },
  {
   "cell_type": "code",
   "execution_count": 4,
   "metadata": {},
   "outputs": [
    {
     "data": {
      "text/plain": [
       "0.18411843103291092"
      ]
     },
     "execution_count": 4,
     "metadata": {},
     "output_type": "execute_result"
    }
   ],
   "source": [
    "## 4. ANSWER\n",
    "\n",
    "## docs, https://numpy.org/doc/stable/reference/random/generated/numpy.random.random.html\n",
    "np.random.random()\n",
    "\n"
   ]
  },
  {
   "cell_type": "code",
   "execution_count": 5,
   "metadata": {},
   "outputs": [
    {
     "name": "stdout",
     "output_type": "stream",
     "text": [
      "[0.52432048 0.83816151 0.22209934 0.85675271 0.97106182 0.73955874\n",
      " 0.14916023 0.98479346 0.3015585  0.5686532  0.32217284 0.884321\n",
      " 0.84149034 0.49097206 0.30949994 0.68404685 0.44482149 0.43132329\n",
      " 0.52971053 0.39346162]\n",
      "\n",
      "[ True  True  True  True  True  True False  True  True  True  True  True\n",
      "  True  True  True  True  True  True  True  True]\n",
      "\n",
      "[0.52432048 0.83816151 0.22209934 0.85675271 0.97106182 0.73955874\n",
      " 0.98479346 0.3015585  0.5686532  0.32217284 0.884321   0.84149034\n",
      " 0.49097206 0.30949994 0.68404685 0.44482149 0.43132329 0.52971053\n",
      " 0.39346162]\n"
     ]
    }
   ],
   "source": [
    "## 5. ANSWER\n",
    "## Note you don't need to print out the results, I \n",
    "## just did that so I'd only need one code chunk\n",
    "\n",
    "## make the array\n",
    "x = np.random.random(20)\n",
    "print(x)\n",
    "print()\n",
    "\n",
    "## check where x > .2\n",
    "print(x > .2)\n",
    "print()\n",
    "\n",
    "## get the values of x where x > .2\n",
    "print(x[x > .2])\n",
    "\n"
   ]
  },
  {
   "cell_type": "markdown",
   "metadata": {},
   "source": [
    "## More Advanced Problems\n",
    "\n",
    "1. Rewrite your answer to the <i>Random Walk Problem</i> in Practice Problems Notebook 4, no need to write the result to file this time.\n",
    "\n",
    "2. Write a function that produces a random walk of length $n$ using `numpy`."
   ]
  },
  {
   "cell_type": "code",
   "execution_count": 6,
   "metadata": {},
   "outputs": [
    {
     "name": "stdout",
     "output_type": "stream",
     "text": [
      "1\n",
      "\n",
      "[1 0 1 0 1 1 0 0 0 0 1 0 1 0 1 1 1 1 1 0 1 0 1 0 0 1 1 0 0 1 0 0 0 0 1 1 1\n",
      " 1 0 1 0 1 1 1 0 1 1 0 1 1 1 1 1 0 0 1 0 1 1 0 1 1 1 1 0 1 1 1 1 0 0 1 1 0\n",
      " 0 1 0 1 0 1 0 0 1 0 0 1 1 0 1 1 0 1 0 1 1 1 1 1 1 1]\n",
      "\n",
      "[-1  1  1 -1  1 -1 -1 -1 -1  1  1  1  1 -1  1  1  1 -1 -1 -1 -1  1 -1 -1\n",
      "  1 -1  1 -1  1 -1 -1  1 -1 -1  1 -1 -1 -1  1  1  1 -1  1 -1  1  1  1  1\n",
      " -1 -1  1 -1 -1  1 -1  1 -1  1 -1  1 -1 -1 -1  1 -1 -1 -1 -1  1  1  1  1\n",
      " -1 -1 -1 -1  1  1 -1  1 -1 -1  1  1  1  1  1 -1 -1 -1 -1  1  1 -1 -1 -1\n",
      " -1  1  1  1]\n",
      "\n",
      "[ 0. -1.  0.  1.  0.  1.  0. -1. -2. -3. -2. -1.  0.  1.  0.  1.  2.  3.\n",
      "  2.  1.  0. -1.  0. -1. -2. -1. -2. -1. -2. -1. -2. -3. -2. -3. -4. -3.\n",
      " -4. -5. -6. -5. -4. -3. -4. -3. -4. -3. -2. -1.  0. -1. -2. -1. -2. -3.\n",
      " -2. -3. -2. -3. -2. -3. -2. -3. -4. -5. -4. -5. -6. -7. -8. -7. -6. -5.\n",
      " -4. -5. -6. -7. -8. -7. -6. -7. -6. -7. -8. -7. -6. -5. -4. -3. -4. -5.\n",
      " -6. -7. -6. -5. -6. -7. -8. -9. -8. -7. -6.]\n"
     ]
    }
   ],
   "source": [
    "## 1. ANSWER\n",
    "\n",
    "### MAKING THE FLIPS ###\n",
    "# This is the same as a coin flip\n",
    "# Tails would be a 0 and 1 would be a Heads\n",
    "print(np.random.binomial(1,p=.5))\n",
    "print()\n",
    "\n",
    "# We can get 100 flips like so\n",
    "print(np.random.binomial(1,p=.5,size=100))\n",
    "print()\n",
    "\n",
    "\n",
    "# flip the coin 100 times\n",
    "flips = np.random.binomial(1,p=.5,size=100)\n",
    "\n",
    "# We can map 0,1 to -1,1 using y=2x-1\n",
    "flips = 2*flips - 1\n",
    "print(flips)\n",
    "print()\n",
    "\n",
    "### GETTING THE POSITONS ###\n",
    "\n",
    "# initialize the positions array\n",
    "pos = np.zeros(101)\n",
    "\n",
    "# use cumsum to get the walk\n",
    "pos[1:] = np.cumsum(flips)\n",
    "\n",
    "print(pos)"
   ]
  },
  {
   "cell_type": "code",
   "execution_count": 7,
   "metadata": {},
   "outputs": [],
   "source": [
    "## 2. ANSWER\n",
    "\n",
    "# Now we just need to package the above code into a function :)\n",
    "def random_walk(N):\n",
    "    # get the flips\n",
    "    flips = np.random.binomial(1,p=.5,size=N)\n",
    "    flips = 2*flips - 1\n",
    "\n",
    "    # Get the positions\n",
    "    pos = np.zeros(N+1)\n",
    "    pos[1:] = np.cumsum(flips)\n",
    "    \n",
    "    # return the positions\n",
    "    return pos"
   ]
  },
  {
   "cell_type": "code",
   "execution_count": 8,
   "metadata": {},
   "outputs": [
    {
     "name": "stdout",
     "output_type": "stream",
     "text": [
      "[0. 1. 0. 1. 2. 1. 2. 1. 0. 1. 2.]\n",
      "\n",
      "[0. 1. 0. 1. 0. 1. 2. 1. 2. 3. 4.]\n",
      "\n",
      "[ 0. -1.  0. -1.  0. -1. -2. -3. -2. -1. -2.]\n",
      "\n",
      "[ 0.  1.  2.  1.  0. -1.  0.  1.  0.  1.  2.]\n",
      "\n",
      "[ 0. -1. -2. -3. -2. -1. -2. -3. -2. -1.  0.]\n",
      "\n",
      "[ 0. -1. -2. -1. -2. -1.  0. -1.  0.  1.  2.]\n",
      "\n",
      "[0. 1. 2. 1. 2. 1. 2. 1. 2. 3. 2.]\n",
      "\n",
      "[ 0.  1.  0. -1. -2. -3. -4. -3. -2. -1.  0.]\n",
      "\n",
      "[0. 1. 2. 1. 0. 1. 0. 1. 0. 1. 2.]\n",
      "\n",
      "[ 0.  1.  0. -1. -2. -3. -4. -3. -2. -3. -2.]\n",
      "\n"
     ]
    }
   ],
   "source": [
    "# let's print some short walks\n",
    "for i in range(10):\n",
    "    print(random_walk(10))\n",
    "    print()"
   ]
  },
  {
   "cell_type": "markdown",
   "metadata": {},
   "source": [
    "This notebook was written for the Erd&#337;s Institute C&#337;de Data Science Boot Camp by Matthew Osborne, Ph. D., 2021.\n",
    "\n",
    "Redistribution of the material contained in this repository is conditional on acknowledgement of Matthew Tyler Osborne, Ph.D.'s original authorship and sponsorship of the Erdős Institute as subject to the license (see License.md)"
   ]
  },
  {
   "cell_type": "code",
   "execution_count": null,
   "metadata": {},
   "outputs": [],
   "source": []
  }
 ],
 "metadata": {
  "kernelspec": {
   "display_name": "Python 3",
   "language": "python",
   "name": "python3"
  },
  "language_info": {
   "codemirror_mode": {
    "name": "ipython",
    "version": 3
   },
   "file_extension": ".py",
   "mimetype": "text/x-python",
   "name": "python",
   "nbconvert_exporter": "python",
   "pygments_lexer": "ipython3",
   "version": "3.7.4"
  }
 },
 "nbformat": 4,
 "nbformat_minor": 2
}
