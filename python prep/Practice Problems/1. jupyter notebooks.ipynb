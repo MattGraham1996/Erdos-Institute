{
 "cells": [
  {
   "cell_type": "markdown",
   "metadata": {},
   "source": [
    "# `jupyter notebook`s\n",
    "\n",
    "We'll start off with a notebook to get you more familiar with `jupyter notebook`s that involves little to no python code at all.\n",
    "\n",
    "Since the lectures are exclusively in `jupyter notebook`s it is important that you get comfortable working in them."
   ]
  },
  {
   "cell_type": "markdown",
   "metadata": {},
   "source": [
    "## Basic Problems\n",
    "\n",
    "1. Create a code block below this markdown block and execute `2+2`."
   ]
  },
  {
   "cell_type": "markdown",
   "metadata": {},
   "source": [
    "2. Create a markdown block below this markdown block and write a silly sentence."
   ]
  },
  {
   "cell_type": "markdown",
   "metadata": {},
   "source": [
    "3. Copy and paste this markdown block immediately below using the icons in the tool bar above."
   ]
  },
  {
   "cell_type": "markdown",
   "metadata": {},
   "source": [
    "## More Advanced Problems\n",
    "\n",
    "1. Find out how to write mathematical statements in LaTeX within a markdown block. \n",
    "\n",
    "2. Investigate the differences between #, ##, ###, ####, and ##### (Hint: you'll need to put each on a new line)\n",
    "\n",
    "3. Find out how to highlight something as a piece of code within a markdown block.\n",
    "\n",
    "4. Find out how to insert an image into a markdown chunk. Practice with the file `cat_pic.JPEG` in this folder."
   ]
  },
  {
   "cell_type": "markdown",
   "metadata": {},
   "source": [
    "This notebook was written for the Erd&#337;s Institute C&#337;de Data Science Boot Camp by Matthew Osborne, Ph. D., 2021.\n",
    "\n",
    "Redistribution of the material contained in this repository is conditional on acknowledgement of Matthew Tyler Osborne, Ph.D.'s original authorship and sponsorship of the Erdős Institute as subject to the license (see License.md)"
   ]
  },
  {
   "cell_type": "code",
   "execution_count": null,
   "metadata": {},
   "outputs": [],
   "source": []
  }
 ],
 "metadata": {
  "kernelspec": {
   "display_name": "Python 3",
   "language": "python",
   "name": "python3"
  },
  "language_info": {
   "codemirror_mode": {
    "name": "ipython",
    "version": 3
   },
   "file_extension": ".py",
   "mimetype": "text/x-python",
   "name": "python",
   "nbconvert_exporter": "python",
   "pygments_lexer": "ipython3",
   "version": "3.7.4"
  }
 },
 "nbformat": 4,
 "nbformat_minor": 2
}
