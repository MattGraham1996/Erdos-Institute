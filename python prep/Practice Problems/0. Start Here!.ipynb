{
 "cells": [
  {
   "cell_type": "markdown",
   "metadata": {},
   "source": [
    "# Start Here!\n",
    "\n",
    "In this folder are sets of practice problems that go along with each of our `python prep` notebooks. These will allow you to practice the concepts covered in those notebooks, with the safety net of answers to \"check your work\". Check your work is in quotations because coding problems typically have many solutions, and just because the solution you come up with is different than the one I provide, doesn't mean that you are wrong.\n",
    "\n",
    "Each notebook will have problems designed to be quick and easy, and others that may take a little more time. <b>Importantly</b>, if you feel overwhelmed by any one question, don't take that as a sign that you don't belong in the boot camp and give up. <i>It is okay, and natural, to not know how to code something up right away, <b>especially if you're new to coding</b></i>.\n",
    "\n",
    "Just take a breath and step back from the problem for a bit, if that doesn't help, seek out some help through any of the following:\n",
    "- ask other boot campers on the Slack channel,\n",
    "- ask me on the Slack channel,\n",
    "- check the sample solutions, or\n",
    "- Google it (or DuckDuckGo it).\n",
    "\n",
    "When coding in the real world, it is common to get stuck on something. Googling around or asking colleagues for help is the usual way to get unstuck so it's good practice to try that now.\n",
    "\n",
    "Good luck!\n",
    "\n",
    "##### NOTE: I'll be adding sample solutions to these notebooks throughout the month of April, so don't expect all of the solutions to be present on Day 1."
   ]
  },
  {
   "cell_type": "markdown",
   "metadata": {},
   "source": [
    "This notebook was written for the Erd&#337;s Institute C&#337;de Data Science Boot Camp by Matthew Osborne, Ph. D., 2021.\n",
    "\n",
    "Redistribution of the material contained in this repository is conditional on acknowledgement of Matthew Tyler Osborne, Ph.D.'s original authorship and sponsorship of the Erdős Institute as subject to the license (see License.md)"
   ]
  },
  {
   "cell_type": "code",
   "execution_count": null,
   "metadata": {},
   "outputs": [],
   "source": []
  }
 ],
 "metadata": {
  "kernelspec": {
   "display_name": "Python 3",
   "language": "python",
   "name": "python3"
  },
  "language_info": {
   "codemirror_mode": {
    "name": "ipython",
    "version": 3
   },
   "file_extension": ".py",
   "mimetype": "text/x-python",
   "name": "python",
   "nbconvert_exporter": "python",
   "pygments_lexer": "ipython3",
   "version": "3.7.4"
  }
 },
 "nbformat": 4,
 "nbformat_minor": 2
}
