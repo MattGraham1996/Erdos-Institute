{
 "cells": [
  {
   "cell_type": "markdown",
   "metadata": {},
   "source": [
    "# Basic Python\n",
    "\n",
    "Here we'll practice the material covered in python prep notebooks 2-a and 2-b.\n",
    "\n",
    "## Basic Problems\n",
    "\n",
    "1. Store the value `17` in a variable named `t`.\n",
    "\n",
    "2. Find out what `.capitalize()` does to a `str` object. Apply it to \"little orphan annie\", and \"Little orphan annie\"\n",
    "\n",
    "3. Create a `list` of the first 20 multiples of 3 using a for loop\n",
    "\n",
    "4. Create a `list` of the first 20 multiples of 7 using a `list` comprehension.\n",
    "\n",
    "5. What happens when you multiply an `str` with an integer?"
   ]
  },
  {
   "cell_type": "code",
   "execution_count": 1,
   "metadata": {},
   "outputs": [],
   "source": [
    "## 1. Answer\n",
    "t = 17\n",
    "\n"
   ]
  },
  {
   "cell_type": "code",
   "execution_count": 2,
   "metadata": {},
   "outputs": [
    {
     "name": "stdout",
     "output_type": "stream",
     "text": [
      "Little orphan annie\n",
      "\n",
      "Little orphan annie\n"
     ]
    }
   ],
   "source": [
    "## 2. Answer\n",
    "## .capitalize() will take a string and turn the firsth\n",
    "## character into the upper case version, if possible\n",
    "print(\"little orphan annie\".capitalize())\n",
    "print()\n",
    "print(\"Little orphan annie\".capitalize())\n",
    "\n"
   ]
  },
  {
   "cell_type": "code",
   "execution_count": 3,
   "metadata": {},
   "outputs": [
    {
     "name": "stdout",
     "output_type": "stream",
     "text": [
      "[3, 6, 9, 12, 15, 18, 21, 24, 27, 30, 33, 36, 39, 42, 45, 48, 51, 54, 57, 60]\n"
     ]
    }
   ],
   "source": [
    "## 3. Answer\n",
    "mult3 = []\n",
    "\n",
    "for i in range(1,21):\n",
    "    mult3.append(3*i)\n",
    "\n",
    "print(mult3)"
   ]
  },
  {
   "cell_type": "code",
   "execution_count": 4,
   "metadata": {},
   "outputs": [
    {
     "name": "stdout",
     "output_type": "stream",
     "text": [
      "[7, 14, 21, 28, 35, 42, 49, 56, 63, 70, 77, 84, 91, 98, 105, 112, 119, 126, 133, 140]\n"
     ]
    }
   ],
   "source": [
    "## 4. Answer\n",
    "print([7*i for i in range(1,21)])\n",
    "\n"
   ]
  },
  {
   "cell_type": "code",
   "execution_count": 5,
   "metadata": {},
   "outputs": [
    {
     "data": {
      "text/plain": [
       "'Hi my name isHi my name isHi my name is'"
      ]
     },
     "execution_count": 5,
     "metadata": {},
     "output_type": "execute_result"
    }
   ],
   "source": [
    "## 5. Answer\n",
    "\"Hi my name is\"*3\n",
    "\n",
    "## Multiplying an str with an integer will cause the\n",
    "## str to repeat itself that many times, assuming\n",
    "## the integer is >=1"
   ]
  },
  {
   "cell_type": "markdown",
   "metadata": {},
   "source": [
    "## More Advanced Problems\n",
    "\n",
    "1. <b>Note the original problem had a typo, the correct problem is printed below:</b>\n",
    "You can approximate $\\pi/4$ with the following sum:\n",
    "$$\n",
    "\\sum_{i = 1}^N \\frac{1}{2(2i-1)-1} - \\frac{1}{2(2i-1)+1},\n",
    "$$\n",
    "Write a `for` loop to approximate `pi`, for $N=10,20,100$.\n",
    "\n",
    "2. Write a loop to \"draw\" a right triangle made of a single letter of your choice.\n",
    "\n",
    "3. Below you'll find a `list` called `sample_words`. Make a dictionary that uses the unique words as the keys, and the number of times each word appears as the values."
   ]
  },
  {
   "cell_type": "code",
   "execution_count": 6,
   "metadata": {},
   "outputs": [],
   "source": [
    "sample_words = [\"apple\", \"banana\", \"apple\", \"computer\", \"computer\",\n",
    "               \"programming\", \"language\", \"Obama\", \"Bush\", \"Trump\",\n",
    "               \"Eisenhower\", \"president\", \"president\", \"president\",\n",
    "               \"president\", \"dog\", \"dog\", \"cat\", \"duck\", \"duck\", \"goose\",\n",
    "               \"baseball\", \"basketball\", \"football\", \"hockey\", \"soccer\",\n",
    "               \"sports\", \"lebron\", \"james\", \"ken\", \"wheeler\"]"
   ]
  },
  {
   "cell_type": "markdown",
   "metadata": {},
   "source": [
    "4. Below is a `list` called `steps`, make a variable called `position`. Make a loop that updates your position based on the step in `steps`."
   ]
  },
  {
   "cell_type": "code",
   "execution_count": 7,
   "metadata": {},
   "outputs": [],
   "source": [
    "steps = [-1,1,1,-1,-1,1,1,1,-1,-1,-1,-1,-1,1,-1,1,-1,1,1,1,-1,-1,1,1,-1,-1]"
   ]
  },
  {
   "cell_type": "code",
   "execution_count": 8,
   "metadata": {},
   "outputs": [
    {
     "name": "stdout",
     "output_type": "stream",
     "text": [
      "The estimate of pi using the 10 partial sum is 3.09162380666784\n"
     ]
    }
   ],
   "source": [
    "## 1. Answer\n",
    "\n",
    "# initialize the estimate and choose whatever value for N\n",
    "# you would like\n",
    "pi_4 = 0\n",
    "N = 10\n",
    "# N = 20\n",
    "# N = 100\n",
    "\n",
    "for i in range(1,N+1):\n",
    "    # each time through the loop add the next term in the sum\n",
    "    pi_4 = pi_4 + (1/(2*(2*i-1)-1)) - (1/(2*(2*i-1)+1))\n",
    "\n",
    "print(\"The estimate of pi using the\",N,\"partial sum is\",pi_4*4)"
   ]
  },
  {
   "cell_type": "code",
   "execution_count": 9,
   "metadata": {},
   "outputs": [
    {
     "name": "stdout",
     "output_type": "stream",
     "text": [
      "M\n",
      "MM\n",
      "MMM\n",
      "MMMM\n",
      "MMMMM\n",
      "MMMMMM\n",
      "MMMMMMM\n",
      "MMMMMMMM\n",
      "MMMMMMMMM\n",
      "\n",
      "\n",
      "MMMMMMMMM\n",
      "MMMMMMMM\n",
      "MMMMMMM\n",
      "MMMMMM\n",
      "MMMMM\n",
      "MMMM\n",
      "MMM\n",
      "MM\n",
      "M\n"
     ]
    }
   ],
   "source": [
    "## 2. Answer\n",
    "\n",
    "# A triangle where the base is on the bottom\n",
    "for i in range(1,10):\n",
    "    print(i*\"M\")\n",
    "\n",
    "print()\n",
    "print()\n",
    "\n",
    "# A triangle where the base is on top\n",
    "for i in range(1,10):\n",
    "    print((10-i)*\"M\")"
   ]
  },
  {
   "cell_type": "code",
   "execution_count": 10,
   "metadata": {},
   "outputs": [
    {
     "name": "stdout",
     "output_type": "stream",
     "text": [
      "{'apple': 2, 'banana': 1, 'computer': 2, 'programming': 1, 'language': 1, 'Obama': 1, 'Bush': 1, 'Trump': 1, 'Eisenhower': 1, 'president': 4, 'dog': 2, 'cat': 1, 'duck': 2, 'goose': 1, 'baseball': 1, 'basketball': 1, 'football': 1, 'hockey': 1, 'soccer': 1, 'sports': 1, 'lebron': 1, 'james': 1, 'ken': 1, 'wheeler': 1}\n"
     ]
    }
   ],
   "source": [
    "## 3. Answer\n",
    "\n",
    "## we can use a for loop!\n",
    "\n",
    "## Initialize an empty dictionary that we will fill\n",
    "word_dict = {}\n",
    "\n",
    "## for each word in the sample_words\n",
    "for word in sample_words:\n",
    "    # check if the word is already in the dictionary\n",
    "    if word in word_dict.keys():\n",
    "        # if it is add one to the count\n",
    "        word_dict[word] = word_dict[word] + 1\n",
    "    else:\n",
    "        # otherwise add the word to the dictionary\n",
    "        word_dict[word] = 1\n",
    "\n",
    "print(word_dict)"
   ]
  },
  {
   "cell_type": "code",
   "execution_count": 11,
   "metadata": {},
   "outputs": [
    {
     "name": "stdout",
     "output_type": "stream",
     "text": [
      "-2\n"
     ]
    }
   ],
   "source": [
    "## 4. Answer\n",
    "\n",
    "## initialize the starting position\n",
    "position = 0\n",
    "\n",
    "## for each step\n",
    "for step in steps:\n",
    "    ## add the step to the current position\n",
    "    position = position + step\n",
    "\n",
    "## You can always check with your eyes to see if this\n",
    "## is correct\n",
    "print(position)"
   ]
  },
  {
   "cell_type": "markdown",
   "metadata": {},
   "source": [
    "This notebook was written for the Erd&#337;s Institute C&#337;de Data Science Boot Camp by Matthew Osborne, Ph. D., 2021.\n",
    "\n",
    "Redistribution of the material contained in this repository is conditional on acknowledgement of Matthew Tyler Osborne, Ph.D.'s original authorship and sponsorship of the Erdős Institute as subject to the license (see License.md)"
   ]
  },
  {
   "cell_type": "code",
   "execution_count": null,
   "metadata": {},
   "outputs": [],
   "source": []
  }
 ],
 "metadata": {
  "kernelspec": {
   "display_name": "Python 3",
   "language": "python",
   "name": "python3"
  },
  "language_info": {
   "codemirror_mode": {
    "name": "ipython",
    "version": 3
   },
   "file_extension": ".py",
   "mimetype": "text/x-python",
   "name": "python",
   "nbconvert_exporter": "python",
   "pygments_lexer": "ipython3",
   "version": "3.7.4"
  }
 },
 "nbformat": 4,
 "nbformat_minor": 2
}
