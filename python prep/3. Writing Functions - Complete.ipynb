{
 "cells": [
  {
   "cell_type": "markdown",
   "metadata": {},
   "source": [
    "# Writing Functions\n",
    "\n",
    "If you're running the exact same chunk of code once or twice you can probably just copy and paste as needed, however, if you find yourself copy and pasting more than three times, it is probably in your best interest to instead write a <i>function</i> (sometimes called <i>method</i>) that you can just call instead.\n",
    "\n",
    "We'll start with a silly (to me at least) example and work up our function competence from there."
   ]
  },
  {
   "cell_type": "code",
   "execution_count": 1,
   "metadata": {},
   "outputs": [],
   "source": [
    "## To write a function you start with def function_name() then have a colon\n",
    "## all code you want included as a part of the function should be \n",
    "## properly indented!\n",
    "\n",
    "# def function_name():\n",
    "def hello_there():\n",
    "    # Then on an indented block write the code you want executed\n",
    "    print(\"Hello there.\")"
   ]
  },
  {
   "cell_type": "code",
   "execution_count": 4,
   "metadata": {},
   "outputs": [
    {
     "name": "stdout",
     "output_type": "stream",
     "text": [
      "Hello there.\n"
     ]
    }
   ],
   "source": [
    "## To call the function, just type the functions name\n",
    "## with parantheses\n",
    "hello_there()"
   ]
  },
  {
   "cell_type": "code",
   "execution_count": 5,
   "metadata": {},
   "outputs": [],
   "source": [
    "## You code\n",
    "## Write your own function called general_kenobi\n",
    "## When called it should print the string \"General Kenobi.\"\n",
    "def general_kenobi():\n",
    "    print(\"General Kenobi.\")\n",
    "\n",
    "\n"
   ]
  },
  {
   "cell_type": "code",
   "execution_count": 6,
   "metadata": {},
   "outputs": [
    {
     "name": "stdout",
     "output_type": "stream",
     "text": [
      "General Kenobi.\n",
      "Hello there.\n"
     ]
    }
   ],
   "source": [
    "## You code\n",
    "# call general_kenobi then hello_there\n",
    "general_kenobi()\n",
    "\n",
    "hello_there()"
   ]
  },
  {
   "cell_type": "markdown",
   "metadata": {},
   "source": [
    "## Wanting something in `return`\n",
    "\n",
    "We'll surely want functions that do more than just print Star Wars prequel references. In fact we'll probably want functions that give us some kind of output, that's the point of the `return` statement.\n",
    "\n",
    "`return`s end the function code chunk, and, as the name suggests, they return some output when called. Let's do an example."
   ]
  },
  {
   "cell_type": "code",
   "execution_count": 14,
   "metadata": {},
   "outputs": [],
   "source": [
    "## here's a simple example\n",
    "def make_two():\n",
    "    return 2"
   ]
  },
  {
   "cell_type": "code",
   "execution_count": 13,
   "metadata": {},
   "outputs": [
    {
     "data": {
      "text/plain": [
       "2"
      ]
     },
     "execution_count": 13,
     "metadata": {},
     "output_type": "execute_result"
    }
   ],
   "source": [
    "## A 2 should be returned\n",
    "make_two()"
   ]
  },
  {
   "cell_type": "code",
   "execution_count": 15,
   "metadata": {},
   "outputs": [
    {
     "data": {
      "text/plain": [
       "3"
      ]
     },
     "execution_count": 15,
     "metadata": {},
     "output_type": "execute_result"
    }
   ],
   "source": [
    "## You code \n",
    "## Write a function that returns the number 3\n",
    "## call it make_three\n",
    "def make_three():\n",
    "    return 3\n",
    "\n",
    "make_three()"
   ]
  },
  {
   "cell_type": "markdown",
   "metadata": {},
   "source": [
    "## Adding Arguments\n",
    "\n",
    "Sometimes we'll want our function to take in some kind of input, do something with it, then return the results. Inputs to python functions are called arguments, let's write a function that has some arguments."
   ]
  },
  {
   "cell_type": "code",
   "execution_count": 16,
   "metadata": {},
   "outputs": [],
   "source": [
    "## Here we take in a number, x, and \n",
    "## decide if it is divisible by 2\n",
    "## if it is, we return x/2\n",
    "## if it isn't we return (x+1)/2\n",
    "def weird_division(x):\n",
    "    if x%2 == 0:\n",
    "        # double indent\n",
    "        # note that if we hit this return statement\n",
    "        # we exit the function and don't run\n",
    "        # any of the remaining code\n",
    "        return x/2\n",
    "    else:\n",
    "        return (x+1)/2"
   ]
  },
  {
   "cell_type": "code",
   "execution_count": 20,
   "metadata": {},
   "outputs": [
    {
     "data": {
      "text/plain": [
       "4.0"
      ]
     },
     "execution_count": 20,
     "metadata": {},
     "output_type": "execute_result"
    }
   ],
   "source": [
    "## You code\n",
    "## run weird_divison a few times\n",
    "## and see what happens\n",
    "weird_division(7)\n",
    "\n",
    "\n"
   ]
  },
  {
   "cell_type": "code",
   "execution_count": 24,
   "metadata": {},
   "outputs": [],
   "source": [
    "## You code\n",
    "## write a function that takes in an integer\n",
    "## and returns the string \n",
    "## \"even\" or \"odd\" depending on whether it is\n",
    "## even or odd\n",
    "def even_or_odd(x):\n",
    "    if type(x) == int:\n",
    "        if x%2 == 0:\n",
    "            return \"even\"\n",
    "        else:\n",
    "            return \"odd\"\n",
    "    else:\n",
    "        return \"Not an 'int'\"\n"
   ]
  },
  {
   "cell_type": "code",
   "execution_count": 26,
   "metadata": {},
   "outputs": [
    {
     "data": {
      "text/plain": [
       "\"Not an 'int'\""
      ]
     },
     "execution_count": 26,
     "metadata": {},
     "output_type": "execute_result"
    }
   ],
   "source": [
    "even_or_odd(8.14)"
   ]
  },
  {
   "cell_type": "markdown",
   "metadata": {},
   "source": [
    "#### Arguments with Default Arguments\n",
    "\n",
    "Sometimes we'll want to make a function that has an argument with a default value that can be altered by the user. This can be done!\n",
    "\n",
    "In order to do this you first place all the arguments that must be entered by the user, and then follow it by all the arguments that have a default value. Let's see"
   ]
  },
  {
   "cell_type": "code",
   "execution_count": 27,
   "metadata": {},
   "outputs": [],
   "source": [
    "## x will need to be entered each time it is called\n",
    "## y has a default value of 2, but can be changed\n",
    "def divisible_by(x,y=2):\n",
    "    if x%y == 0:\n",
    "        print(\"Yes.\",x,\"is divisible by\",y)\n",
    "    else:\n",
    "        print(\"No.\",x,\"is not divisble by\",y)"
   ]
  },
  {
   "cell_type": "code",
   "execution_count": 29,
   "metadata": {},
   "outputs": [
    {
     "name": "stdout",
     "output_type": "stream",
     "text": [
      "No. 3 is not divisble by 2\n",
      "Yes. 3 is divisible by 3\n",
      "Yes. 3 is divisible by 3\n"
     ]
    }
   ],
   "source": [
    "## let's first call divisible_by using any integer for x\n",
    "## and keeping y at the default value of 2\n",
    "divisible_by(3)\n",
    "\n",
    "## Now let's change the argument for y\n",
    "## both of the following work\n",
    "divisible_by(3, y=3)\n",
    "\n",
    "divisible_by(3, 3)\n",
    "\n",
    "## but it is good practice to use the variable name\n",
    "## so people who read your code, know what you're doing\n",
    "\n"
   ]
  },
  {
   "cell_type": "code",
   "execution_count": 30,
   "metadata": {},
   "outputs": [],
   "source": [
    "## You code\n",
    "## write a function that can take in three numbers x, y, and z\n",
    "## and multiply them\n",
    "## have z default to 17\n",
    "def weird_multiply(x, y, z=17):\n",
    "    return x*y*z\n",
    "\n",
    "\n",
    "\n"
   ]
  },
  {
   "cell_type": "code",
   "execution_count": 31,
   "metadata": {},
   "outputs": [
    {
     "data": {
      "text/plain": [
       "34"
      ]
     },
     "execution_count": 31,
     "metadata": {},
     "output_type": "execute_result"
    }
   ],
   "source": [
    "## You code\n",
    "## now call that function and use the default value for z\n",
    "weird_multiply(1,2)\n"
   ]
  },
  {
   "cell_type": "code",
   "execution_count": 33,
   "metadata": {},
   "outputs": [
    {
     "data": {
      "text/plain": [
       "32"
      ]
     },
     "execution_count": 33,
     "metadata": {},
     "output_type": "execute_result"
    }
   ],
   "source": [
    "## You code\n",
    "## now call that function and change the value of z\n",
    "weird_multiply(1,2,z=16)\n"
   ]
  },
  {
   "cell_type": "markdown",
   "metadata": {},
   "source": [
    "#### An Aside on Variable Scope\n",
    "\n",
    "Maybe you're sitting at your computer worried about what might go wrong if the variable name used in your function is the same as a variable name outside of your function. Well worry no longer.\n",
    "\n",
    "Variables created in a normal non-function code chunk are known as `global variables`. Let's look at an example."
   ]
  },
  {
   "cell_type": "code",
   "execution_count": 34,
   "metadata": {},
   "outputs": [],
   "source": [
    "## running this makes apple a global variable\n",
    "apple = 10"
   ]
  },
  {
   "cell_type": "code",
   "execution_count": 35,
   "metadata": {},
   "outputs": [
    {
     "data": {
      "text/plain": [
       "10"
      ]
     },
     "execution_count": 35,
     "metadata": {},
     "output_type": "execute_result"
    }
   ],
   "source": [
    "apple"
   ]
  },
  {
   "cell_type": "markdown",
   "metadata": {},
   "source": [
    "After you run the above code chunk `apple` becomes a global variable.\n",
    "\n",
    "Variables defined within a function are known as `local variables`. Let's look at another example."
   ]
  },
  {
   "cell_type": "code",
   "execution_count": 44,
   "metadata": {},
   "outputs": [],
   "source": [
    "## Within dumb_function 'apple' is a local variable\n",
    "def dumb_function(apple):\n",
    "    print(apple)"
   ]
  },
  {
   "cell_type": "markdown",
   "metadata": {},
   "source": [
    "In python local variables take precedence over global variables. This means that when we call `dumb_function` the value that gets printed is whatever you input as the `apple` argument."
   ]
  },
  {
   "cell_type": "code",
   "execution_count": 45,
   "metadata": {},
   "outputs": [
    {
     "name": "stdout",
     "output_type": "stream",
     "text": [
      "peanut butter\n"
     ]
    }
   ],
   "source": [
    "## STOP\n",
    "## Before running this, what do you think the output will be?\n",
    "## only run once you have thought of the answer \n",
    "dumb_function(\"peanut butter\")"
   ]
  },
  {
   "cell_type": "code",
   "execution_count": 46,
   "metadata": {},
   "outputs": [
    {
     "data": {
      "text/plain": [
       "10"
      ]
     },
     "execution_count": 46,
     "metadata": {},
     "output_type": "execute_result"
    }
   ],
   "source": [
    "apple"
   ]
  },
  {
   "cell_type": "markdown",
   "metadata": {},
   "source": [
    "### Anonymous (or Lambda) Functions\n",
    "\n",
    "In some settings it will be useful to use a function without having to store it in memory. In these settings you would want to write an \"anonymous function\", so called because it is not stored within a named variable. In python it is more common to call anonymous functions \"lambda functions\". Let's see why right now."
   ]
  },
  {
   "cell_type": "code",
   "execution_count": 47,
   "metadata": {},
   "outputs": [
    {
     "data": {
      "text/plain": [
       "<function __main__.<lambda>(x)>"
      ]
     },
     "execution_count": 47,
     "metadata": {},
     "output_type": "execute_result"
    }
   ],
   "source": [
    "## The syntax of a lambda function is\n",
    "## lambda arguments: expression\n",
    "## here x is the argument, the expression is x times 2\n",
    "lambda x: x * 2"
   ]
  },
  {
   "cell_type": "code",
   "execution_count": 48,
   "metadata": {},
   "outputs": [],
   "source": [
    "## We can abuse this to quickly define a function\n",
    "## without a def or return statement\n",
    "double = lambda x: x * 2"
   ]
  },
  {
   "cell_type": "code",
   "execution_count": 49,
   "metadata": {},
   "outputs": [
    {
     "data": {
      "text/plain": [
       "<function __main__.<lambda>(x)>"
      ]
     },
     "execution_count": 49,
     "metadata": {},
     "output_type": "execute_result"
    }
   ],
   "source": [
    "double"
   ]
  },
  {
   "cell_type": "code",
   "execution_count": 50,
   "metadata": {},
   "outputs": [
    {
     "data": {
      "text/plain": [
       "166"
      ]
     },
     "execution_count": 50,
     "metadata": {},
     "output_type": "execute_result"
    }
   ],
   "source": [
    "## You code\n",
    "## call double using any number you'd like\n",
    "double(83)\n",
    "\n"
   ]
  },
  {
   "cell_type": "code",
   "execution_count": 51,
   "metadata": {},
   "outputs": [
    {
     "data": {
      "text/plain": [
       "25"
      ]
     },
     "execution_count": 51,
     "metadata": {},
     "output_type": "execute_result"
    }
   ],
   "source": [
    "## You code\n",
    "## Write a lambda function for multiplying a number by 5\n",
    "times_five = lambda x: x * 5\n",
    "\n",
    "times_five(5)"
   ]
  },
  {
   "cell_type": "markdown",
   "metadata": {},
   "source": [
    "You might be wondering why lambda functions exist, or why they might be useful. That's fair!\n",
    "\n",
    "Their true use comes later when you've learned a little more python. For example, sometimes we may wish to apply a certain operation to a collection of items all at once, there are ways in python for doing this, and lambda functions can be used quite frequently to help."
   ]
  },
  {
   "cell_type": "markdown",
   "metadata": {},
   "source": [
    "## That's it for Functions!\n",
    "\n",
    "That's all we'll touch on for functions in this prereq, this was not a comprehensive tour of functions in python, but it is all you'll need to know to utilize them in the boot camp."
   ]
  },
  {
   "cell_type": "markdown",
   "metadata": {},
   "source": [
    "This notebook was written for the Erd&#337;s Institute C&#337;de Data Science Boot Camp by Matthew Osborne, Ph. D., 2021.\n",
    "\n",
    "Redistribution of the material contained in this repository is conditional on acknowledgement of Matthew Tyler Osborne, Ph.D.'s original authorship and sponsorship of the Erdős Institute as subject to the license (see License.md)"
   ]
  },
  {
   "cell_type": "code",
   "execution_count": null,
   "metadata": {},
   "outputs": [],
   "source": []
  }
 ],
 "metadata": {
  "kernelspec": {
   "display_name": "Python 3",
   "language": "python",
   "name": "python3"
  },
  "language_info": {
   "codemirror_mode": {
    "name": "ipython",
    "version": 3
   },
   "file_extension": ".py",
   "mimetype": "text/x-python",
   "name": "python",
   "nbconvert_exporter": "python",
   "pygments_lexer": "ipython3",
   "version": "3.7.4"
  }
 },
 "nbformat": 4,
 "nbformat_minor": 2
}
