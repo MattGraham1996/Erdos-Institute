{
 "cells": [
  {
   "cell_type": "markdown",
   "metadata": {},
   "source": [
    "# Basic Python (And Coding) - Conditionals and Loops\n",
    "\n",
    "Now that you're familiar with the basic data types we can dive into some basic coding structures, conditional statements and loops.\n",
    "\n",
    "Let's go!"
   ]
  },
  {
   "cell_type": "markdown",
   "metadata": {},
   "source": [
    "## Conditionals\n",
    "\n",
    "Conditional statements are chunks of code that will run, depending on the truth value of some logical statement. Let's look at a dumb joke for a nice example,\n",
    "\n",
    "<br>\n",
    "A woman sends her partner, who is a computer programmer, to the grocery store, she tells them:\n",
    "\n",
    "'I need butter, sugar and cooking oil. Also, get a loaf of bread and <i>if they have eggs</i>, get 6.'\n",
    "\n",
    "The partner returns with the butter, sugar and cooking oil, as well as 6 loaves of bread.\n",
    "\n",
    "The woman asks: 'Why the heck did you get 6 loaves of bread?'\n",
    "\n",
    "To which the partner replies: 'They had eggs.'\n",
    "<br>\n",
    "\n",
    "In this dumb example, the logical statement was <i>if they have eggs</i>, because it was `True`, the programmer executed the command <i>get 6</i>.\n",
    "\n",
    "Conditional statements are denoted with `if`s and `else`s.\n",
    "\n",
    "### `if` Statements\n",
    "\n",
    "An `if` statement checks to see if the logical is `True` and if it is, it executes the code that follows. \n",
    "\n",
    "These typically use standard math operations:\n",
    "- `a == b` checks if `a` is equal to `b`\n",
    "- `a != b` checks if `a` is not equal to `b`\n",
    "- `a < b` checks if `a` is less than `b`\n",
    "- `a <= b` checks if `a` is less than or equal to `b`\n",
    "- `a > b` checks if `a` is greater than `b`\n",
    "- `a >= b` checks if `a` is greater than or equal to `b`.\n",
    "\n",
    "\n",
    "Let's see an example.\n",
    "\n",
    "##### python uses whitespace\n",
    "\n",
    "We'll see in this example that python is dependent on whitespace to know what to do."
   ]
  },
  {
   "cell_type": "code",
   "execution_count": 1,
   "metadata": {},
   "outputs": [
    {
     "name": "stdout",
     "output_type": "stream",
     "text": [
      "2 > 1\n"
     ]
    }
   ],
   "source": [
    "## if statements\n",
    "## first write if, then the logical statement, then a colon (:)\n",
    "## The code you want executed should then be indented until you no\n",
    "## longer want to be in the conditional\n",
    "\n",
    "# The conditional\n",
    "if 2 > 1:\n",
    "    # The indent\n",
    "    print(\"2 > 1\")"
   ]
  },
  {
   "cell_type": "code",
   "execution_count": 5,
   "metadata": {},
   "outputs": [
    {
     "name": "stdout",
     "output_type": "stream",
     "text": [
      "3 > 1\n",
      "Apples are healthy!\n"
     ]
    }
   ],
   "source": [
    "## Check - Whitespace is important!\n",
    "## What happens when you run this?\n",
    "if 3 > 1:\n",
    "    print(\"3 > 1\")\n",
    "    print(\"Apples are healthy!\")"
   ]
  },
  {
   "cell_type": "code",
   "execution_count": 6,
   "metadata": {},
   "outputs": [
    {
     "name": "stdout",
     "output_type": "stream",
     "text": [
      "2 > 1\n",
      "2 < 3\n"
     ]
    }
   ],
   "source": [
    "## You can put a conditional in a conditional\n",
    "## just make sure you indent properly\n",
    "if 2 > 1:\n",
    "    print(\"2 > 1\")\n",
    "    if 2 < 3:\n",
    "        # we now need to indent again\n",
    "        print(\"2 < 3\")"
   ]
  },
  {
   "cell_type": "markdown",
   "metadata": {},
   "source": [
    "#### and, or, and negation\n",
    "\n",
    "Sometimes you might have a logical statement that is more complicated than $2>3$. Perhaps you want to check if a number stored in `x` is between two other numbers, or if $|x| > 10$, or if $x\\neq 2$.\n",
    "\n",
    "Luckily python has a number of ways you can do all of that!\n",
    "\n",
    "##### `and` or `&`\n",
    "\n",
    "To check if more than one logical statement are all true at the same time you can use `and` or `&`."
   ]
  },
  {
   "cell_type": "code",
   "execution_count": 7,
   "metadata": {},
   "outputs": [],
   "source": [
    "## You code\n",
    "## put in a numeric value for x below\n",
    "x = 71"
   ]
  },
  {
   "cell_type": "code",
   "execution_count": 8,
   "metadata": {},
   "outputs": [
    {
     "name": "stdout",
     "output_type": "stream",
     "text": [
      "x is >2 and <100\n",
      "x is >2 and <100\n"
     ]
    }
   ],
   "source": [
    "## put each unique logical statement in parantheses\n",
    "if (x > 2) & (x <100):\n",
    "    print(\"x is >2 and <100\")\n",
    "    \n",
    "## equivalently\n",
    "if (x > 2) and (x <100):\n",
    "    print(\"x is >2 and <100\")\n"
   ]
  },
  {
   "cell_type": "markdown",
   "metadata": {},
   "source": [
    "##### `or` or `|`\n",
    "\n",
    "To check if one logical or another is `True` you can use `or` or `|`.\n",
    "\n",
    "Try and see if you can write code to check if $|x|>50$."
   ]
  },
  {
   "cell_type": "code",
   "execution_count": 9,
   "metadata": {},
   "outputs": [
    {
     "name": "stdout",
     "output_type": "stream",
     "text": [
      "|x| > 50\n",
      "|x| > 50\n"
     ]
    }
   ],
   "source": [
    "## You code here\n",
    "## again remember to place unique logical statements in parantheses\n",
    "## between them place | or or\n",
    "\n",
    "if (x > 50) | (x < -50):\n",
    "    print(\"|x| > 50\")\n",
    "\n",
    "if (x > 50) or  (x < -50):\n",
    "    print(\"|x| > 50\")\n"
   ]
  },
  {
   "cell_type": "markdown",
   "metadata": {},
   "source": [
    "##### negation with `not` or `!`\n",
    "\n",
    "You can check for when something is <i>not</i> `True` (aka `False`) using `not` or `!`.\n",
    "\n",
    "First I'll code then you code."
   ]
  },
  {
   "cell_type": "code",
   "execution_count": 10,
   "metadata": {},
   "outputs": [
    {
     "name": "stdout",
     "output_type": "stream",
     "text": [
      "x does not equal 4\n"
     ]
    }
   ],
   "source": [
    "## I code here\n",
    "## place not (or !) in front of the logical statement you want to check\n",
    "## here we'll see if x does not equal 4\n",
    "if not x==4:\n",
    "    print(\"x does not equal 4\")"
   ]
  },
  {
   "cell_type": "code",
   "execution_count": 14,
   "metadata": {},
   "outputs": [
    {
     "name": "stdout",
     "output_type": "stream",
     "text": [
      "x does not equal 4\n"
     ]
    }
   ],
   "source": [
    "## You code\n",
    "## try and make the above code work using ! instead of not\n",
    "if x!=4:\n",
    "    print(\"x does not equal 4\")"
   ]
  },
  {
   "cell_type": "markdown",
   "metadata": {},
   "source": [
    "### `if` `else` Statements\n",
    "\n",
    "Surely you won't want to write `if` statements for every single possible outcome, hence the `else` statement.\n",
    "\n",
    "An `else` statement executes a chunk of code when the logical statement for the `if` clause is `False`."
   ]
  },
  {
   "cell_type": "code",
   "execution_count": 15,
   "metadata": {},
   "outputs": [
    {
     "name": "stdout",
     "output_type": "stream",
     "text": [
      "x > 2\n"
     ]
    }
   ],
   "source": [
    "## start with an if\n",
    "if x > 2:\n",
    "    print(\"x > 2\")\n",
    "## now we go back to the identation level of the if\n",
    "## and write an else:\n",
    "else:\n",
    "    ## then we must again indent\n",
    "    print(\"x <= 2\")"
   ]
  },
  {
   "cell_type": "markdown",
   "metadata": {},
   "source": [
    "### `if` `else` `if` or `elif`\n",
    "\n",
    "`if` `else`s can be chained to form a series of logical checks with the `elif` statement, which is short for `else` `if`."
   ]
  },
  {
   "cell_type": "code",
   "execution_count": 16,
   "metadata": {},
   "outputs": [
    {
     "name": "stdout",
     "output_type": "stream",
     "text": [
      "x > 2\n"
     ]
    }
   ],
   "source": [
    "## start with an if\n",
    "if x > 2:\n",
    "    print(\"x > 2\")\n",
    "## then write elif followed by a logical and a colon\n",
    "elif x > -1:\n",
    "    ## there's that indent again!\n",
    "    print(\"2 >= x > -1\")\n",
    "## let's do it again\n",
    "elif x > -4:\n",
    "    print(\"-1 >= x > -4\")\n",
    "## and we end with an else\n",
    "else:\n",
    "    print(\"-4 > x\")"
   ]
  },
  {
   "cell_type": "code",
   "execution_count": 17,
   "metadata": {},
   "outputs": [
    {
     "name": "stdout",
     "output_type": "stream",
     "text": [
      "y is not divisible by 2\n"
     ]
    }
   ],
   "source": [
    "## You code\n",
    "## % in python represents modular division\n",
    "## meaning a%b returns the remainder after a is divided by b\n",
    "## First set y as any integer you fancy\n",
    "y = 11\n",
    "\n",
    "## now write an if else statement that prints out if y\n",
    "## is or is not divisible by 2\n",
    "if y%2 == 0:\n",
    "    print(\"y is divisible by 2\")\n",
    "else:\n",
    "    print(\"y is not divisible by 2\")"
   ]
  },
  {
   "cell_type": "code",
   "execution_count": 21,
   "metadata": {},
   "outputs": [
    {
     "name": "stdout",
     "output_type": "stream",
     "text": [
      "y is not divisible by 2\n",
      "y is not divisible by 3\n",
      "y is not divisible by 5\n",
      "y is not divisible by 7\n"
     ]
    }
   ],
   "source": [
    "## You code\n",
    "## Now write an if else if\n",
    "## to see if y is divisble by 2, 3, 5, 7, or not\n",
    "if y%2 == 0:\n",
    "    print(\"y is divisible by 2\")\n",
    "else:\n",
    "    print(\"y is not divisible by 2\")\n",
    "    \n",
    "if y%3 == 0:\n",
    "    print(\"y is divisible by 3\")\n",
    "else:\n",
    "    print(\"y is not divisible by 3\")\n",
    "    \n",
    "if y%5 == 0:\n",
    "    print(\"y is divisible by 5\")\n",
    "else:\n",
    "    print(\"y is not divisible by 5\")\n",
    "    \n",
    "if y%7 == 0:\n",
    "    print(\"y is divisible by 7\")\n",
    "else:\n",
    "    print(\"y is not divisible by 7\")\n",
    "\n",
    "\n"
   ]
  },
  {
   "cell_type": "markdown",
   "metadata": {},
   "source": [
    "## Loops\n",
    "\n",
    "Maybe you want to execute a chunk of code ten or $100$ times, or maybe you want a code chunk to execute until a certain condition is met. Then you want to run a code loop!\n",
    "\n",
    "### `for` Loops\n",
    "\n",
    "A `for` loop runs a chunk of code a certain number of times, or through a certain iterable object (we'll see what that means soon). Note here is the documentation on `for` loops in python <a href=\"https://docs.python.org/3/tutorial/controlflow.html#for-statements\">https://docs.python.org/3/tutorial/controlflow.html#for-statements</a>.\n",
    "\n",
    "##### `range()`\n",
    "\n",
    "Before we show how to code up a `for` loop, let's touch on `range()`. `range()` produces a sequence of numbers between two integers at certain intervals depending on the function input, here is the documentation on `range()`, <a href=\"https://docs.python.org/3/library/functions.html#func-range\">https://docs.python.org/3/library/functions.html#func-range</a>."
   ]
  },
  {
   "cell_type": "code",
   "execution_count": 26,
   "metadata": {},
   "outputs": [
    {
     "data": {
      "text/plain": [
       "range(0, 10)"
      ]
     },
     "execution_count": 26,
     "metadata": {},
     "output_type": "execute_result"
    }
   ],
   "source": [
    "## you can input a number, n, and range will go from 0 to n-1\n",
    "## this will range from 0 to 9, i.e. 10 total numbers\n",
    "range(10)"
   ]
  },
  {
   "cell_type": "code",
   "execution_count": 27,
   "metadata": {},
   "outputs": [
    {
     "data": {
      "text/plain": [
       "range(71, 142)"
      ]
     },
     "execution_count": 27,
     "metadata": {},
     "output_type": "execute_result"
    }
   ],
   "source": [
    "## You can specify a start and stop like so, again at intervals of 1\n",
    "range(71,142)"
   ]
  },
  {
   "cell_type": "code",
   "execution_count": 30,
   "metadata": {},
   "outputs": [
    {
     "data": {
      "text/plain": [
       "range(71, 142, 3)"
      ]
     },
     "execution_count": 30,
     "metadata": {},
     "output_type": "execute_result"
    }
   ],
   "source": [
    "## you can also specify a spacing with a third \"step\" argument\n",
    "## this goes from 71 to 142 in steps of 3\n",
    "range(71,142,3)"
   ]
  },
  {
   "cell_type": "markdown",
   "metadata": {},
   "source": [
    "##### back to `for` loops\n",
    "\n",
    "Back to `for` loops!"
   ]
  },
  {
   "cell_type": "code",
   "execution_count": 31,
   "metadata": {},
   "outputs": [
    {
     "name": "stdout",
     "output_type": "stream",
     "text": [
      "0\n",
      "1\n",
      "2\n",
      "3\n",
      "4\n",
      "5\n",
      "6\n",
      "7\n",
      "8\n",
      "9\n",
      "all done\n"
     ]
    }
   ],
   "source": [
    "## A for loop start with the for statement,\n",
    "## i.e. for blank in blank\n",
    "for i in range(0,10):\n",
    "    ## then our good friend the indent\n",
    "    ## which denotes the code chunk we want executed\n",
    "    ## each time through the loop\n",
    "    print(i)\n",
    "    \n",
    "## once we're done with the loop we return to the original\n",
    "## indent level \n",
    "print(\"all done\")"
   ]
  },
  {
   "cell_type": "code",
   "execution_count": 32,
   "metadata": {},
   "outputs": [
    {
     "name": "stdout",
     "output_type": "stream",
     "text": [
      "apple\n",
      "banana\n",
      "pear\n"
     ]
    }
   ],
   "source": [
    "## You can loop through more than ranges\n",
    "## you can loop through any \"iterable\" object\n",
    "## like so:\n",
    "for fruit in [\"apple\", \"banana\", \"pear\"]:\n",
    "    print(fruit)"
   ]
  },
  {
   "cell_type": "code",
   "execution_count": 33,
   "metadata": {},
   "outputs": [
    {
     "ename": "TypeError",
     "evalue": "'int' object is not iterable",
     "output_type": "error",
     "traceback": [
      "\u001b[0;31m---------------------------------------------------------------------------\u001b[0m",
      "\u001b[0;31mTypeError\u001b[0m                                 Traceback (most recent call last)",
      "\u001b[0;32m<ipython-input-33-626be9d88f3b>\u001b[0m in \u001b[0;36m<module>\u001b[0;34m\u001b[0m\n\u001b[1;32m      1\u001b[0m \u001b[0;31m## iterables are things like lists, tuples, and ranges\u001b[0m\u001b[0;34m\u001b[0m\u001b[0;34m\u001b[0m\u001b[0;34m\u001b[0m\u001b[0m\n\u001b[1;32m      2\u001b[0m \u001b[0;31m## See what happens when you try to loop through an integer\u001b[0m\u001b[0;34m\u001b[0m\u001b[0;34m\u001b[0m\u001b[0;34m\u001b[0m\u001b[0m\n\u001b[0;32m----> 3\u001b[0;31m \u001b[0;32mfor\u001b[0m \u001b[0ma\u001b[0m \u001b[0;32min\u001b[0m \u001b[0;36m3\u001b[0m\u001b[0;34m:\u001b[0m\u001b[0;34m\u001b[0m\u001b[0;34m\u001b[0m\u001b[0m\n\u001b[0m\u001b[1;32m      4\u001b[0m     \u001b[0mprint\u001b[0m\u001b[0;34m(\u001b[0m\u001b[0ma\u001b[0m\u001b[0;34m)\u001b[0m\u001b[0;34m\u001b[0m\u001b[0;34m\u001b[0m\u001b[0m\n",
      "\u001b[0;31mTypeError\u001b[0m: 'int' object is not iterable"
     ]
    }
   ],
   "source": [
    "## iterables are things like lists, tuples, and ranges\n",
    "## See what happens when you try to loop through an integer\n",
    "for a in 3:\n",
    "    print(a)"
   ]
  },
  {
   "cell_type": "markdown",
   "metadata": {},
   "source": [
    "#### `list` Comprehensions\n",
    "\n",
    "`for` loops are also used to create `list`s using what are known as `list` comprehensions.\n",
    "\n",
    "A `list` comprehension works like this:\n",
    "`[item for item in iterable given some logical]`\n",
    "\n",
    "Let's see a concrete example"
   ]
  },
  {
   "cell_type": "code",
   "execution_count": 34,
   "metadata": {},
   "outputs": [
    {
     "name": "stdout",
     "output_type": "stream",
     "text": [
      "[2, 4, 6, 8, 10, 12, 14, 16, 18, 20, 22, 24, 26, 28, 30, 32, 34, 36, 38, 40, 42, 44, 46, 48, 50, 52, 54, 56, 58, 60, 62, 64, 66, 68, 70]\n"
     ]
    }
   ],
   "source": [
    "## Let's create a list of all the even numbers \n",
    "## from 1 to 71\n",
    "evens_1_71 = [i for i in range(1,72) if i%2 == 0]\n",
    "\n",
    "print(evens_1_71)"
   ]
  },
  {
   "cell_type": "code",
   "execution_count": 35,
   "metadata": {},
   "outputs": [
    {
     "data": {
      "text/plain": [
       "[7, 14, 21, 28, 35, 42, 49, 56, 63, 70, 77, 84, 91, 98, 105]"
      ]
     },
     "execution_count": 35,
     "metadata": {},
     "output_type": "execute_result"
    }
   ],
   "source": [
    "## You code\n",
    "## create a list of all the numbers divisible by 7 from 1 to 111\n",
    "## using a list comprehension\n",
    "[i for i in range(1,111) if i%7 == 0]"
   ]
  },
  {
   "cell_type": "markdown",
   "metadata": {},
   "source": [
    "##### Combining a conditional with a for loop\n",
    "\n",
    "We can combine what we've learned so far to nest a conditional `if` `else` statement inside of a `for` loop."
   ]
  },
  {
   "cell_type": "code",
   "execution_count": 36,
   "metadata": {},
   "outputs": [
    {
     "name": "stdout",
     "output_type": "stream",
     "text": [
      "7 is divisible by 7.\n",
      "11 is divisible by 11.\n",
      "14 is divisible by 7.\n",
      "21 is divisible by 7.\n",
      "22 is divisible by 11.\n",
      "28 is divisible by 7.\n",
      "33 is divisible by 11.\n",
      "35 is divisible by 7.\n",
      "42 is divisible by 7.\n",
      "44 is divisible by 11.\n",
      "49 is divisible by 7.\n",
      "55 is divisible by 11.\n",
      "56 is divisible by 7.\n",
      "63 is divisible by 7.\n",
      "66 is divisible by 11.\n",
      "70 is divisible by 7.\n",
      "77 is divisible by 7.\n",
      "77 is divisible by 11.\n",
      "84 is divisible by 7.\n",
      "88 is divisible by 11.\n",
      "91 is divisible by 7.\n",
      "98 is divisible by 7.\n",
      "99 is divisible by 11.\n"
     ]
    }
   ],
   "source": [
    "## Let's print out all numbers that are\n",
    "## divisible by 7 or 11 between 1 and 100\n",
    "\n",
    "## first the for loop\n",
    "for i in range(1,101):\n",
    "    ## our indent friend\n",
    "    ## now the conditonal\n",
    "    if i%7 == 0:\n",
    "        ## oh boy, two indents!\n",
    "        print(i,\"is divisible by 7.\")\n",
    "    if i%11 == 0:\n",
    "        print(i,\"is divisible by 11.\")"
   ]
  },
  {
   "cell_type": "code",
   "execution_count": 37,
   "metadata": {},
   "outputs": [
    {
     "name": "stdout",
     "output_type": "stream",
     "text": [
      "1 not divisible by 7 or 11\n",
      "2 not divisible by 7 or 11\n",
      "3 not divisible by 7 or 11\n",
      "4 not divisible by 7 or 11\n",
      "5 not divisible by 7 or 11\n",
      "6 not divisible by 7 or 11\n",
      "7 is divisible by 7, but not 11\n",
      "8 not divisible by 7 or 11\n",
      "9 not divisible by 7 or 11\n",
      "10 not divisible by 7 or 11\n",
      "11 is divisble by 11, but not 7\n",
      "12 not divisible by 7 or 11\n",
      "13 not divisible by 7 or 11\n",
      "14 is divisible by 7, but not 11\n",
      "15 not divisible by 7 or 11\n",
      "16 not divisible by 7 or 11\n",
      "17 not divisible by 7 or 11\n",
      "18 not divisible by 7 or 11\n",
      "19 not divisible by 7 or 11\n",
      "20 not divisible by 7 or 11\n",
      "21 is divisible by 7, but not 11\n",
      "22 is divisble by 11, but not 7\n",
      "23 not divisible by 7 or 11\n",
      "24 not divisible by 7 or 11\n",
      "25 not divisible by 7 or 11\n",
      "26 not divisible by 7 or 11\n",
      "27 not divisible by 7 or 11\n",
      "28 is divisible by 7, but not 11\n",
      "29 not divisible by 7 or 11\n",
      "30 not divisible by 7 or 11\n",
      "31 not divisible by 7 or 11\n",
      "32 not divisible by 7 or 11\n",
      "33 is divisble by 11, but not 7\n",
      "34 not divisible by 7 or 11\n",
      "35 is divisible by 7, but not 11\n",
      "36 not divisible by 7 or 11\n",
      "37 not divisible by 7 or 11\n",
      "38 not divisible by 7 or 11\n",
      "39 not divisible by 7 or 11\n",
      "40 not divisible by 7 or 11\n",
      "41 not divisible by 7 or 11\n",
      "42 is divisible by 7, but not 11\n",
      "43 not divisible by 7 or 11\n",
      "44 is divisble by 11, but not 7\n",
      "45 not divisible by 7 or 11\n",
      "46 not divisible by 7 or 11\n",
      "47 not divisible by 7 or 11\n",
      "48 not divisible by 7 or 11\n",
      "49 is divisible by 7, but not 11\n",
      "50 not divisible by 7 or 11\n",
      "51 not divisible by 7 or 11\n",
      "52 not divisible by 7 or 11\n",
      "53 not divisible by 7 or 11\n",
      "54 not divisible by 7 or 11\n",
      "55 is divisble by 11, but not 7\n",
      "56 is divisible by 7, but not 11\n",
      "57 not divisible by 7 or 11\n",
      "58 not divisible by 7 or 11\n",
      "59 not divisible by 7 or 11\n",
      "60 not divisible by 7 or 11\n",
      "61 not divisible by 7 or 11\n",
      "62 not divisible by 7 or 11\n",
      "63 is divisible by 7, but not 11\n",
      "64 not divisible by 7 or 11\n",
      "65 not divisible by 7 or 11\n",
      "66 is divisble by 11, but not 7\n",
      "67 not divisible by 7 or 11\n",
      "68 not divisible by 7 or 11\n",
      "69 not divisible by 7 or 11\n",
      "70 is divisible by 7, but not 11\n",
      "71 not divisible by 7 or 11\n",
      "72 not divisible by 7 or 11\n",
      "73 not divisible by 7 or 11\n",
      "74 not divisible by 7 or 11\n",
      "75 not divisible by 7 or 11\n",
      "76 not divisible by 7 or 11\n",
      "77 is divisible by 7 and 11\n",
      "78 not divisible by 7 or 11\n",
      "79 not divisible by 7 or 11\n",
      "80 not divisible by 7 or 11\n",
      "81 not divisible by 7 or 11\n",
      "82 not divisible by 7 or 11\n",
      "83 not divisible by 7 or 11\n",
      "84 is divisible by 7, but not 11\n",
      "85 not divisible by 7 or 11\n",
      "86 not divisible by 7 or 11\n",
      "87 not divisible by 7 or 11\n",
      "88 is divisble by 11, but not 7\n",
      "89 not divisible by 7 or 11\n",
      "90 not divisible by 7 or 11\n",
      "91 is divisible by 7, but not 11\n",
      "92 not divisible by 7 or 11\n",
      "93 not divisible by 7 or 11\n",
      "94 not divisible by 7 or 11\n",
      "95 not divisible by 7 or 11\n",
      "96 not divisible by 7 or 11\n",
      "97 not divisible by 7 or 11\n",
      "98 is divisible by 7, but not 11\n",
      "99 is divisble by 11, but not 7\n",
      "100 not divisible by 7 or 11\n"
     ]
    }
   ],
   "source": [
    "## You code\n",
    "## write a better loop than what I had before\n",
    "## ideally we'd do the following:\n",
    "## print \"i is divisible by 7\" if i is divisible by 7\n",
    "## print \"i is divisible by 11\" if i is divisible by 11\n",
    "## print \"i is divisible by 7 and 11\" if i is divisible by both\n",
    "## print \"i not divisible by 7 or 11\" if i is divisible by neither\n",
    "\n",
    "for i in range(1,101):\n",
    "    if (i%7 == 0) & (i%11 == 0):\n",
    "        print(i, \"is divisible by 7 and 11\")\n",
    "    elif i%7 == 0:\n",
    "        print(i, \"is divisible by 7, but not 11\")\n",
    "    elif i%11 == 0:\n",
    "        print(i, \"is divisble by 11, but not 7\")\n",
    "    else:\n",
    "        print(i,  \"not divisible by 7 or 11\")"
   ]
  },
  {
   "cell_type": "markdown",
   "metadata": {},
   "source": [
    "### `while` loops\n",
    "\n",
    "A second type of loop is a `while` loop. This runs a chunk of code until a certain logical condition is no longer `True`. \n",
    "\n",
    "##### Caution!\n",
    "\n",
    "Be careful when writing a `while` loop, unlike `for` loops it is quite easy to write an <i>infinite loop</i>, a loop that runs forever.\n",
    "\n",
    "The documentation on `while` loops in python can be found here, <a href=\"https://docs.python.org/3/reference/compound_stmts.html#while\">https://docs.python.org/3/reference/compound_stmts.html#while</a>."
   ]
  },
  {
   "cell_type": "code",
   "execution_count": 38,
   "metadata": {},
   "outputs": [
    {
     "name": "stdout",
     "output_type": "stream",
     "text": [
      "Countdown time!\n",
      "10\n",
      "9\n",
      "8\n",
      "7\n",
      "6\n",
      "5\n",
      "4\n",
      "3\n",
      "2\n",
      "1\n",
      "Lift off!\n"
     ]
    }
   ],
   "source": [
    "## First write while then the conditional statement and a colon\n",
    "## then indent and write the code chunk you want executed\n",
    "\n",
    "i = 10\n",
    "print(\"Countdown time!\")\n",
    "while i > 0:\n",
    "    print(i)\n",
    "    i = i - 1\n",
    "\n",
    "# Then return to your original indentation level\n",
    "print(\"Lift off!\")"
   ]
  },
  {
   "cell_type": "markdown",
   "metadata": {},
   "source": [
    "While there are some other <i>flow-control</i> techniques (what we've been doing in this notebook) that a standard programmer may want to know, I don't expect that we'll encounter them in the course of the boot camp.\n",
    "\n",
    "## That's it for the Basics\n",
    "\n",
    "That it for the python/coding basics! Next stop writing functions in python."
   ]
  },
  {
   "cell_type": "markdown",
   "metadata": {},
   "source": [
    "This notebook was written for the Erd&#337;s Institute C&#337;de Data Science Boot Camp by Matthew Osborne, Ph. D., 2021.\n",
    "\n",
    "Redistribution of the material contained in this repository is conditional on acknowledgement of Matthew Tyler Osborne, Ph.D.'s original authorship and sponsorship of the Erdős Institute as subject to the license (see License.md)"
   ]
  },
  {
   "cell_type": "code",
   "execution_count": null,
   "metadata": {},
   "outputs": [],
   "source": []
  }
 ],
 "metadata": {
  "kernelspec": {
   "display_name": "Python 3",
   "language": "python",
   "name": "python3"
  },
  "language_info": {
   "codemirror_mode": {
    "name": "ipython",
    "version": 3
   },
   "file_extension": ".py",
   "mimetype": "text/x-python",
   "name": "python",
   "nbconvert_exporter": "python",
   "pygments_lexer": "ipython3",
   "version": "3.7.4"
  }
 },
 "nbformat": 4,
 "nbformat_minor": 2
}
