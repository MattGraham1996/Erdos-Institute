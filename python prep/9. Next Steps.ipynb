{
 "cells": [
  {
   "cell_type": "markdown",
   "metadata": {},
   "source": [
    "# Next Steps\n",
    "\n",
    "If you've made it this far, congratulations!\n",
    "\n",
    "You now have a decent footing in the world of python for data science and machine learning. \n",
    "\n",
    "However, remember my initial word of caution, you will need to do some practicing in order to feel comfortable. An excellent opportunity for practice are the companion `Practice Problems` I've provided in this repository. Each notebook has a few problems that should be relatively straightforward and a couple of challenge problems. I've also provided solutions to these problems that you can reference.\n",
    "\n",
    "Finally I've include a bonus notebook that you can look at if you would like. It is not <i>necessary</i> to understand the boot camp material, but it does provide some context that will help you better understand python. For example, if you've been lost anytime I say the word \"object\" than you may want to check it out.\n",
    "\n",
    "See you in May!"
   ]
  },
  {
   "cell_type": "markdown",
   "metadata": {},
   "source": [
    "This notebook was written for the Erd&#337;s Institute C&#337;de Data Science Boot Camp by Matthew Osborne, Ph. D., 2021."
   ]
  },
  {
   "cell_type": "code",
   "execution_count": null,
   "metadata": {},
   "outputs": [],
   "source": []
  }
 ],
 "metadata": {
  "kernelspec": {
   "display_name": "Python 3",
   "language": "python",
   "name": "python3"
  },
  "language_info": {
   "codemirror_mode": {
    "name": "ipython",
    "version": 3
   },
   "file_extension": ".py",
   "mimetype": "text/x-python",
   "name": "python",
   "nbconvert_exporter": "python",
   "pygments_lexer": "ipython3",
   "version": "3.7.4"
  }
 },
 "nbformat": 4,
 "nbformat_minor": 2
}
