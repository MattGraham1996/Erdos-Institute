{
 "cells": [
  {
   "cell_type": "markdown",
   "metadata": {},
   "source": [
    "# Basic Plotting in Python\n",
    "\n",
    "Making explatory plots is a common task in data science and many good presentations usually feature excellent plots.\n",
    "\n",
    "For us the most important plotting package is `matplotlib`, which is python's attempt to copy MATLAB's plotting functionality. Also of note is the package `seaborn`, but we won't be using this package nearly as much as `matplotlib`. We'll briefly touch on a `seaborn` feature that I like, but won't go beyond that.\n",
    "\n",
    "First let's check that you have both packages installed."
   ]
  },
  {
   "cell_type": "code",
   "execution_count": null,
   "metadata": {},
   "outputs": [],
   "source": [
    "## It is standard to import matplotlib.pyplot as plt\n",
    "import matplotlib.pyplot as plt\n",
    "\n",
    "## It is standard to import seaborn as sns\n",
    "import seaborn as sns"
   ]
  },
  {
   "cell_type": "code",
   "execution_count": null,
   "metadata": {},
   "outputs": [],
   "source": [
    "## Let's perform a version check\n",
    "import matplotlib\n",
    "\n",
    "# I had 3.3.2 when I wrote this\n",
    "print(\"Your matplotlib version is\",matplotlib.__version__)\n",
    "\n",
    "# I had 0.11.0 when I wrote this\n",
    "print(\"Your seaborn version is\",sns.__version__)"
   ]
  },
  {
   "cell_type": "markdown",
   "metadata": {},
   "source": [
    "##### Be sure you can run both of the above code chunks before continuing with this notebook, again it should be fine if your package version is slightly different than mine.\n",
    "\n",
    "##### As a second note, you'll be able to run a majority of the notebook with just matplotlib. I'll put the seaborn content at the bottom of the notebook."
   ]
  },
  {
   "cell_type": "code",
   "execution_count": null,
   "metadata": {},
   "outputs": [],
   "source": [
    "## We'll be using what we learned in the \n",
    "## previous two notebooks to help\n",
    "## generate data\n",
    "import numpy as np\n",
    "import pandas as pd"
   ]
  },
  {
   "cell_type": "markdown",
   "metadata": {},
   "source": [
    "## A First Plot \n",
    "\n",
    "Before getting into the nitty gritty, let's look at a first plot made with `matplotlib`."
   ]
  },
  {
   "cell_type": "code",
   "execution_count": null,
   "metadata": {},
   "outputs": [],
   "source": [
    "## Here's our data\n",
    "x = [0,1,2,3,4,5,6,7,8,9,10]\n",
    "y = [2*i - 3 for i in x]\n",
    "\n",
    "## plt.plot will make the plot\n",
    "## First put what you want on the x-axis, then the y-axis\n",
    "plt.plot(x,y)\n",
    "\n",
    "## Always end your plotting block with plt.show\n",
    "## in jupyter this makes sure that the plot displays \n",
    "## properly\n",
    "plt.show()"
   ]
  },
  {
   "cell_type": "markdown",
   "metadata": {},
   "source": [
    "##### What Happened?\n",
    "\n",
    "So what happened when we ran the above code?\n",
    "\n",
    "`matplotlib` creates a figure object, and on that object it places a subplot object, and finally it places the points on the subplot then connects the points with straight lines.\n",
    "\n",
    "We'll return to the topic of subplots later in the notebook\n",
    "\n",
    "Now you try plotting the following `x` and `y`."
   ]
  },
  {
   "cell_type": "code",
   "execution_count": null,
   "metadata": {},
   "outputs": [],
   "source": [
    "## Run this code first\n",
    "## np.linspace makes an array that\n",
    "## goes from -5 to 5 broken into \n",
    "## 100 evenly spaced steps\n",
    "x = 10*np.linspace(-5,5,100)\n",
    "y = x**2 - 3"
   ]
  },
  {
   "cell_type": "code",
   "execution_count": null,
   "metadata": {},
   "outputs": [],
   "source": [
    "## You code\n",
    "## Plot y against x\n",
    "\n",
    "\n",
    "\n"
   ]
  },
  {
   "cell_type": "markdown",
   "metadata": {},
   "source": [
    "## Getting More Control of your Figures\n",
    "\n",
    "So while you can certainly use the simple code above to generate figures, the best presentations typically have excellent graphics demonstrating the outcome. So why don't we learn how to control our figures a little bit more.\n",
    "\n",
    "This process typically involves explicitly defining a figure and subplot object. Let's see."
   ]
  },
  {
   "cell_type": "code",
   "execution_count": null,
   "metadata": {},
   "outputs": [],
   "source": [
    "## plt.figure() will make the figure object\n",
    "## figsize can control how large it is (width,height)\n",
    "## here we make a 10 x 12 window\n",
    "plt.figure(figsize = (10,12))\n",
    "\n",
    "## This still creates the subplot object\n",
    "## that we plot on\n",
    "plt.plot(x,y)\n",
    "\n",
    "## we can add axis labels\n",
    "## and control their fontsize\n",
    "## A good rule of thumb is the bigger the better\n",
    "## You want your plots to be readable\n",
    "## As a note: matplotlib can use LaTeX commands\n",
    "## so if you place math text in dollar signs it will\n",
    "## be in a LaTeX environment\n",
    "plt.xlabel(\"$x$\", fontsize = 16)\n",
    "plt.ylabel(\"$y$\", fontsize = 16)\n",
    "\n",
    "## we can set the plot axis limits like so\n",
    "## This makes the x axis bounded between -20 and 20\n",
    "plt.xlim((-20,20))\n",
    "\n",
    "## this makes the y axis bounded between -100 and 100\n",
    "plt.ylim(-100,100)\n",
    "\n",
    "## Also a title\n",
    "## again make it large font\n",
    "plt.title(\"A Plot Title\", fontsize = 20)\n",
    "\n",
    "## Now we show the plot\n",
    "plt.show()"
   ]
  },
  {
   "cell_type": "markdown",
   "metadata": {},
   "source": [
    "#### Controlling How the Plotted Data Looks\n",
    "\n",
    "We can control the appearance of what is plotted. Here's a quick cheatsheet of easy to use options:\n",
    "\n",
    "\n",
    "\n",
    "| Color           | Description  |\n",
    "| :-------------: |:------------:|\n",
    "| r               | red          |\n",
    "| b               | blue         |\n",
    "| k               | black        |\n",
    "| g               | green        |\n",
    "| y               | yellow       |\n",
    "| m               | magenta      |\n",
    "| c               | cyan         |\n",
    "| w               | white        |\n",
    "\n",
    "|Line Style | Description   |\n",
    "|:---------:|:-------------:|\n",
    "| -         | Solid line    |\n",
    "| --        | Dashed line   |\n",
    "| :         | Dotted line   |\n",
    "| -.        | Dash-dot line |\n",
    "\n",
    "| Marker | Description    |\n",
    "|:------:|:--------------:|\n",
    "|o       | Circle         |\n",
    "|+       | Plus Sign      |\n",
    "|*       | Asterisk       |\n",
    "|.       | Point          |\n",
    "| x      | Cross          |\n",
    "| s      | Square         |\n",
    "|d       | Diamond        |\n",
    "|^       | Up Triangle    |\n",
    "|<       | Right Triangle |\n",
    "|>       | Left Triangle  |\n",
    "|p       | Pentagram      |\n",
    "| h      | hexagram       |\n",
    "\n",
    "Let's try the above plot one more time, but using some of these to jazz it up."
   ]
  },
  {
   "cell_type": "code",
   "execution_count": null,
   "metadata": {},
   "outputs": [],
   "source": [
    "## plt.figure() will make the figure object\n",
    "## figsize can control how large it is (width,height)\n",
    "plt.figure(figsize = (10,12))\n",
    "\n",
    "## The third argument to plot(), 'mp' here\n",
    "## tells matplotlib to make the points magenta\n",
    "## and to use pentagrams, the absence of a line character\n",
    "## means there will be no line connecting these points\n",
    "## we can also add a label, and insert a legend later\n",
    "plt.plot(x,y,'mp', label=\"points\")\n",
    "\n",
    "## We can even plot two things on the same plot\n",
    "## here the third argument tells matplotlib to make a\n",
    "## green dotted line\n",
    "plt.plot(x+10,y-100,'g--', label=\"shifted line\")\n",
    "\n",
    "## we can add axis labels\n",
    "## and control their fontsize\n",
    "plt.xlabel(\"$x$\", fontsize = 16)\n",
    "plt.ylabel(\"$y$\", fontsize = 16)\n",
    "\n",
    "## Also a title\n",
    "plt.title(\"A Plot Title\", fontsize = 20)\n",
    "\n",
    "## plt.legend() adds the legend to the plot\n",
    "## This will display the labels we had above\n",
    "plt.legend(fontsize=14)\n",
    "\n",
    "\n",
    "# Now we show the plot\n",
    "plt.show()"
   ]
  },
  {
   "cell_type": "code",
   "execution_count": null,
   "metadata": {},
   "outputs": [],
   "source": [
    "## You code\n",
    "## Redefine x and y to be this data\n",
    "x = 10*np.random.random(100) - 5\n",
    "y = x**3 - x**2 + x"
   ]
  },
  {
   "cell_type": "code",
   "execution_count": null,
   "metadata": {},
   "outputs": [],
   "source": [
    "## You code\n",
    "## Plot y against x here\n",
    "## play around with different colors and markers\n",
    "\n",
    "\n",
    "\n",
    "\n",
    "\n",
    "\n",
    "\n",
    "\n",
    "\n"
   ]
  },
  {
   "cell_type": "markdown",
   "metadata": {},
   "source": [
    "## Subplots\n",
    "\n",
    "Sometimes you'll want to plot multiple things in the same Figure. Luckily `matplotlib` has the functionality to create subplots."
   ]
  },
  {
   "cell_type": "code",
   "execution_count": null,
   "metadata": {},
   "outputs": [],
   "source": [
    "## plt.subplots makes a figure object\n",
    "## then populates it with subplots\n",
    "## the first number is the number of rows\n",
    "## the second number is the number of columns\n",
    "## so this makes a 2 by 2 subplot matrix\n",
    "## fig is the figure object\n",
    "## axes is a matrix containing the four subplots\n",
    "fig, axes = plt.subplots(2, 2, figsize = (10,8))\n",
    "\n",
    "## We can plot like before but instead of plt.plot\n",
    "## we use axes[i,j].plot\n",
    "## A random cumulative sum on axes[0,0]\n",
    "axes[0,0].plot(np.random.randn(20).cumsum(),'r--')\n",
    "## note I didn't have an x, y pair here\n",
    "## so what happened was, matplotlib populated\n",
    "## the x-values for us, and used the input\n",
    "## as the y-values.\n",
    "\n",
    "\n",
    "\n",
    "## I can set x and y labels on subplots like so\n",
    "## Notice that here I must use set_xlabel instead of \n",
    "## simply xlabel\n",
    "axes[0,0].set_xlabel(\"$x$\", fontsize=14)\n",
    "axes[0,0].set_ylabel(\"$y$\", fontsize=14)\n",
    "\n",
    "## show the plot\n",
    "plt.show()"
   ]
  },
  {
   "cell_type": "code",
   "execution_count": null,
   "metadata": {},
   "outputs": [],
   "source": [
    "## plt can also make a number of other useful graph types\n",
    "\n",
    "\n",
    "fig, axes = plt.subplots(2, 2, figsize = (10,8))\n",
    "\n",
    "\n",
    "axes[0,0].plot(np.random.randn(20).cumsum(),'r--')\n",
    "\n",
    "## like scatter plots\n",
    "## for these put the x, then the y\n",
    "## you can then specify the \"c\"olor, \"s\"ize, and \"marker\"shape\n",
    "## it is also good practice to let long code go onto multiple lines\n",
    "## in python, you can go to a new line following a comma in a\n",
    "## function call\n",
    "axes[0,1].scatter(np.random.random(10),  # start a new line now\n",
    "                  np.random.random(10),\n",
    "                  c = \"purple\", # color\n",
    "                  s = 50, # marker size\n",
    "                  marker = \"*\") # marker shape\n",
    "\n",
    "## or histograms\n",
    "## this can be done with .hist\n",
    "## you input the data you want a histogram of\n",
    "## and you can specify the number of bins with\n",
    "## bins\n",
    "axes[1,0].hist(np.random.randint(0,100,100), bins = 40)\n",
    "\n",
    "\n",
    "## and text\n",
    "## for this you call .text()\n",
    "## you input the x, y position of the text\n",
    "## then the text itself, then you can specify the fontsize\n",
    "axes[1,1].text(.5, .5, \"Hi Mom!\", fontsize=20)\n",
    "\n",
    "plt.show()"
   ]
  },
  {
   "cell_type": "markdown",
   "metadata": {},
   "source": [
    "As a note all of the plotting capabilities shown above (`hist()`, `scatter()`, and `text()`) are available outside of subplots as well. You'd just call `plt.hist()`, `plt.scatter()` or `plt.text()` instead."
   ]
  },
  {
   "cell_type": "code",
   "execution_count": null,
   "metadata": {},
   "outputs": [],
   "source": [
    "## You code\n",
    "## Make a 2 x 2 subplot\n",
    "## Use numpy to generate data and plot \n",
    "## a cubic function in the 0,0 plot\n",
    "## a scatter plot of two 100 pulls from random normal distribution\n",
    "## in the 0,1 plot\n",
    "## a histogram of 1000 pulls from the random normal distribution\n",
    "## in the 1,0 plot\n",
    "## and whatever text you'd like in the 1,1 plot\n",
    "\n",
    "\n",
    "\n",
    "\n",
    "\n",
    "\n",
    "\n"
   ]
  },
  {
   "cell_type": "markdown",
   "metadata": {},
   "source": [
    "### Saving a Figure\n",
    "\n",
    "We can also save a figure after we've plotted it with `plt.savefig(figure_name)`."
   ]
  },
  {
   "cell_type": "code",
   "execution_count": null,
   "metadata": {},
   "outputs": [],
   "source": [
    "## We'll make a simple figure\n",
    "## then save it\n",
    "plt.figure(figsize=(8,8))\n",
    "\n",
    "plt.plot([1,2,3,4], [1,2,3,4], 'k--')\n",
    "\n",
    "\n",
    "## all you'll need is the figure name\n",
    "## the default is to save the image as a png file\n",
    "plt.savefig(\"my_first_matplotlib_plot.png\")\n",
    "\n",
    "plt.show()"
   ]
  },
  {
   "cell_type": "markdown",
   "metadata": {},
   "source": [
    "If you check your repository you should now see `my_first_matplotlib_plot.png`. Open it up to admire its beauty.\n",
    "\n",
    "\n",
    "That's really all we'll need to know for making plots in the boot camp. Of course we've come nowhere close to understanding the totality of `matplotlib`, so if you're interested check out the documentation, <a href=\"https://matplotlib.org/\">https://matplotlib.org/</a>."
   ]
  },
  {
   "cell_type": "markdown",
   "metadata": {},
   "source": [
    "## `seaborn`\n",
    "\n",
    "`seaborn` is a pretty user friendly package that can make nice plots quickly, however, we won't explore it much in this notebook. But we will introduce a useful function that allows you to give your plot gridlines for easier reading.\n",
    "\n",
    "For those interesting in seeing fun `seaborn` plots check out this link, <a href=\"https://seaborn.pydata.org/examples/index.html\">https://seaborn.pydata.org/examples/index.html</a>."
   ]
  },
  {
   "cell_type": "code",
   "execution_count": null,
   "metadata": {},
   "outputs": [],
   "source": [
    "## Let's recall this plot from before\n",
    "x = 10*np.linspace(-5,5,100)\n",
    "y = x**2 - 3\n",
    "\n",
    "plt.figure(figsize = (10,12))\n",
    "\n",
    "\n",
    "plt.plot(x,y,'mp', label=\"points\")\n",
    "\n",
    "plt.plot(x+10,y-100,'g--', label=\"shifted line\")\n",
    "\n",
    "plt.xlabel(\"$x$\", fontsize = 16)\n",
    "plt.ylabel(\"$y$\", fontsize = 16)\n",
    "\n",
    "\n",
    "plt.title(\"A Plot Title\", fontsize = 20)\n",
    "\n",
    "\n",
    "plt.legend(fontsize=14)\n",
    "\n",
    "\n",
    "plt.show()"
   ]
  },
  {
   "cell_type": "markdown",
   "metadata": {},
   "source": [
    "Now we can use `seaborn` to add gridlines to the figure, which will allow for easier reading of plots like the one above."
   ]
  },
  {
   "cell_type": "code",
   "execution_count": null,
   "metadata": {},
   "outputs": [],
   "source": [
    "## Run this code\n",
    "sns.set_style(\"whitegrid\")"
   ]
  },
  {
   "cell_type": "code",
   "execution_count": null,
   "metadata": {},
   "outputs": [],
   "source": [
    "## Now rerun the plot\n",
    "x = 10*np.linspace(-5,5,100)\n",
    "y = x**2 - 3\n",
    "\n",
    "plt.figure(figsize = (10,12))\n",
    "\n",
    "\n",
    "plt.plot(x,y,'mp', label=\"points\")\n",
    "\n",
    "plt.plot(x+10,y-100,'g--', label=\"shifted line\")\n",
    "\n",
    "plt.xlabel(\"$x$\", fontsize = 16)\n",
    "plt.ylabel(\"$y$\", fontsize = 16)\n",
    "\n",
    "\n",
    "plt.title(\"A Plot Title\", fontsize = 20)\n",
    "\n",
    "\n",
    "plt.legend(fontsize=14)\n",
    "\n",
    "\n",
    "plt.show()"
   ]
  },
  {
   "cell_type": "markdown",
   "metadata": {},
   "source": [
    "See the difference?"
   ]
  },
  {
   "cell_type": "code",
   "execution_count": null,
   "metadata": {},
   "outputs": [],
   "source": [
    "## You code\n",
    "## see what this does to your plots\n",
    "sns.set_style(\"darkgrid\")"
   ]
  },
  {
   "cell_type": "code",
   "execution_count": null,
   "metadata": {},
   "outputs": [],
   "source": [
    "## Now rerun the plot\n",
    "x = 10*np.linspace(-5,5,100)\n",
    "y = x**2 - 3\n",
    "\n",
    "plt.figure(figsize = (10,12))\n",
    "\n",
    "\n",
    "plt.plot(x,y,'mp', label=\"points\")\n",
    "\n",
    "plt.plot(x+10,y-100,'g--', label=\"shifted line\")\n",
    "\n",
    "plt.xlabel(\"$x$\", fontsize = 16)\n",
    "plt.ylabel(\"$y$\", fontsize = 16)\n",
    "\n",
    "\n",
    "plt.title(\"A Plot Title\", fontsize = 20)\n",
    "\n",
    "\n",
    "plt.legend(fontsize=14)\n",
    "\n",
    "\n",
    "plt.show()\n",
    "\n",
    "\n",
    "\n",
    "\n"
   ]
  },
  {
   "cell_type": "markdown",
   "metadata": {},
   "source": [
    "## That's it!\n",
    "\n",
    "That's all for this notebook. You now have a firm grasp of the basics of plotting figures with `matplotlib`. With a little practice you'll be a `matplotlib` pro in no time."
   ]
  },
  {
   "cell_type": "markdown",
   "metadata": {},
   "source": [
    "This notebook was written for the Erd&#337;s Institute C&#337;de Data Science Boot Camp by Matthew Osborne, Ph. D., 2021.\n",
    "\n",
    "Redistribution of the material contained in this repository is conditional on acknowledgement of Matthew Tyler Osborne, Ph.D.'s original authorship and sponsorship of the Erdős Institute as subject to the license (see License.md)"
   ]
  },
  {
   "cell_type": "code",
   "execution_count": null,
   "metadata": {},
   "outputs": [],
   "source": []
  }
 ],
 "metadata": {
  "kernelspec": {
   "display_name": "Python 3",
   "language": "python",
   "name": "python3"
  },
  "language_info": {
   "codemirror_mode": {
    "name": "ipython",
    "version": 3
   },
   "file_extension": ".py",
   "mimetype": "text/x-python",
   "name": "python",
   "nbconvert_exporter": "python",
   "pygments_lexer": "ipython3",
   "version": "3.7.4"
  }
 },
 "nbformat": 4,
 "nbformat_minor": 2
}
