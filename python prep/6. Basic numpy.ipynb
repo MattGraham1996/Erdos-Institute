{
 "cells": [
  {
   "cell_type": "markdown",
   "metadata": {},
   "source": [
    "# Basic `numpy`\n",
    "\n",
    "`numpy` is a python package that is a real workhorse of machine learning and data science.\n",
    "\n",
    "If you're new to python, this will be the first true package you'll import. That being said we should check that you have the package installed, try to run the following code chunk. (Note if you installed the Anaconda platform, <a href=\"https://www.anaconda.com/\">https://www.anaconda.com/</a>, `numpy` should be installed already)."
   ]
  },
  {
   "cell_type": "code",
   "execution_count": null,
   "metadata": {},
   "outputs": [],
   "source": [
    "## it is standard to import numpy as np\n",
    "import numpy as np"
   ]
  },
  {
   "cell_type": "code",
   "execution_count": null,
   "metadata": {},
   "outputs": [],
   "source": [
    "## let's check what version of numpy you have\n",
    "## when I wrote this I had version 1.20.1\n",
    "## yours may be different\n",
    "print(np.__version__)"
   ]
  },
  {
   "cell_type": "markdown",
   "metadata": {},
   "source": [
    "If you had a version of `numpy` installed, both of those code chunks should have run fine for you. If not, you will need to install it onto your machine because we will be using it heavily in the boot camp. For installation instructions check out the `numpy` documentation here, <a href=\"https://numpy.org/install/\">https://numpy.org/install/</a>. \n",
    "\n",
    "##### Be sure you can run both of the above code chunks before continuing with this notebook, again it should be fine if your package version is slightly different than mine."
   ]
  },
  {
   "cell_type": "markdown",
   "metadata": {},
   "source": [
    "## `numpy`'s ndarray\n",
    "\n",
    "While base python likes to store data in objects like `list`s and `tuple`s, in `numpy` data is stored in an `ndarray` it is similar to a list, but has a number of features that make it more useful for numeric data manipulation in a number of data science applications."
   ]
  },
  {
   "cell_type": "code",
   "execution_count": null,
   "metadata": {},
   "outputs": [],
   "source": [
    "## You can make an array with np.array\n",
    "## You just put np.array() around a python list or tuple\n",
    "array1 = np.array([1,2,3,4])\n",
    "print(array1)\n",
    "print()\n",
    "print(type(array1))"
   ]
  },
  {
   "cell_type": "markdown",
   "metadata": {},
   "source": [
    "`numpy` `ndarray`s can have any finite number of dimensions. This can be constructed by wrapping `np.array` around a `list` of `list`s."
   ]
  },
  {
   "cell_type": "code",
   "execution_count": null,
   "metadata": {},
   "outputs": [],
   "source": [
    "## this produces a 2-dimensional array\n",
    "## it is a 2x2 array\n",
    "array2 = np.array([[1,2],[2,1]])\n",
    "print(array2)\n",
    "print()\n",
    "\n",
    "## we can check the array's dimensions with np.shape()\n",
    "## np.shape() returns a tuple with the size of each dimension\n",
    "## array2 should be a 2 by 2 array\n",
    "print(\"array2 is a\",np.shape(array2),\"ndarray\")"
   ]
  },
  {
   "cell_type": "code",
   "execution_count": null,
   "metadata": {},
   "outputs": [],
   "source": [
    "## You code\n",
    "## Try making a 2x2x2 array\n",
    "\n"
   ]
  },
  {
   "cell_type": "code",
   "execution_count": null,
   "metadata": {},
   "outputs": [],
   "source": [
    "## You code \n",
    "## Try making a 2x2x2x2 array\n",
    "\n"
   ]
  },
  {
   "cell_type": "markdown",
   "metadata": {},
   "source": [
    "### `ndarray` Functions\n",
    "\n",
    "#### Vectorized Operations\n",
    "\n",
    "`ndarray`s are nice because, for the most part, they work the way you'd expect a vector or matrix to work. Let's compare and contrast with python's `list`s."
   ]
  },
  {
   "cell_type": "code",
   "execution_count": null,
   "metadata": {},
   "outputs": [],
   "source": [
    "## You code\n",
    "## see what happens when you code up 2*list1\n",
    "list1 = [1,2,3,4]\n",
    "\n"
   ]
  },
  {
   "cell_type": "code",
   "execution_count": null,
   "metadata": {},
   "outputs": [],
   "source": [
    "## You code\n",
    "## Now compare it to 2*array1\n"
   ]
  },
  {
   "cell_type": "code",
   "execution_count": null,
   "metadata": {},
   "outputs": [],
   "source": [
    "## You code\n",
    "## what happens here\n",
    "[1,2] + [3,4]"
   ]
  },
  {
   "cell_type": "code",
   "execution_count": null,
   "metadata": {},
   "outputs": [],
   "source": [
    "## You code\n",
    "## code up the comparable ndarray expression\n",
    "## and see what happens\n"
   ]
  },
  {
   "cell_type": "code",
   "execution_count": null,
   "metadata": {},
   "outputs": [],
   "source": [
    "## You code\n",
    "## Finally what happens here?\n",
    "y = 3*[1,2,3] + 2"
   ]
  },
  {
   "cell_type": "code",
   "execution_count": null,
   "metadata": {},
   "outputs": [],
   "source": [
    "## You code\n",
    "## try the comparable ndarray expression\n"
   ]
  },
  {
   "cell_type": "markdown",
   "metadata": {},
   "source": [
    "### Built-In `numpy` Functions\n",
    "\n",
    "`numpy` also has a number of built-in functions that provide useful mathematical operations on arrays. Let's look at some examples."
   ]
  },
  {
   "cell_type": "code",
   "execution_count": null,
   "metadata": {},
   "outputs": [],
   "source": [
    "y = 2*np.array([1,2,3]) - 4\n",
    "print(y)"
   ]
  },
  {
   "cell_type": "code",
   "execution_count": null,
   "metadata": {},
   "outputs": [],
   "source": [
    "## absolute value\n",
    "np.abs(y)"
   ]
  },
  {
   "cell_type": "code",
   "execution_count": null,
   "metadata": {},
   "outputs": [],
   "source": [
    "## raising each entry to a power\n",
    "np.power(y,3)"
   ]
  },
  {
   "cell_type": "code",
   "execution_count": null,
   "metadata": {},
   "outputs": [],
   "source": [
    "## the square root\n",
    "np.sqrt(np.abs(y))"
   ]
  },
  {
   "cell_type": "code",
   "execution_count": null,
   "metadata": {},
   "outputs": [],
   "source": [
    "## You code\n",
    "## using np.exp define y to be \n",
    "## e^(x+3) + log(|x|+1)\n",
    "## https://numpy.org/doc/stable/reference/generated/numpy.exp.html\n",
    "x = np.array([0,1,2,3,4])\n",
    "\n",
    "\n"
   ]
  },
  {
   "cell_type": "code",
   "execution_count": null,
   "metadata": {},
   "outputs": [],
   "source": [
    "## You can sum all of the entries of an array with\n",
    "## np.sum\n",
    "np.sum(y)"
   ]
  },
  {
   "cell_type": "markdown",
   "metadata": {},
   "source": [
    "### Preset `numpy` Arrays\n",
    "\n",
    "There are a number of standard array types that you'll want to use, that can be quickly generated."
   ]
  },
  {
   "cell_type": "code",
   "execution_count": null,
   "metadata": {},
   "outputs": [],
   "source": [
    "## np.ones(shape) makes an array of all ones of the desired shape\n",
    "print(np.ones(1))\n",
    "\n",
    "print()\n",
    "\n",
    "print(np.ones((4,10)))\n",
    "\n",
    "print()\n",
    "\n",
    "print(np.ones((2,2,2)))"
   ]
  },
  {
   "cell_type": "code",
   "execution_count": null,
   "metadata": {},
   "outputs": [],
   "source": [
    "## You code\n",
    "## np.zeros(shape) is similar to np.ones, but instead of 1s\n",
    "## it makes an array of 0s\n",
    "## print 3 arrays of zeros, \n",
    "## one that is a single dimension of size 4\n",
    "\n",
    "\n",
    "## one that is 2x17\n",
    "\n",
    "## one that is 3x3x2x2"
   ]
  },
  {
   "cell_type": "markdown",
   "metadata": {},
   "source": [
    "## `numpy` for Pseudorandomness\n",
    "\n",
    "`numpy` is useful for generating pseudorandom numbers as well. We can look at common statistics of arrays too.\n",
    "\n",
    "The pseudorandom functionality is stored in the `random` subpackage of `numpy`."
   ]
  },
  {
   "cell_type": "code",
   "execution_count": null,
   "metadata": {},
   "outputs": [],
   "source": [
    "## random generators are stored in np.random\n",
    "## a np.random.random() gives a number selected uniformly\n",
    "## at random from [0,1]\n",
    "print(np.random.random())\n",
    "\n",
    "\n",
    "print()\n",
    "\n",
    "## You can get a random array of any shape as well\n",
    "print(\"A (10,2) uniform random array:\\n\", np.random.random((10,2)))"
   ]
  },
  {
   "cell_type": "code",
   "execution_count": null,
   "metadata": {},
   "outputs": [],
   "source": [
    "## Another Example\n",
    "## np.random.randn() is a normal(0,1) number\n",
    "## a single draw\n",
    "print(np.random.randn())\n",
    "print()\n",
    "\n",
    "## an array of draws\n",
    "## note the slight difference here, we don't have to put\n",
    "## the 10 and 2 in a tuple to get a 10 by 2 array\n",
    "## numpy is slightly inconsistent in this area so always\n",
    "## check the docs to get it right\n",
    "np.random.randn(10,2)"
   ]
  },
  {
   "cell_type": "code",
   "execution_count": null,
   "metadata": {},
   "outputs": [],
   "source": [
    "## A third example\n",
    "## np.random.binomial()\n",
    "## an array of binomial(n,p) outcomes\n",
    "np.random.binomial(n=4, p=.3, size=(10,10))"
   ]
  },
  {
   "cell_type": "code",
   "execution_count": null,
   "metadata": {},
   "outputs": [],
   "source": [
    "## You code\n",
    "## make a 20 by 3 array of random normal draws\n",
    "## call it X\n"
   ]
  },
  {
   "cell_type": "markdown",
   "metadata": {},
   "source": [
    "Now that you have a data matrix, `X`. Let's compute some summary statistics about `X`."
   ]
  },
  {
   "cell_type": "code",
   "execution_count": null,
   "metadata": {},
   "outputs": [],
   "source": [
    "## You can get the mean of all the entries of X with np.mean\n",
    "print(\"The overall mean of X is\", np.mean(X))\n",
    "print()\n",
    "\n",
    "## Adding in the argument \"axis = \" allows you to get\n",
    "## the mean of each column\n",
    "print(\"The column means of X are\", np.mean(X, axis=0))\n",
    "print()\n",
    "\n",
    "## and the mean of each row\n",
    "print(\"The row means of X are\", np.mean(X, axis=1))\n",
    "print()\n",
    "\n",
    "## the axis argument tells numpy the axis or axes along \n",
    "## which the means are computed.\n",
    "## so axis = 0 adds up the values in each row position\n",
    "## and divides by the number of rows\n",
    "\n",
    "## If you find this confusing, don't worry, I do too"
   ]
  },
  {
   "cell_type": "code",
   "execution_count": null,
   "metadata": {},
   "outputs": [],
   "source": [
    "## You code\n",
    "## np.sum also has an axis argument\n",
    "## calculate the row sums and column sums of X\n",
    "\n",
    "\n",
    "\n"
   ]
  },
  {
   "cell_type": "markdown",
   "metadata": {},
   "source": [
    "Other common functions are `np.std()` for standard deviation, `np.var()` for variance, `np.min()` for min, `np.max()` for max, `np.argmin()` for where the min occurs, `np.argmax()` for where the max occurs."
   ]
  },
  {
   "cell_type": "code",
   "execution_count": null,
   "metadata": {},
   "outputs": [],
   "source": [
    "## You code\n",
    "## where does the max value occur in each column of X?\n",
    "\n",
    "\n",
    "\n",
    "## what is the max value in each column of X?\n"
   ]
  },
  {
   "cell_type": "code",
   "execution_count": null,
   "metadata": {},
   "outputs": [],
   "source": [
    "## Another useful function is np.cumsum()\n",
    "\n",
    "## randint generates a random integer between the\n",
    "## first two arguments, the third argument tells numpy\n",
    "## how many random draws to perform\n",
    "x = np.random.randint(1,10,10)\n",
    "\n",
    "print(x)\n",
    "\n",
    "np.cumsum(x)\n",
    "\n",
    "## What do you think it does?"
   ]
  },
  {
   "cell_type": "markdown",
   "metadata": {},
   "source": [
    "## Linear Algebra with `numpy`\n",
    "\n",
    "A final important use for us is `numpy` as a way to perform linear algebra calculations.\n",
    "\n",
    "A bulk of data science algorithms use linear algebra, since we'll dive into the math behind the scenes of these algorithms we'll use `numpy`'s linear algebra capabilities.\n",
    "\n",
    "##### Note: If you're not a math heavy person, that's okay! I have written the boot camp's notebooks so that you don't need to understand the math to learn how to perform the algorithms we cover. I just like to cover the mathematical aspects of these data science algorithms to explain what is going on to those boot campers (like myself) that are interested in the mathematical/statistical underpinnings of the algorithms."
   ]
  },
  {
   "cell_type": "code",
   "execution_count": null,
   "metadata": {},
   "outputs": [],
   "source": [
    "## We can think of a 2D array as a matrix\n",
    "A = np.random.binomial(n=10,p=.4,size=(2,2))\n",
    "\n",
    "A"
   ]
  },
  {
   "cell_type": "code",
   "execution_count": null,
   "metadata": {},
   "outputs": [],
   "source": [
    "## A 1d array can be a row vector\n",
    "x = np.array([1,2])\n",
    "x"
   ]
  },
  {
   "cell_type": "code",
   "execution_count": null,
   "metadata": {},
   "outputs": [],
   "source": [
    "## or a column vector\n",
    "## reshape() will attempt to reshape your array into the given\n",
    "## shape\n",
    "\n",
    "## When one of the shape dimensions is -1, the value is inferred from \n",
    "## the length of the array and remaining dimensions.\n",
    "## so -1,1 tells numpy that you want a 2-D array with 1 column\n",
    "## and it should infer the number of rows from the original shape\n",
    "## of the array\n",
    "## Here this reshapes x as a 2x1 column vector\n",
    "x.reshape(-1,1)"
   ]
  },
  {
   "cell_type": "code",
   "execution_count": null,
   "metadata": {},
   "outputs": [],
   "source": [
    "## We can now calculate A*x\n",
    "## matrix.dot() is used for matrix mult\n",
    "A.dot(x.reshape(-1,1))"
   ]
  },
  {
   "cell_type": "code",
   "execution_count": null,
   "metadata": {},
   "outputs": [],
   "source": [
    "## You code\n",
    "## make a 3-D column vector of ones, call it x\n",
    "\n",
    "\n",
    "## Take that vector and find B*x\n",
    "B = np.random.binomial(n=5, p=.6, size=(3,3))\n",
    "\n",
    "\n"
   ]
  },
  {
   "cell_type": "code",
   "execution_count": null,
   "metadata": {},
   "outputs": [],
   "source": [
    "## numpy.linalg contains a number of useful\n",
    "## matrix operations, let's import a few\n",
    "from numpy.linalg import inv, eig, det"
   ]
  },
  {
   "cell_type": "code",
   "execution_count": null,
   "metadata": {},
   "outputs": [],
   "source": [
    "## the inverse of A\n",
    "## Note you may get an error here if A is not\n",
    "## invertible\n",
    "inv(A)"
   ]
  },
  {
   "cell_type": "code",
   "execution_count": null,
   "metadata": {},
   "outputs": [],
   "source": [
    "## the determinant of A\n",
    "det(A)"
   ]
  },
  {
   "cell_type": "code",
   "execution_count": null,
   "metadata": {},
   "outputs": [],
   "source": [
    "## the eigenvalues and eigenvectors of A\n",
    "eig(A)\n",
    "\n",
    "## this returns a tuple of arrays\n",
    "## the first entry are the eigenvalues\n",
    "## the second entry are the corresponding eigenvectors"
   ]
  },
  {
   "cell_type": "code",
   "execution_count": null,
   "metadata": {},
   "outputs": [],
   "source": [
    "## matrix.transpose() computes the transpose of the matrix\n",
    "A.transpose()"
   ]
  },
  {
   "cell_type": "code",
   "execution_count": null,
   "metadata": {},
   "outputs": [],
   "source": [
    "## You code\n",
    "b = np.array([2,5]).reshape(-1,1)\n",
    "\n",
    "## Attempt to solve Ax = b for x\n",
    "## Hint remember that if A is invertible, \n",
    "## x = A^{-1} b, where A^{-1} is the inverse of A\n",
    "\n"
   ]
  },
  {
   "cell_type": "markdown",
   "metadata": {},
   "source": [
    "## That's it!\n",
    "\n",
    "That's it for this notebook. You have now been introduced to `numpy` and our ready to take on the practice problems. Be sure to get a fair level of comfort with `numpy`'s functionality because we'll be using it a lot."
   ]
  },
  {
   "cell_type": "code",
   "execution_count": null,
   "metadata": {},
   "outputs": [],
   "source": []
  }
 ],
 "metadata": {
  "kernelspec": {
   "display_name": "Python 3",
   "language": "python",
   "name": "python3"
  },
  "language_info": {
   "codemirror_mode": {
    "name": "ipython",
    "version": 3
   },
   "file_extension": ".py",
   "mimetype": "text/x-python",
   "name": "python",
   "nbconvert_exporter": "python",
   "pygments_lexer": "ipython3",
   "version": "3.7.4"
  }
 },
 "nbformat": 4,
 "nbformat_minor": 2
}
