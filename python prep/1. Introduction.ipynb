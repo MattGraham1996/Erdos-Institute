{
 "cells": [
  {
   "cell_type": "markdown",
   "metadata": {},
   "source": [
    "# Introduction\n",
    "\n",
    "Many of you may have absolutely zero experience with python and/or coding, that's okay!\n",
    "\n",
    "In these python prep notebooks, we'll cover everything you need to know to follow along with the data science notebooks during the boot camp. My goal is to provide you with a firm footing in python so that you can focus primarily on the data science as opposed to being overwhelmed by the python.\n",
    "\n",
    "##### A Word of Caution\n",
    "\n",
    "The boot camp lectures can go quite fast, and when you're asked to code on your own it can feel like you don't have enough time.\n",
    "1. That's okay! You're learning a lot of new stuff, just set aside some time to go through the lecture notebooks on your own after lecture. \n",
    "2. With that in mind, if you're new to python set aside time this month to review these notebooks and build up some strength.\n",
    "\n",
    "Let's get going! :-D"
   ]
  },
  {
   "attachments": {},
   "cell_type": "markdown",
   "metadata": {},
   "source": [
    "This notebook was written for the Erd&#337;s Institute C&#337;de Data Science Boot Camp by Matthew Osborne, Ph. D., 2021."
   ]
  },
  {
   "cell_type": "code",
   "execution_count": null,
   "metadata": {},
   "outputs": [],
   "source": []
  }
 ],
 "metadata": {
  "kernelspec": {
   "display_name": "Python 3",
   "language": "python",
   "name": "python3"
  },
  "language_info": {
   "codemirror_mode": {
    "name": "ipython",
    "version": 3
   },
   "file_extension": ".py",
   "mimetype": "text/x-python",
   "name": "python",
   "nbconvert_exporter": "python",
   "pygments_lexer": "ipython3",
   "version": "3.7.4"
  }
 },
 "nbformat": 4,
 "nbformat_minor": 2
}
