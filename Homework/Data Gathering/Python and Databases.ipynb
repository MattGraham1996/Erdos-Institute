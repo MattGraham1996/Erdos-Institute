{
 "cells": [
  {
   "cell_type": "markdown",
   "metadata": {},
   "source": [
    "# Python and Databases\n",
    "\n",
    "We'll once again split this homework into two portions, a lesson for you to work through and some practice problems."
   ]
  },
  {
   "cell_type": "code",
   "execution_count": null,
   "metadata": {},
   "outputs": [],
   "source": [
    "import pandas as pd"
   ]
  },
  {
   "cell_type": "markdown",
   "metadata": {},
   "source": [
    "## Continued Learning\n",
    "\n",
    "### `sqlalchemy`\n",
    "\n",
    "This package is widely used in industry settings so it's good for you to at least be slightly familiar with it. \n",
    "\n",
    "`sqlalchemy` was designed so that you can interact with true `SQL` databases in `python`. For the remainder of this notebook we'll see how we can use it to read in data from a database and then turn it into a `pandas` `DataFrame`. If you'd like to learn more check out the docs, <a href=\"https://www.sqlalchemy.org/\">https://www.sqlalchemy.org/</a>."
   ]
  },
  {
   "cell_type": "code",
   "execution_count": null,
   "metadata": {},
   "outputs": [],
   "source": [
    "## Try to import sqlalchemy,\n",
    "## If this doesn't work you'll need to install it\n",
    "import sqlalchemy"
   ]
  },
  {
   "cell_type": "markdown",
   "metadata": {},
   "source": [
    "\n",
    "Just like with `sqlite3` we'll go step by step.\n",
    "\n",
    "##### Creating an Engine"
   ]
  },
  {
   "cell_type": "code",
   "execution_count": null,
   "metadata": {},
   "outputs": [],
   "source": [
    "## The first step is to create an engine\n",
    "## The sqlalchemy engine is how we \n",
    "## communicate with the database\n",
    "from sqlalchemy import create_engine"
   ]
  },
  {
   "cell_type": "code",
   "execution_count": null,
   "metadata": {},
   "outputs": [],
   "source": [
    "## When we create the engine we have to tell it\n",
    "## the Dialect, this is the backend language \n",
    "## of the database. For us this is SQLite\n",
    "## We also have to specify a pool, for our purposes\n",
    "## we can think of this as where our database is stored\n",
    "engine = create_engine(\"sqlite:///census.sqlite\")"
   ]
  },
  {
   "cell_type": "markdown",
   "metadata": {},
   "source": [
    "##### Connect to the Database"
   ]
  },
  {
   "cell_type": "code",
   "execution_count": null,
   "metadata": {},
   "outputs": [],
   "source": [
    "## next we have to actually connect the engine\n",
    "## to the database\n",
    "conn = engine.connect()"
   ]
  },
  {
   "cell_type": "markdown",
   "metadata": {},
   "source": [
    "##### Execute a Statment Then Fetch"
   ]
  },
  {
   "cell_type": "code",
   "execution_count": null,
   "metadata": {},
   "outputs": [],
   "source": [
    "## Just like with sqlite3 we can\n",
    "## use the connection to execute a query\n",
    "## and fetch the rows of the data we want\n",
    "\n",
    "## Unline sqlite3 we need to store the execute\n",
    "## because it returns a results_proxy object\n",
    "results_proxy = conn.execute(\"SELECT * FROM state_fact\")\n",
    "\n",
    "## here the column names are stored in the keys \n",
    "## of the results_proxy object\n",
    "pd.DataFrame(results_proxy.fetchall(),columns = results_proxy.keys()).head()"
   ]
  },
  {
   "cell_type": "markdown",
   "metadata": {},
   "source": [
    "##### A Short Cut Using `pandas`"
   ]
  },
  {
   "cell_type": "code",
   "execution_count": null,
   "metadata": {},
   "outputs": [],
   "source": [
    "## pandas offers a nice shortcut called read_sql()\n",
    "## we first input the query statement\n",
    "## then the engine we want to run it\n",
    "pd.read_sql(\"SELECT * FROM state_fact\", engine).head()"
   ]
  },
  {
   "cell_type": "code",
   "execution_count": null,
   "metadata": {},
   "outputs": [],
   "source": [
    "## The short cut even works with statements that \n",
    "## subset the data further\n",
    "pd.read_sql(\"SELECT name,abbreviation FROM state_fact WHERE census_region == 2\", engine)"
   ]
  },
  {
   "cell_type": "code",
   "execution_count": null,
   "metadata": {},
   "outputs": [],
   "source": [
    "## When we're done we close the connection\n",
    "conn.close()\n",
    "\n",
    "## then dispose the engine\n",
    "engine.dispose()"
   ]
  },
  {
   "cell_type": "markdown",
   "metadata": {},
   "source": [
    "#### But I Already Knew How To Do This With `sqlite3`!\n",
    "\n",
    "That might be true, but `sqlite3` is limited to databases where the dialect is `SQLite`. Again this may be sufficient for personal projects, but industries are probably other dialects like PostgreSQL, MySQL, or Oracle for various reasons. These non `SQLite` dialects are supported with `sqlalchemy`, so it's good to have a slight familiarity with it."
   ]
  },
  {
   "cell_type": "markdown",
   "metadata": {},
   "source": [
    "## Practice Problems"
   ]
  },
  {
   "cell_type": "markdown",
   "metadata": {},
   "source": [
    "You can use either `sqlite` or `sqlalchemy` for these problems.\n",
    "\n",
    "1. Copy and paste your cat_store.db into the Data Gathering Homework Folder\n",
    "2. Create a new table that tracks purchases made by your customers\n",
    "    - It should track what product was purchased, note the product should exist in the database already\n",
    "    - It should track who made that purchase, note the customer should exist in the database already\n",
    "    - It should have a unique purchase id\n",
    "    - It should track how expensive the purchase was\n",
    "3. Add some purchases to your purchases table\n",
    "4. You can look at the chinook.db database's layout by looking at the sqlite-sample-database-diagram-color.pdf file. Answer the following:\n",
    "    - Examine the tracks table. What is the most popular genre? The least popular?\n",
    "    - Write a function that takes in an ArtistId and returns a list of their tracks."
   ]
  },
  {
   "cell_type": "code",
   "execution_count": null,
   "metadata": {},
   "outputs": [],
   "source": [
    "## You Code\n",
    "\n"
   ]
  },
  {
   "cell_type": "code",
   "execution_count": null,
   "metadata": {},
   "outputs": [],
   "source": [
    "## You Code\n",
    "\n"
   ]
  },
  {
   "cell_type": "code",
   "execution_count": null,
   "metadata": {},
   "outputs": [],
   "source": [
    "## You Code\n",
    "\n"
   ]
  },
  {
   "cell_type": "code",
   "execution_count": null,
   "metadata": {},
   "outputs": [],
   "source": [
    "## You Code\n",
    "\n"
   ]
  },
  {
   "cell_type": "code",
   "execution_count": null,
   "metadata": {},
   "outputs": [],
   "source": [
    "## You Code\n",
    "\n",
    "\n"
   ]
  },
  {
   "cell_type": "markdown",
   "metadata": {},
   "source": [
    "This notebook was written for the Erd&#337;s Institute C&#337;de Data Science Boot Camp by Matthew Osborne, Ph. D., 2021.\n",
    "\n",
    "Redistribution of the material contained in this repository is conditional on acknowledgement of Matthew Tyler Osborne, Ph.D.'s original authorship and sponsorship of the Erdős Institute as subject to the license (see License.md)"
   ]
  },
  {
   "cell_type": "code",
   "execution_count": null,
   "metadata": {},
   "outputs": [],
   "source": []
  }
 ],
 "metadata": {
  "kernelspec": {
   "display_name": "Python 3",
   "language": "python",
   "name": "python3"
  },
  "language_info": {
   "codemirror_mode": {
    "name": "ipython",
    "version": 3
   },
   "file_extension": ".py",
   "mimetype": "text/x-python",
   "name": "python",
   "nbconvert_exporter": "python",
   "pygments_lexer": "ipython3",
   "version": "3.7.4"
  }
 },
 "nbformat": 4,
 "nbformat_minor": 2
}
