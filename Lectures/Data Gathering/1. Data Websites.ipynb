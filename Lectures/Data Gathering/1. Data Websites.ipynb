{
 "cells": [
  {
   "cell_type": "markdown",
   "metadata": {},
   "source": [
    "# Data Websites\n",
    "\n",
    "Probably the easiest way to get data is via websites dedicated to providing data sets. "
   ]
  },
  {
   "cell_type": "markdown",
   "metadata": {},
   "source": [
    "## Academic Repositories\n",
    "\n",
    "Sites like this are designed to hold popular data sets from research papers. These data sets are often set up to test the performance of new machine learning algorithms. Perhaps the most popular is the the <a href = \"https://archive.ics.uci.edu/ml/index.php\">UC Irvine Machine Learning Repository</a>."
   ]
  },
  {
   "cell_type": "markdown",
   "metadata": {},
   "source": [
    "## Data Science Competition Sites\n",
    "\n",
    "Another example of data hosting website is a data science competition site. One of the most popular is <a href = \"https://www.kaggle.com/\">Kaggle</a>. These sites host competitions, often with prizes attached. They also have pages of user submitted data sets, <a href=\"https://www.kaggle.com/datasets\">https://www.kaggle.com/datasets</a>.\n",
    "\n",
    "\n",
    "Other data competition websites include: \n",
    "- <a href = \"https://www.drivendata.org/\">DrivenData</a>, \n",
    "- <a href = \"https://www.crowdanalytix.com/community\">CrowdANALYTIX</a>, and\n",
    "- <a href = \"https://codalab.org/\">CodaLab</a>."
   ]
  },
  {
   "cell_type": "markdown",
   "metadata": {},
   "source": [
    "## Data on GitHub Repositories\n",
    "\n",
    "Another source of data on the web is GitHub. Many popular news sites will post their interesting data sets on their GitHub accounts. Some popular examples are:\n",
    "- The <a href=\"https://fivethirtyeight.com/\">FiveThirtyEight</a> repository, <a href=\"https://github.com/fivethirtyeight/\">https://github.com/fivethirtyeight/</a>,\n",
    "- The <a href=\"https://pudding.cool/\">pudding.cool</a> repository, <a href=\"https://github.com/the-pudding/data\">https://github.com/the-pudding/data</a>,\n",
    "- <a href=\"https://www.nytimes.com/\">The New York Times</a> repository, <a href=\"https://github.com/nytimes\">https://github.com/nytimes</a>\n",
    "\n",
    "There are many more data repositories out there, if there is a site with data that you are interested in there's a chance that they have a repository associated with it."
   ]
  },
  {
   "cell_type": "markdown",
   "metadata": {},
   "source": [
    "## That's it!\n",
    "\n",
    "Up next a `pandas` refresher!"
   ]
  },
  {
   "cell_type": "markdown",
   "metadata": {},
   "source": [
    "This notebook was written for the Erd&#337;s Institute C&#337;de Data Science Boot Camp by Matthew Osborne, Ph. D., 2021.\n",
    "\n",
    "Redistribution of the material contained in this repository is conditional on acknowledgement of Matthew Tyler Osborne, Ph.D.'s original authorship and sponsorship of the Erdős Institute as subject to the license (see License.md)"
   ]
  },
  {
   "cell_type": "code",
   "execution_count": null,
   "metadata": {},
   "outputs": [],
   "source": []
  }
 ],
 "metadata": {
  "kernelspec": {
   "display_name": "Python 3",
   "language": "python",
   "name": "python3"
  },
  "language_info": {
   "codemirror_mode": {
    "name": "ipython",
    "version": 3
   },
   "file_extension": ".py",
   "mimetype": "text/x-python",
   "name": "python",
   "nbconvert_exporter": "python",
   "pygments_lexer": "ipython3",
   "version": "3.7.4"
  }
 },
 "nbformat": 4,
 "nbformat_minor": 2
}
